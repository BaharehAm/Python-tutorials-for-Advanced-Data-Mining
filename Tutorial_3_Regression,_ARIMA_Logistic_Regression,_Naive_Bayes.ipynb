{
  "nbformat": 4,
  "nbformat_minor": 0,
  "metadata": {
    "colab": {
      "provenance": [],
      "mount_file_id": "1YQL9k430mLd1kQ-a4Atz4gFdVY8yR-y8",
      "authorship_tag": "ABX9TyPzURjfJ5PflbVSh+0TLwfp",
      "include_colab_link": true
    },
    "kernelspec": {
      "name": "python3",
      "display_name": "Python 3"
    },
    "language_info": {
      "name": "python"
    }
  },
  "cells": [
    {
      "cell_type": "markdown",
      "metadata": {
        "id": "view-in-github",
        "colab_type": "text"
      },
      "source": [
        "<a href=\"https://colab.research.google.com/github/BaharehAm/Python-tutorials-for-Advanced-Data-Mining/blob/main/Tutorial_3_Regression%2C_ARIMA_Logistic_Regression%2C_Naive_Bayes.ipynb\" target=\"_parent\"><img src=\"https://colab.research.google.com/assets/colab-badge.svg\" alt=\"Open In Colab\"/></a>"
      ]
    },
    {
      "cell_type": "markdown",
      "source": [
        "## Simple Regression model (Regression task)"
      ],
      "metadata": {
        "id": "z_LthIczsyWC"
      }
    },
    {
      "cell_type": "code",
      "execution_count": null,
      "metadata": {
        "id": "Zk1Wt5atozLg"
      },
      "outputs": [],
      "source": [
        "import pandas as pd\n",
        "from google.colab import files"
      ]
    },
    {
      "cell_type": "code",
      "source": [
        "data_to_load = files.upload()"
      ],
      "metadata": {
        "id": "JUJGF5zNtvjZ",
        "colab": {
          "base_uri": "https://localhost:8080/",
          "height": 73
        },
        "outputId": "4f0d2b1c-2f20-48f0-e120-ffcf3d58d41e"
      },
      "execution_count": null,
      "outputs": [
        {
          "output_type": "display_data",
          "data": {
            "text/plain": [
              "<IPython.core.display.HTML object>"
            ],
            "text/html": [
              "\n",
              "     <input type=\"file\" id=\"files-151876dd-9b2f-4f97-b5fc-8e645b2074ea\" name=\"files[]\" multiple disabled\n",
              "        style=\"border:none\" />\n",
              "     <output id=\"result-151876dd-9b2f-4f97-b5fc-8e645b2074ea\">\n",
              "      Upload widget is only available when the cell has been executed in the\n",
              "      current browser session. Please rerun this cell to enable.\n",
              "      </output>\n",
              "      <script>// Copyright 2017 Google LLC\n",
              "//\n",
              "// Licensed under the Apache License, Version 2.0 (the \"License\");\n",
              "// you may not use this file except in compliance with the License.\n",
              "// You may obtain a copy of the License at\n",
              "//\n",
              "//      http://www.apache.org/licenses/LICENSE-2.0\n",
              "//\n",
              "// Unless required by applicable law or agreed to in writing, software\n",
              "// distributed under the License is distributed on an \"AS IS\" BASIS,\n",
              "// WITHOUT WARRANTIES OR CONDITIONS OF ANY KIND, either express or implied.\n",
              "// See the License for the specific language governing permissions and\n",
              "// limitations under the License.\n",
              "\n",
              "/**\n",
              " * @fileoverview Helpers for google.colab Python module.\n",
              " */\n",
              "(function(scope) {\n",
              "function span(text, styleAttributes = {}) {\n",
              "  const element = document.createElement('span');\n",
              "  element.textContent = text;\n",
              "  for (const key of Object.keys(styleAttributes)) {\n",
              "    element.style[key] = styleAttributes[key];\n",
              "  }\n",
              "  return element;\n",
              "}\n",
              "\n",
              "// Max number of bytes which will be uploaded at a time.\n",
              "const MAX_PAYLOAD_SIZE = 100 * 1024;\n",
              "\n",
              "function _uploadFiles(inputId, outputId) {\n",
              "  const steps = uploadFilesStep(inputId, outputId);\n",
              "  const outputElement = document.getElementById(outputId);\n",
              "  // Cache steps on the outputElement to make it available for the next call\n",
              "  // to uploadFilesContinue from Python.\n",
              "  outputElement.steps = steps;\n",
              "\n",
              "  return _uploadFilesContinue(outputId);\n",
              "}\n",
              "\n",
              "// This is roughly an async generator (not supported in the browser yet),\n",
              "// where there are multiple asynchronous steps and the Python side is going\n",
              "// to poll for completion of each step.\n",
              "// This uses a Promise to block the python side on completion of each step,\n",
              "// then passes the result of the previous step as the input to the next step.\n",
              "function _uploadFilesContinue(outputId) {\n",
              "  const outputElement = document.getElementById(outputId);\n",
              "  const steps = outputElement.steps;\n",
              "\n",
              "  const next = steps.next(outputElement.lastPromiseValue);\n",
              "  return Promise.resolve(next.value.promise).then((value) => {\n",
              "    // Cache the last promise value to make it available to the next\n",
              "    // step of the generator.\n",
              "    outputElement.lastPromiseValue = value;\n",
              "    return next.value.response;\n",
              "  });\n",
              "}\n",
              "\n",
              "/**\n",
              " * Generator function which is called between each async step of the upload\n",
              " * process.\n",
              " * @param {string} inputId Element ID of the input file picker element.\n",
              " * @param {string} outputId Element ID of the output display.\n",
              " * @return {!Iterable<!Object>} Iterable of next steps.\n",
              " */\n",
              "function* uploadFilesStep(inputId, outputId) {\n",
              "  const inputElement = document.getElementById(inputId);\n",
              "  inputElement.disabled = false;\n",
              "\n",
              "  const outputElement = document.getElementById(outputId);\n",
              "  outputElement.innerHTML = '';\n",
              "\n",
              "  const pickedPromise = new Promise((resolve) => {\n",
              "    inputElement.addEventListener('change', (e) => {\n",
              "      resolve(e.target.files);\n",
              "    });\n",
              "  });\n",
              "\n",
              "  const cancel = document.createElement('button');\n",
              "  inputElement.parentElement.appendChild(cancel);\n",
              "  cancel.textContent = 'Cancel upload';\n",
              "  const cancelPromise = new Promise((resolve) => {\n",
              "    cancel.onclick = () => {\n",
              "      resolve(null);\n",
              "    };\n",
              "  });\n",
              "\n",
              "  // Wait for the user to pick the files.\n",
              "  const files = yield {\n",
              "    promise: Promise.race([pickedPromise, cancelPromise]),\n",
              "    response: {\n",
              "      action: 'starting',\n",
              "    }\n",
              "  };\n",
              "\n",
              "  cancel.remove();\n",
              "\n",
              "  // Disable the input element since further picks are not allowed.\n",
              "  inputElement.disabled = true;\n",
              "\n",
              "  if (!files) {\n",
              "    return {\n",
              "      response: {\n",
              "        action: 'complete',\n",
              "      }\n",
              "    };\n",
              "  }\n",
              "\n",
              "  for (const file of files) {\n",
              "    const li = document.createElement('li');\n",
              "    li.append(span(file.name, {fontWeight: 'bold'}));\n",
              "    li.append(span(\n",
              "        `(${file.type || 'n/a'}) - ${file.size} bytes, ` +\n",
              "        `last modified: ${\n",
              "            file.lastModifiedDate ? file.lastModifiedDate.toLocaleDateString() :\n",
              "                                    'n/a'} - `));\n",
              "    const percent = span('0% done');\n",
              "    li.appendChild(percent);\n",
              "\n",
              "    outputElement.appendChild(li);\n",
              "\n",
              "    const fileDataPromise = new Promise((resolve) => {\n",
              "      const reader = new FileReader();\n",
              "      reader.onload = (e) => {\n",
              "        resolve(e.target.result);\n",
              "      };\n",
              "      reader.readAsArrayBuffer(file);\n",
              "    });\n",
              "    // Wait for the data to be ready.\n",
              "    let fileData = yield {\n",
              "      promise: fileDataPromise,\n",
              "      response: {\n",
              "        action: 'continue',\n",
              "      }\n",
              "    };\n",
              "\n",
              "    // Use a chunked sending to avoid message size limits. See b/62115660.\n",
              "    let position = 0;\n",
              "    do {\n",
              "      const length = Math.min(fileData.byteLength - position, MAX_PAYLOAD_SIZE);\n",
              "      const chunk = new Uint8Array(fileData, position, length);\n",
              "      position += length;\n",
              "\n",
              "      const base64 = btoa(String.fromCharCode.apply(null, chunk));\n",
              "      yield {\n",
              "        response: {\n",
              "          action: 'append',\n",
              "          file: file.name,\n",
              "          data: base64,\n",
              "        },\n",
              "      };\n",
              "\n",
              "      let percentDone = fileData.byteLength === 0 ?\n",
              "          100 :\n",
              "          Math.round((position / fileData.byteLength) * 100);\n",
              "      percent.textContent = `${percentDone}% done`;\n",
              "\n",
              "    } while (position < fileData.byteLength);\n",
              "  }\n",
              "\n",
              "  // All done.\n",
              "  yield {\n",
              "    response: {\n",
              "      action: 'complete',\n",
              "    }\n",
              "  };\n",
              "}\n",
              "\n",
              "scope.google = scope.google || {};\n",
              "scope.google.colab = scope.google.colab || {};\n",
              "scope.google.colab._files = {\n",
              "  _uploadFiles,\n",
              "  _uploadFilesContinue,\n",
              "};\n",
              "})(self);\n",
              "</script> "
            ]
          },
          "metadata": {}
        },
        {
          "output_type": "stream",
          "name": "stdout",
          "text": [
            "Saving Sales.csv to Sales.csv\n"
          ]
        }
      ]
    },
    {
      "cell_type": "code",
      "source": [
        "data = pd.read_csv('Sales.csv')\n",
        "data"
      ],
      "metadata": {
        "id": "_aVZ7rAquVri",
        "colab": {
          "base_uri": "https://localhost:8080/",
          "height": 423
        },
        "outputId": "996ac9b6-938b-441f-b3d9-261a6661320a"
      },
      "execution_count": null,
      "outputs": [
        {
          "output_type": "execute_result",
          "data": {
            "text/plain": [
              "        TV  Radio  Newspaper  Sales\n",
              "0    230.1   37.8       69.2   22.1\n",
              "1     44.5   39.3       45.1   10.4\n",
              "2     17.2   45.9       69.3    9.3\n",
              "3    151.5   41.3       58.5   18.5\n",
              "4    180.8   10.8       58.4   12.9\n",
              "..     ...    ...        ...    ...\n",
              "195   38.2    3.7       13.8    7.6\n",
              "196   94.2    4.9        8.1    9.7\n",
              "197  177.0    9.3        6.4   12.8\n",
              "198  283.6   42.0       66.2   25.5\n",
              "199  232.1    8.6        8.7   13.4\n",
              "\n",
              "[200 rows x 4 columns]"
            ],
            "text/html": [
              "\n",
              "  <div id=\"df-7deb9ebc-467c-4a70-9a46-5ddd33ec752d\">\n",
              "    <div class=\"colab-df-container\">\n",
              "      <div>\n",
              "<style scoped>\n",
              "    .dataframe tbody tr th:only-of-type {\n",
              "        vertical-align: middle;\n",
              "    }\n",
              "\n",
              "    .dataframe tbody tr th {\n",
              "        vertical-align: top;\n",
              "    }\n",
              "\n",
              "    .dataframe thead th {\n",
              "        text-align: right;\n",
              "    }\n",
              "</style>\n",
              "<table border=\"1\" class=\"dataframe\">\n",
              "  <thead>\n",
              "    <tr style=\"text-align: right;\">\n",
              "      <th></th>\n",
              "      <th>TV</th>\n",
              "      <th>Radio</th>\n",
              "      <th>Newspaper</th>\n",
              "      <th>Sales</th>\n",
              "    </tr>\n",
              "  </thead>\n",
              "  <tbody>\n",
              "    <tr>\n",
              "      <th>0</th>\n",
              "      <td>230.1</td>\n",
              "      <td>37.8</td>\n",
              "      <td>69.2</td>\n",
              "      <td>22.1</td>\n",
              "    </tr>\n",
              "    <tr>\n",
              "      <th>1</th>\n",
              "      <td>44.5</td>\n",
              "      <td>39.3</td>\n",
              "      <td>45.1</td>\n",
              "      <td>10.4</td>\n",
              "    </tr>\n",
              "    <tr>\n",
              "      <th>2</th>\n",
              "      <td>17.2</td>\n",
              "      <td>45.9</td>\n",
              "      <td>69.3</td>\n",
              "      <td>9.3</td>\n",
              "    </tr>\n",
              "    <tr>\n",
              "      <th>3</th>\n",
              "      <td>151.5</td>\n",
              "      <td>41.3</td>\n",
              "      <td>58.5</td>\n",
              "      <td>18.5</td>\n",
              "    </tr>\n",
              "    <tr>\n",
              "      <th>4</th>\n",
              "      <td>180.8</td>\n",
              "      <td>10.8</td>\n",
              "      <td>58.4</td>\n",
              "      <td>12.9</td>\n",
              "    </tr>\n",
              "    <tr>\n",
              "      <th>...</th>\n",
              "      <td>...</td>\n",
              "      <td>...</td>\n",
              "      <td>...</td>\n",
              "      <td>...</td>\n",
              "    </tr>\n",
              "    <tr>\n",
              "      <th>195</th>\n",
              "      <td>38.2</td>\n",
              "      <td>3.7</td>\n",
              "      <td>13.8</td>\n",
              "      <td>7.6</td>\n",
              "    </tr>\n",
              "    <tr>\n",
              "      <th>196</th>\n",
              "      <td>94.2</td>\n",
              "      <td>4.9</td>\n",
              "      <td>8.1</td>\n",
              "      <td>9.7</td>\n",
              "    </tr>\n",
              "    <tr>\n",
              "      <th>197</th>\n",
              "      <td>177.0</td>\n",
              "      <td>9.3</td>\n",
              "      <td>6.4</td>\n",
              "      <td>12.8</td>\n",
              "    </tr>\n",
              "    <tr>\n",
              "      <th>198</th>\n",
              "      <td>283.6</td>\n",
              "      <td>42.0</td>\n",
              "      <td>66.2</td>\n",
              "      <td>25.5</td>\n",
              "    </tr>\n",
              "    <tr>\n",
              "      <th>199</th>\n",
              "      <td>232.1</td>\n",
              "      <td>8.6</td>\n",
              "      <td>8.7</td>\n",
              "      <td>13.4</td>\n",
              "    </tr>\n",
              "  </tbody>\n",
              "</table>\n",
              "<p>200 rows × 4 columns</p>\n",
              "</div>\n",
              "      <button class=\"colab-df-convert\" onclick=\"convertToInteractive('df-7deb9ebc-467c-4a70-9a46-5ddd33ec752d')\"\n",
              "              title=\"Convert this dataframe to an interactive table.\"\n",
              "              style=\"display:none;\">\n",
              "        \n",
              "  <svg xmlns=\"http://www.w3.org/2000/svg\" height=\"24px\"viewBox=\"0 0 24 24\"\n",
              "       width=\"24px\">\n",
              "    <path d=\"M0 0h24v24H0V0z\" fill=\"none\"/>\n",
              "    <path d=\"M18.56 5.44l.94 2.06.94-2.06 2.06-.94-2.06-.94-.94-2.06-.94 2.06-2.06.94zm-11 1L8.5 8.5l.94-2.06 2.06-.94-2.06-.94L8.5 2.5l-.94 2.06-2.06.94zm10 10l.94 2.06.94-2.06 2.06-.94-2.06-.94-.94-2.06-.94 2.06-2.06.94z\"/><path d=\"M17.41 7.96l-1.37-1.37c-.4-.4-.92-.59-1.43-.59-.52 0-1.04.2-1.43.59L10.3 9.45l-7.72 7.72c-.78.78-.78 2.05 0 2.83L4 21.41c.39.39.9.59 1.41.59.51 0 1.02-.2 1.41-.59l7.78-7.78 2.81-2.81c.8-.78.8-2.07 0-2.86zM5.41 20L4 18.59l7.72-7.72 1.47 1.35L5.41 20z\"/>\n",
              "  </svg>\n",
              "      </button>\n",
              "      \n",
              "  <style>\n",
              "    .colab-df-container {\n",
              "      display:flex;\n",
              "      flex-wrap:wrap;\n",
              "      gap: 12px;\n",
              "    }\n",
              "\n",
              "    .colab-df-convert {\n",
              "      background-color: #E8F0FE;\n",
              "      border: none;\n",
              "      border-radius: 50%;\n",
              "      cursor: pointer;\n",
              "      display: none;\n",
              "      fill: #1967D2;\n",
              "      height: 32px;\n",
              "      padding: 0 0 0 0;\n",
              "      width: 32px;\n",
              "    }\n",
              "\n",
              "    .colab-df-convert:hover {\n",
              "      background-color: #E2EBFA;\n",
              "      box-shadow: 0px 1px 2px rgba(60, 64, 67, 0.3), 0px 1px 3px 1px rgba(60, 64, 67, 0.15);\n",
              "      fill: #174EA6;\n",
              "    }\n",
              "\n",
              "    [theme=dark] .colab-df-convert {\n",
              "      background-color: #3B4455;\n",
              "      fill: #D2E3FC;\n",
              "    }\n",
              "\n",
              "    [theme=dark] .colab-df-convert:hover {\n",
              "      background-color: #434B5C;\n",
              "      box-shadow: 0px 1px 3px 1px rgba(0, 0, 0, 0.15);\n",
              "      filter: drop-shadow(0px 1px 2px rgba(0, 0, 0, 0.3));\n",
              "      fill: #FFFFFF;\n",
              "    }\n",
              "  </style>\n",
              "\n",
              "      <script>\n",
              "        const buttonEl =\n",
              "          document.querySelector('#df-7deb9ebc-467c-4a70-9a46-5ddd33ec752d button.colab-df-convert');\n",
              "        buttonEl.style.display =\n",
              "          google.colab.kernel.accessAllowed ? 'block' : 'none';\n",
              "\n",
              "        async function convertToInteractive(key) {\n",
              "          const element = document.querySelector('#df-7deb9ebc-467c-4a70-9a46-5ddd33ec752d');\n",
              "          const dataTable =\n",
              "            await google.colab.kernel.invokeFunction('convertToInteractive',\n",
              "                                                     [key], {});\n",
              "          if (!dataTable) return;\n",
              "\n",
              "          const docLinkHtml = 'Like what you see? Visit the ' +\n",
              "            '<a target=\"_blank\" href=https://colab.research.google.com/notebooks/data_table.ipynb>data table notebook</a>'\n",
              "            + ' to learn more about interactive tables.';\n",
              "          element.innerHTML = '';\n",
              "          dataTable['output_type'] = 'display_data';\n",
              "          await google.colab.output.renderOutput(dataTable, element);\n",
              "          const docLink = document.createElement('div');\n",
              "          docLink.innerHTML = docLinkHtml;\n",
              "          element.appendChild(docLink);\n",
              "        }\n",
              "      </script>\n",
              "    </div>\n",
              "  </div>\n",
              "  "
            ]
          },
          "metadata": {},
          "execution_count": 3
        }
      ]
    },
    {
      "cell_type": "code",
      "source": [
        "import matplotlib.pyplot as plt\n",
        "plt.scatter(data.TV, data.Sales)\n",
        "# plt.plot(data['Sales'])\n",
        "plt.title('Sales Vs. TV', fontsize=18)\n",
        "plt.xlabel('TV', fontsize=12)\n",
        "plt.ylabel('Sales')\n",
        "plt.show()"
      ],
      "metadata": {
        "id": "2xKlvIO17rCO",
        "colab": {
          "base_uri": "https://localhost:8080/",
          "height": 302
        },
        "outputId": "cf71d363-d634-43b6-d772-94bbfe9c5873"
      },
      "execution_count": null,
      "outputs": [
        {
          "output_type": "display_data",
          "data": {
            "text/plain": [
              "<Figure size 432x288 with 1 Axes>"
            ],
            "image/png": "[encoded data removed]"
          },
          "metadata": {
            "needs_background": "light"
          }
        }
      ]
    },
    {
      "cell_type": "code",
      "source": [
        "data.corr()"
      ],
      "metadata": {
        "id": "qybWj9QX5Uxn",
        "colab": {
          "base_uri": "https://localhost:8080/",
          "height": 175
        },
        "outputId": "856aba31-f830-4ab2-8725-c6f783007465"
      },
      "execution_count": null,
      "outputs": [
        {
          "output_type": "execute_result",
          "data": {
            "text/plain": [
              "                 TV     Radio  Newspaper     Sales\n",
              "TV         1.000000  0.054809   0.056648  0.782224\n",
              "Radio      0.054809  1.000000   0.354104  0.576223\n",
              "Newspaper  0.056648  0.354104   1.000000  0.228299\n",
              "Sales      0.782224  0.576223   0.228299  1.000000"
            ],
            "text/html": [
              "\n",
              "  <div id=\"df-56eb37c1-a62d-4468-be55-c72c65c62756\">\n",
              "    <div class=\"colab-df-container\">\n",
              "      <div>\n",
              "<style scoped>\n",
              "    .dataframe tbody tr th:only-of-type {\n",
              "        vertical-align: middle;\n",
              "    }\n",
              "\n",
              "    .dataframe tbody tr th {\n",
              "        vertical-align: top;\n",
              "    }\n",
              "\n",
              "    .dataframe thead th {\n",
              "        text-align: right;\n",
              "    }\n",
              "</style>\n",
              "<table border=\"1\" class=\"dataframe\">\n",
              "  <thead>\n",
              "    <tr style=\"text-align: right;\">\n",
              "      <th></th>\n",
              "      <th>TV</th>\n",
              "      <th>Radio</th>\n",
              "      <th>Newspaper</th>\n",
              "      <th>Sales</th>\n",
              "    </tr>\n",
              "  </thead>\n",
              "  <tbody>\n",
              "    <tr>\n",
              "      <th>TV</th>\n",
              "      <td>1.000000</td>\n",
              "      <td>0.054809</td>\n",
              "      <td>0.056648</td>\n",
              "      <td>0.782224</td>\n",
              "    </tr>\n",
              "    <tr>\n",
              "      <th>Radio</th>\n",
              "      <td>0.054809</td>\n",
              "      <td>1.000000</td>\n",
              "      <td>0.354104</td>\n",
              "      <td>0.576223</td>\n",
              "    </tr>\n",
              "    <tr>\n",
              "      <th>Newspaper</th>\n",
              "      <td>0.056648</td>\n",
              "      <td>0.354104</td>\n",
              "      <td>1.000000</td>\n",
              "      <td>0.228299</td>\n",
              "    </tr>\n",
              "    <tr>\n",
              "      <th>Sales</th>\n",
              "      <td>0.782224</td>\n",
              "      <td>0.576223</td>\n",
              "      <td>0.228299</td>\n",
              "      <td>1.000000</td>\n",
              "    </tr>\n",
              "  </tbody>\n",
              "</table>\n",
              "</div>\n",
              "      <button class=\"colab-df-convert\" onclick=\"convertToInteractive('df-56eb37c1-a62d-4468-be55-c72c65c62756')\"\n",
              "              title=\"Convert this dataframe to an interactive table.\"\n",
              "              style=\"display:none;\">\n",
              "        \n",
              "  <svg xmlns=\"http://www.w3.org/2000/svg\" height=\"24px\"viewBox=\"0 0 24 24\"\n",
              "       width=\"24px\">\n",
              "    <path d=\"M0 0h24v24H0V0z\" fill=\"none\"/>\n",
              "    <path d=\"M18.56 5.44l.94 2.06.94-2.06 2.06-.94-2.06-.94-.94-2.06-.94 2.06-2.06.94zm-11 1L8.5 8.5l.94-2.06 2.06-.94-2.06-.94L8.5 2.5l-.94 2.06-2.06.94zm10 10l.94 2.06.94-2.06 2.06-.94-2.06-.94-.94-2.06-.94 2.06-2.06.94z\"/><path d=\"M17.41 7.96l-1.37-1.37c-.4-.4-.92-.59-1.43-.59-.52 0-1.04.2-1.43.59L10.3 9.45l-7.72 7.72c-.78.78-.78 2.05 0 2.83L4 21.41c.39.39.9.59 1.41.59.51 0 1.02-.2 1.41-.59l7.78-7.78 2.81-2.81c.8-.78.8-2.07 0-2.86zM5.41 20L4 18.59l7.72-7.72 1.47 1.35L5.41 20z\"/>\n",
              "  </svg>\n",
              "      </button>\n",
              "      \n",
              "  <style>\n",
              "    .colab-df-container {\n",
              "      display:flex;\n",
              "      flex-wrap:wrap;\n",
              "      gap: 12px;\n",
              "    }\n",
              "\n",
              "    .colab-df-convert {\n",
              "      background-color: #E8F0FE;\n",
              "      border: none;\n",
              "      border-radius: 50%;\n",
              "      cursor: pointer;\n",
              "      display: none;\n",
              "      fill: #1967D2;\n",
              "      height: 32px;\n",
              "      padding: 0 0 0 0;\n",
              "      width: 32px;\n",
              "    }\n",
              "\n",
              "    .colab-df-convert:hover {\n",
              "      background-color: #E2EBFA;\n",
              "      box-shadow: 0px 1px 2px rgba(60, 64, 67, 0.3), 0px 1px 3px 1px rgba(60, 64, 67, 0.15);\n",
              "      fill: #174EA6;\n",
              "    }\n",
              "\n",
              "    [theme=dark] .colab-df-convert {\n",
              "      background-color: #3B4455;\n",
              "      fill: #D2E3FC;\n",
              "    }\n",
              "\n",
              "    [theme=dark] .colab-df-convert:hover {\n",
              "      background-color: #434B5C;\n",
              "      box-shadow: 0px 1px 3px 1px rgba(0, 0, 0, 0.15);\n",
              "      filter: drop-shadow(0px 1px 2px rgba(0, 0, 0, 0.3));\n",
              "      fill: #FFFFFF;\n",
              "    }\n",
              "  </style>\n",
              "\n",
              "      <script>\n",
              "        const buttonEl =\n",
              "          document.querySelector('#df-56eb37c1-a62d-4468-be55-c72c65c62756 button.colab-df-convert');\n",
              "        buttonEl.style.display =\n",
              "          google.colab.kernel.accessAllowed ? 'block' : 'none';\n",
              "\n",
              "        async function convertToInteractive(key) {\n",
              "          const element = document.querySelector('#df-56eb37c1-a62d-4468-be55-c72c65c62756');\n",
              "          const dataTable =\n",
              "            await google.colab.kernel.invokeFunction('convertToInteractive',\n",
              "                                                     [key], {});\n",
              "          if (!dataTable) return;\n",
              "\n",
              "          const docLinkHtml = 'Like what you see? Visit the ' +\n",
              "            '<a target=\"_blank\" href=https://colab.research.google.com/notebooks/data_table.ipynb>data table notebook</a>'\n",
              "            + ' to learn more about interactive tables.';\n",
              "          element.innerHTML = '';\n",
              "          dataTable['output_type'] = 'display_data';\n",
              "          await google.colab.output.renderOutput(dataTable, element);\n",
              "          const docLink = document.createElement('div');\n",
              "          docLink.innerHTML = docLinkHtml;\n",
              "          element.appendChild(docLink);\n",
              "        }\n",
              "      </script>\n",
              "    </div>\n",
              "  </div>\n",
              "  "
            ]
          },
          "metadata": {},
          "execution_count": 5
        }
      ]
    },
    {
      "cell_type": "code",
      "source": [
        "x = data[['TV', 'Radio', 'Newspaper']]\n",
        "y = data[['Sales']]"
      ],
      "metadata": {
        "id": "45twNpPS8uGg"
      },
      "execution_count": null,
      "outputs": []
    },
    {
      "cell_type": "code",
      "source": [
        "#Splitting the dataset\n",
        "# from sklearn.model_selection import train_test_split\n",
        "# x_train, x_test, y_train, y_test = train_test_split(x, y, test_size = 0.3, random_state = 100)\n",
        "# print('length of training set: {}, length of testing set: {}'.format(len(x_train),len(x_test)) )\n",
        "\n",
        "\n",
        "## split dataset into two parts: Training set, Testing set\n",
        "x_train = data.iloc[:140, 0:3]\n",
        "y_train = data.iloc[:140, 3:4]\n",
        "x_test= data.iloc[140:, 0:3]\n",
        "y_test = data.iloc[140:, 3:4]\n",
        "print('length of training set: {}, length of testing set: {}'.format(len(x_train),len(x_test)) )"
      ],
      "metadata": {
        "id": "KyjTD-c28lG_",
        "colab": {
          "base_uri": "https://localhost:8080/"
        },
        "outputId": "32ad5205-e299-446b-f2fd-ecc595944266"
      },
      "execution_count": null,
      "outputs": [
        {
          "output_type": "stream",
          "name": "stdout",
          "text": [
            "length of training set: 140, length of testing set: 60\n"
          ]
        }
      ]
    },
    {
      "cell_type": "code",
      "source": [
        "# with sklearn\n",
        "from sklearn import linear_model\n",
        "regr = linear_model.LinearRegression()\n",
        "regr.fit(x_train, y_train)\n",
        "\n",
        "print('Intercept: \\n', regr.intercept_)\n",
        "print('Coefficients: \\n',list(zip(x, regr.coef_)))\n",
        "\n",
        "# with statsmodels\n",
        "import statsmodels.api as sm\n",
        "x = sm.add_constant(x_train) # adding a constant\n",
        "\n",
        "model = sm.OLS(y_train, x_train)\n",
        "model = model.fit()\n",
        "\n",
        "predictions = model.predict(x_train)\n",
        "predictions\n",
        "\n",
        "print_model = model.summary()\n",
        "print(print_model)"
      ],
      "metadata": {
        "id": "Uh4-0r9h5wHC",
        "colab": {
          "base_uri": "https://localhost:8080/"
        },
        "outputId": "26a3b292-ba8b-4448-8c87-85cfd854339e"
      },
      "execution_count": null,
      "outputs": [
        {
          "output_type": "stream",
          "name": "stdout",
          "text": [
            "Intercept: \n",
            " [3.04514221]\n",
            "Coefficients: \n",
            " [('TV', array([ 0.04704868,  0.17968299, -0.00300557]))]\n",
            "                                 OLS Regression Results                                \n",
            "=======================================================================================\n",
            "Dep. Variable:                  Sales   R-squared (uncentered):                   0.981\n",
            "Model:                            OLS   Adj. R-squared (uncentered):              0.981\n",
            "Method:                 Least Squares   F-statistic:                              2411.\n",
            "Date:                Sat, 28 Jan 2023   Prob (F-statistic):                   2.61e-118\n",
            "Time:                        02:03:07   Log-Likelihood:                         -299.67\n",
            "No. Observations:                 140   AIC:                                      605.3\n",
            "Df Residuals:                     137   BIC:                                      614.2\n",
            "Df Model:                           3                                                  \n",
            "Covariance Type:            nonrobust                                                  \n",
            "==============================================================================\n",
            "                 coef    std err          t      P>|t|      [0.025      0.975]\n",
            "------------------------------------------------------------------------------\n",
            "TV             0.0549      0.002     33.389      0.000       0.052       0.058\n",
            "Radio          0.2157      0.012     18.492      0.000       0.193       0.239\n",
            "Newspaper      0.0156      0.008      1.971      0.051   -5.38e-05       0.031\n",
            "==============================================================================\n",
            "Omnibus:                        4.914   Durbin-Watson:                   2.084\n",
            "Prob(Omnibus):                  0.086   Jarque-Bera (JB):                5.326\n",
            "Skew:                          -0.242   Prob(JB):                       0.0697\n",
            "Kurtosis:                       3.823   Cond. No.                         12.6\n",
            "==============================================================================\n",
            "\n",
            "Notes:\n",
            "[1] R² is computed without centering (uncentered) since the model does not contain a constant.\n",
            "[2] Standard Errors assume that the covariance matrix of the errors is correctly specified.\n"
          ]
        },
        {
          "output_type": "stream",
          "name": "stderr",
          "text": [
            "/usr/local/lib/python3.8/dist-packages/statsmodels/tsa/tsatools.py:142: FutureWarning: In a future version of pandas all arguments of concat except for the argument 'objs' will be keyword-only\n",
            "  x = pd.concat(x[::order], 1)\n"
          ]
        }
      ]
    },
    {
      "cell_type": "code",
      "source": [
        "#Prediction on test set\n",
        "y_pred= model.predict(x_test)\n",
        "y_pred\n"
      ],
      "metadata": {
        "id": "cNkmVAsQ9RlG",
        "colab": {
          "base_uri": "https://localhost:8080/"
        },
        "outputId": "ff0a6469-096a-4fa3-bd88-c8af1d54aab3"
      },
      "execution_count": null,
      "outputs": [
        {
          "output_type": "execute_result",
          "data": {
            "text/plain": [
              "140     7.895692\n",
              "141    19.442425\n",
              "142    19.851620\n",
              "143     7.505168\n",
              "144     9.077138\n",
              "145     8.249146\n",
              "146    14.885946\n",
              "147    24.605027\n",
              "148    10.963306\n",
              "149     8.338777\n",
              "150    18.978167\n",
              "151     9.210175\n",
              "152    16.090523\n",
              "153    18.550627\n",
              "154    15.005016\n",
              "155     2.815861\n",
              "156    15.322121\n",
              "157     8.879263\n",
              "158     9.305123\n",
              "159    11.734832\n",
              "160    13.848370\n",
              "161    13.192558\n",
              "162    14.641505\n",
              "163    17.025312\n",
              "164     9.686410\n",
              "165    14.922221\n",
              "166     9.428915\n",
              "167    12.772174\n",
              "168    17.807740\n",
              "169    17.987495\n",
              "170     5.532428\n",
              "171    14.273322\n",
              "172     5.675833\n",
              "173    10.971984\n",
              "174    13.141903\n",
              "175    26.393877\n",
              "176    20.461560\n",
              "177    11.570502\n",
              "178    16.049468\n",
              "179    11.518592\n",
              "180     9.283727\n",
              "181    13.581924\n",
              "182     4.775964\n",
              "183    26.175501\n",
              "184    18.989183\n",
              "185    21.282949\n",
              "186     8.522403\n",
              "187    16.960883\n",
              "188    18.750560\n",
              "189     4.000485\n",
              "190    11.123209\n",
              "191     6.566164\n",
              "192     2.320235\n",
              "193    18.268884\n",
              "194    15.987377\n",
              "195     3.109233\n",
              "196     6.352422\n",
              "197    11.818821\n",
              "198    25.653107\n",
              "199    14.727343\n",
              "dtype: float64"
            ]
          },
          "metadata": {},
          "execution_count": 10
        }
      ]
    },
    {
      "cell_type": "code",
      "source": [
        "y_pred.shape"
      ],
      "metadata": {
        "colab": {
          "base_uri": "https://localhost:8080/"
        },
        "id": "T46_45eSYuHQ",
        "outputId": "2f5ecbeb-b561-470c-ddd8-749a285cf0cd"
      },
      "execution_count": null,
      "outputs": [
        {
          "output_type": "execute_result",
          "data": {
            "text/plain": [
              "(60,)"
            ]
          },
          "metadata": {},
          "execution_count": 11
        }
      ]
    },
    {
      "cell_type": "code",
      "source": [
        "y_test.Sales"
      ],
      "metadata": {
        "colab": {
          "base_uri": "https://localhost:8080/"
        },
        "id": "UtuMDqB-dVlx",
        "outputId": "8bea1da1-132f-46bb-8991-8f9bec3630a8"
      },
      "execution_count": null,
      "outputs": [
        {
          "output_type": "execute_result",
          "data": {
            "text/plain": [
              "140    10.9\n",
              "141    19.2\n",
              "142    20.1\n",
              "143    10.4\n",
              "144    11.4\n",
              "145    10.3\n",
              "146    13.2\n",
              "147    25.4\n",
              "148    10.9\n",
              "149    10.1\n",
              "150    16.1\n",
              "151    11.6\n",
              "152    16.6\n",
              "153    19.0\n",
              "154    15.6\n",
              "155     3.2\n",
              "156    15.3\n",
              "157    10.1\n",
              "158     7.3\n",
              "159    12.9\n",
              "160    14.4\n",
              "161    13.3\n",
              "162    14.9\n",
              "163    18.0\n",
              "164    11.9\n",
              "165    11.9\n",
              "166     8.0\n",
              "167    12.2\n",
              "168    17.1\n",
              "169    15.0\n",
              "170     8.4\n",
              "171    14.5\n",
              "172     7.6\n",
              "173    11.7\n",
              "174    11.5\n",
              "175    27.0\n",
              "176    20.2\n",
              "177    11.7\n",
              "178    11.8\n",
              "179    12.6\n",
              "180    10.5\n",
              "181    12.2\n",
              "182     8.7\n",
              "183    26.2\n",
              "184    17.6\n",
              "185    22.6\n",
              "186    10.3\n",
              "187    17.3\n",
              "188    15.9\n",
              "189     6.7\n",
              "190    10.8\n",
              "191     9.9\n",
              "192     5.9\n",
              "193    19.6\n",
              "194    17.3\n",
              "195     7.6\n",
              "196     9.7\n",
              "197    12.8\n",
              "198    25.5\n",
              "199    13.4\n",
              "Name: Sales, dtype: float64"
            ]
          },
          "metadata": {},
          "execution_count": 12
        }
      ]
    },
    {
      "cell_type": "code",
      "source": [
        "# #Actual value and the predicted value\n",
        "# pred_actual = pd.DataFrame({'Actual value': y_test, 'Predicted value': y_pred})\n",
        "# pred_actual.head()\n",
        "\n",
        "\n",
        "\n",
        "# Actual value and the predicted value\n",
        "\n",
        "# y_pred = y_pred.reshape(-1,)\n",
        "# y_pred.shape\n",
        "\n",
        "# y_pred=y_pred[:,0]\n",
        "# y_pred.shape\n",
        "\n",
        "pred_actual = pd.DataFrame({'Actual value': y_test.Sales, 'Predicted value': y_pred})\n",
        "pred_actual.head()"
      ],
      "metadata": {
        "id": "6ff80IbGDwPn",
        "colab": {
          "base_uri": "https://localhost:8080/",
          "height": 206
        },
        "outputId": "67a69813-aea5-43bd-c734-1ca21a221162"
      },
      "execution_count": null,
      "outputs": [
        {
          "output_type": "execute_result",
          "data": {
            "text/plain": [
              "     Actual value  Predicted value\n",
              "140          10.9         7.895692\n",
              "141          19.2        19.442425\n",
              "142          20.1        19.851620\n",
              "143          10.4         7.505168\n",
              "144          11.4         9.077138"
            ],
            "text/html": [
              "\n",
              "  <div id=\"df-8b4fc077-900b-4e4d-986d-6ff5ea8fa8c7\">\n",
              "    <div class=\"colab-df-container\">\n",
              "      <div>\n",
              "<style scoped>\n",
              "    .dataframe tbody tr th:only-of-type {\n",
              "        vertical-align: middle;\n",
              "    }\n",
              "\n",
              "    .dataframe tbody tr th {\n",
              "        vertical-align: top;\n",
              "    }\n",
              "\n",
              "    .dataframe thead th {\n",
              "        text-align: right;\n",
              "    }\n",
              "</style>\n",
              "<table border=\"1\" class=\"dataframe\">\n",
              "  <thead>\n",
              "    <tr style=\"text-align: right;\">\n",
              "      <th></th>\n",
              "      <th>Actual value</th>\n",
              "      <th>Predicted value</th>\n",
              "    </tr>\n",
              "  </thead>\n",
              "  <tbody>\n",
              "    <tr>\n",
              "      <th>140</th>\n",
              "      <td>10.9</td>\n",
              "      <td>7.895692</td>\n",
              "    </tr>\n",
              "    <tr>\n",
              "      <th>141</th>\n",
              "      <td>19.2</td>\n",
              "      <td>19.442425</td>\n",
              "    </tr>\n",
              "    <tr>\n",
              "      <th>142</th>\n",
              "      <td>20.1</td>\n",
              "      <td>19.851620</td>\n",
              "    </tr>\n",
              "    <tr>\n",
              "      <th>143</th>\n",
              "      <td>10.4</td>\n",
              "      <td>7.505168</td>\n",
              "    </tr>\n",
              "    <tr>\n",
              "      <th>144</th>\n",
              "      <td>11.4</td>\n",
              "      <td>9.077138</td>\n",
              "    </tr>\n",
              "  </tbody>\n",
              "</table>\n",
              "</div>\n",
              "      <button class=\"colab-df-convert\" onclick=\"convertToInteractive('df-8b4fc077-900b-4e4d-986d-6ff5ea8fa8c7')\"\n",
              "              title=\"Convert this dataframe to an interactive table.\"\n",
              "              style=\"display:none;\">\n",
              "        \n",
              "  <svg xmlns=\"http://www.w3.org/2000/svg\" height=\"24px\"viewBox=\"0 0 24 24\"\n",
              "       width=\"24px\">\n",
              "    <path d=\"M0 0h24v24H0V0z\" fill=\"none\"/>\n",
              "    <path d=\"M18.56 5.44l.94 2.06.94-2.06 2.06-.94-2.06-.94-.94-2.06-.94 2.06-2.06.94zm-11 1L8.5 8.5l.94-2.06 2.06-.94-2.06-.94L8.5 2.5l-.94 2.06-2.06.94zm10 10l.94 2.06.94-2.06 2.06-.94-2.06-.94-.94-2.06-.94 2.06-2.06.94z\"/><path d=\"M17.41 7.96l-1.37-1.37c-.4-.4-.92-.59-1.43-.59-.52 0-1.04.2-1.43.59L10.3 9.45l-7.72 7.72c-.78.78-.78 2.05 0 2.83L4 21.41c.39.39.9.59 1.41.59.51 0 1.02-.2 1.41-.59l7.78-7.78 2.81-2.81c.8-.78.8-2.07 0-2.86zM5.41 20L4 18.59l7.72-7.72 1.47 1.35L5.41 20z\"/>\n",
              "  </svg>\n",
              "      </button>\n",
              "      \n",
              "  <style>\n",
              "    .colab-df-container {\n",
              "      display:flex;\n",
              "      flex-wrap:wrap;\n",
              "      gap: 12px;\n",
              "    }\n",
              "\n",
              "    .colab-df-convert {\n",
              "      background-color: #E8F0FE;\n",
              "      border: none;\n",
              "      border-radius: 50%;\n",
              "      cursor: pointer;\n",
              "      display: none;\n",
              "      fill: #1967D2;\n",
              "      height: 32px;\n",
              "      padding: 0 0 0 0;\n",
              "      width: 32px;\n",
              "    }\n",
              "\n",
              "    .colab-df-convert:hover {\n",
              "      background-color: #E2EBFA;\n",
              "      box-shadow: 0px 1px 2px rgba(60, 64, 67, 0.3), 0px 1px 3px 1px rgba(60, 64, 67, 0.15);\n",
              "      fill: #174EA6;\n",
              "    }\n",
              "\n",
              "    [theme=dark] .colab-df-convert {\n",
              "      background-color: #3B4455;\n",
              "      fill: #D2E3FC;\n",
              "    }\n",
              "\n",
              "    [theme=dark] .colab-df-convert:hover {\n",
              "      background-color: #434B5C;\n",
              "      box-shadow: 0px 1px 3px 1px rgba(0, 0, 0, 0.15);\n",
              "      filter: drop-shadow(0px 1px 2px rgba(0, 0, 0, 0.3));\n",
              "      fill: #FFFFFF;\n",
              "    }\n",
              "  </style>\n",
              "\n",
              "      <script>\n",
              "        const buttonEl =\n",
              "          document.querySelector('#df-8b4fc077-900b-4e4d-986d-6ff5ea8fa8c7 button.colab-df-convert');\n",
              "        buttonEl.style.display =\n",
              "          google.colab.kernel.accessAllowed ? 'block' : 'none';\n",
              "\n",
              "        async function convertToInteractive(key) {\n",
              "          const element = document.querySelector('#df-8b4fc077-900b-4e4d-986d-6ff5ea8fa8c7');\n",
              "          const dataTable =\n",
              "            await google.colab.kernel.invokeFunction('convertToInteractive',\n",
              "                                                     [key], {});\n",
              "          if (!dataTable) return;\n",
              "\n",
              "          const docLinkHtml = 'Like what you see? Visit the ' +\n",
              "            '<a target=\"_blank\" href=https://colab.research.google.com/notebooks/data_table.ipynb>data table notebook</a>'\n",
              "            + ' to learn more about interactive tables.';\n",
              "          element.innerHTML = '';\n",
              "          dataTable['output_type'] = 'display_data';\n",
              "          await google.colab.output.renderOutput(dataTable, element);\n",
              "          const docLink = document.createElement('div');\n",
              "          docLink.innerHTML = docLinkHtml;\n",
              "          element.appendChild(docLink);\n",
              "        }\n",
              "      </script>\n",
              "    </div>\n",
              "  </div>\n",
              "  "
            ]
          },
          "metadata": {},
          "execution_count": 13
        }
      ]
    },
    {
      "cell_type": "code",
      "source": [
        "#Model Evaluation\n",
        "from sklearn import metrics\n",
        "import numpy as np\n",
        "meanAbErr = metrics.mean_absolute_error(y_test, y_pred)\n",
        "meanSqErr = metrics.mean_squared_error(y_test, y_pred)\n",
        "rootMeanSqErr = np.sqrt(meanSqErr)\n",
        "print('Mean Absolute Error:', meanAbErr)\n",
        "print('Mean Square Error:', meanSqErr)\n",
        "print('Root Mean Square Error:', rootMeanSqErr)"
      ],
      "metadata": {
        "id": "S3JyhvzN9ilL",
        "colab": {
          "base_uri": "https://localhost:8080/"
        },
        "outputId": "b71ae2c7-edb8-4ef2-86ed-9c92bef0a38a"
      },
      "execution_count": null,
      "outputs": [
        {
          "output_type": "stream",
          "name": "stdout",
          "text": [
            "Mean Absolute Error: 1.5054879883236036\n",
            "Mean Square Error: 3.6728247836055186\n",
            "Root Mean Square Error: 1.9164615267741532\n"
          ]
        }
      ]
    },
    {
      "cell_type": "code",
      "source": [
        "# Make as pandas series\n",
        "y_pred = pd.Series(y_pred, index=y_test.index)\n",
        "\n",
        "# Plot\n",
        "plt.figure(figsize=(15,4))\n",
        "plt.plot(y_train, label='training')\n",
        "plt.plot(y_test, label='actual')\n",
        "plt.plot(y_pred, label='predicted')\n",
        "plt.title('Forecast vs Actuals')\n",
        "plt.legend(loc='upper left', fontsize=8)\n",
        "plt.show()"
      ],
      "metadata": {
        "id": "Irru3iYj-AFy",
        "colab": {
          "base_uri": "https://localhost:8080/",
          "height": 281
        },
        "outputId": "28659cba-2919-43e9-ba38-d32f867cd4a0"
      },
      "execution_count": null,
      "outputs": [
        {
          "output_type": "display_data",
          "data": {
            "text/plain": [
              "<Figure size 1080x288 with 1 Axes>"
            ],
            "image/png": "[encoded data removed]"
          },
          "metadata": {
            "needs_background": "light"
          }
        }
      ]
    },
    {
      "cell_type": "markdown",
      "source": [
        "## Regression with time component"
      ],
      "metadata": {
        "id": "kPUoR0AbPmVr"
      }
    },
    {
      "cell_type": "code",
      "source": [
        "data_to_load = files.upload()"
      ],
      "metadata": {
        "colab": {
          "base_uri": "https://localhost:8080/",
          "height": 73
        },
        "id": "cfUTHDkHecRM",
        "outputId": "35861bdc-364b-4e29-a135-56235c36bc37"
      },
      "execution_count": null,
      "outputs": [
        {
          "output_type": "display_data",
          "data": {
            "text/plain": [
              "<IPython.core.display.HTML object>"
            ],
            "text/html": [
              "\n",
              "     <input type=\"file\" id=\"files-ea32a728-ca58-4654-a6ab-26d602e6fadb\" name=\"files[]\" multiple disabled\n",
              "        style=\"border:none\" />\n",
              "     <output id=\"result-ea32a728-ca58-4654-a6ab-26d602e6fadb\">\n",
              "      Upload widget is only available when the cell has been executed in the\n",
              "      current browser session. Please rerun this cell to enable.\n",
              "      </output>\n",
              "      <script>// Copyright 2017 Google LLC\n",
              "//\n",
              "// Licensed under the Apache License, Version 2.0 (the \"License\");\n",
              "// you may not use this file except in compliance with the License.\n",
              "// You may obtain a copy of the License at\n",
              "//\n",
              "//      http://www.apache.org/licenses/LICENSE-2.0\n",
              "//\n",
              "// Unless required by applicable law or agreed to in writing, software\n",
              "// distributed under the License is distributed on an \"AS IS\" BASIS,\n",
              "// WITHOUT WARRANTIES OR CONDITIONS OF ANY KIND, either express or implied.\n",
              "// See the License for the specific language governing permissions and\n",
              "// limitations under the License.\n",
              "\n",
              "/**\n",
              " * @fileoverview Helpers for google.colab Python module.\n",
              " */\n",
              "(function(scope) {\n",
              "function span(text, styleAttributes = {}) {\n",
              "  const element = document.createElement('span');\n",
              "  element.textContent = text;\n",
              "  for (const key of Object.keys(styleAttributes)) {\n",
              "    element.style[key] = styleAttributes[key];\n",
              "  }\n",
              "  return element;\n",
              "}\n",
              "\n",
              "// Max number of bytes which will be uploaded at a time.\n",
              "const MAX_PAYLOAD_SIZE = 100 * 1024;\n",
              "\n",
              "function _uploadFiles(inputId, outputId) {\n",
              "  const steps = uploadFilesStep(inputId, outputId);\n",
              "  const outputElement = document.getElementById(outputId);\n",
              "  // Cache steps on the outputElement to make it available for the next call\n",
              "  // to uploadFilesContinue from Python.\n",
              "  outputElement.steps = steps;\n",
              "\n",
              "  return _uploadFilesContinue(outputId);\n",
              "}\n",
              "\n",
              "// This is roughly an async generator (not supported in the browser yet),\n",
              "// where there are multiple asynchronous steps and the Python side is going\n",
              "// to poll for completion of each step.\n",
              "// This uses a Promise to block the python side on completion of each step,\n",
              "// then passes the result of the previous step as the input to the next step.\n",
              "function _uploadFilesContinue(outputId) {\n",
              "  const outputElement = document.getElementById(outputId);\n",
              "  const steps = outputElement.steps;\n",
              "\n",
              "  const next = steps.next(outputElement.lastPromiseValue);\n",
              "  return Promise.resolve(next.value.promise).then((value) => {\n",
              "    // Cache the last promise value to make it available to the next\n",
              "    // step of the generator.\n",
              "    outputElement.lastPromiseValue = value;\n",
              "    return next.value.response;\n",
              "  });\n",
              "}\n",
              "\n",
              "/**\n",
              " * Generator function which is called between each async step of the upload\n",
              " * process.\n",
              " * @param {string} inputId Element ID of the input file picker element.\n",
              " * @param {string} outputId Element ID of the output display.\n",
              " * @return {!Iterable<!Object>} Iterable of next steps.\n",
              " */\n",
              "function* uploadFilesStep(inputId, outputId) {\n",
              "  const inputElement = document.getElementById(inputId);\n",
              "  inputElement.disabled = false;\n",
              "\n",
              "  const outputElement = document.getElementById(outputId);\n",
              "  outputElement.innerHTML = '';\n",
              "\n",
              "  const pickedPromise = new Promise((resolve) => {\n",
              "    inputElement.addEventListener('change', (e) => {\n",
              "      resolve(e.target.files);\n",
              "    });\n",
              "  });\n",
              "\n",
              "  const cancel = document.createElement('button');\n",
              "  inputElement.parentElement.appendChild(cancel);\n",
              "  cancel.textContent = 'Cancel upload';\n",
              "  const cancelPromise = new Promise((resolve) => {\n",
              "    cancel.onclick = () => {\n",
              "      resolve(null);\n",
              "    };\n",
              "  });\n",
              "\n",
              "  // Wait for the user to pick the files.\n",
              "  const files = yield {\n",
              "    promise: Promise.race([pickedPromise, cancelPromise]),\n",
              "    response: {\n",
              "      action: 'starting',\n",
              "    }\n",
              "  };\n",
              "\n",
              "  cancel.remove();\n",
              "\n",
              "  // Disable the input element since further picks are not allowed.\n",
              "  inputElement.disabled = true;\n",
              "\n",
              "  if (!files) {\n",
              "    return {\n",
              "      response: {\n",
              "        action: 'complete',\n",
              "      }\n",
              "    };\n",
              "  }\n",
              "\n",
              "  for (const file of files) {\n",
              "    const li = document.createElement('li');\n",
              "    li.append(span(file.name, {fontWeight: 'bold'}));\n",
              "    li.append(span(\n",
              "        `(${file.type || 'n/a'}) - ${file.size} bytes, ` +\n",
              "        `last modified: ${\n",
              "            file.lastModifiedDate ? file.lastModifiedDate.toLocaleDateString() :\n",
              "                                    'n/a'} - `));\n",
              "    const percent = span('0% done');\n",
              "    li.appendChild(percent);\n",
              "\n",
              "    outputElement.appendChild(li);\n",
              "\n",
              "    const fileDataPromise = new Promise((resolve) => {\n",
              "      const reader = new FileReader();\n",
              "      reader.onload = (e) => {\n",
              "        resolve(e.target.result);\n",
              "      };\n",
              "      reader.readAsArrayBuffer(file);\n",
              "    });\n",
              "    // Wait for the data to be ready.\n",
              "    let fileData = yield {\n",
              "      promise: fileDataPromise,\n",
              "      response: {\n",
              "        action: 'continue',\n",
              "      }\n",
              "    };\n",
              "\n",
              "    // Use a chunked sending to avoid message size limits. See b/62115660.\n",
              "    let position = 0;\n",
              "    do {\n",
              "      const length = Math.min(fileData.byteLength - position, MAX_PAYLOAD_SIZE);\n",
              "      const chunk = new Uint8Array(fileData, position, length);\n",
              "      position += length;\n",
              "\n",
              "      const base64 = btoa(String.fromCharCode.apply(null, chunk));\n",
              "      yield {\n",
              "        response: {\n",
              "          action: 'append',\n",
              "          file: file.name,\n",
              "          data: base64,\n",
              "        },\n",
              "      };\n",
              "\n",
              "      let percentDone = fileData.byteLength === 0 ?\n",
              "          100 :\n",
              "          Math.round((position / fileData.byteLength) * 100);\n",
              "      percent.textContent = `${percentDone}% done`;\n",
              "\n",
              "    } while (position < fileData.byteLength);\n",
              "  }\n",
              "\n",
              "  // All done.\n",
              "  yield {\n",
              "    response: {\n",
              "      action: 'complete',\n",
              "    }\n",
              "  };\n",
              "}\n",
              "\n",
              "scope.google = scope.google || {};\n",
              "scope.google.colab = scope.google.colab || {};\n",
              "scope.google.colab._files = {\n",
              "  _uploadFiles,\n",
              "  _uploadFilesContinue,\n",
              "};\n",
              "})(self);\n",
              "</script> "
            ]
          },
          "metadata": {}
        },
        {
          "output_type": "stream",
          "name": "stdout",
          "text": [
            "Saving aus_airpassengers.csv to aus_airpassengers.csv\n"
          ]
        }
      ]
    },
    {
      "cell_type": "code",
      "source": [
        "data = pd.read_csv('aus_airpassengers.csv')\n",
        "data.head()"
      ],
      "metadata": {
        "id": "oXRkaNhlPlef",
        "colab": {
          "base_uri": "https://localhost:8080/",
          "height": 206
        },
        "outputId": "6c0f47f3-027f-4ffb-ce8b-9d21214beb32"
      },
      "execution_count": null,
      "outputs": [
        {
          "output_type": "execute_result",
          "data": {
            "text/plain": [
              "   Time  Year  Passengers\n",
              "0     1  1970      7.3187\n",
              "1     2  1971      7.3266\n",
              "2     3  1972      7.7956\n",
              "3     4  1973      9.3846\n",
              "4     5  1974     10.6647"
            ],
            "text/html": [
              "\n",
              "  <div id=\"df-e4357a5a-7eee-4df0-b9d9-724ec7df8464\">\n",
              "    <div class=\"colab-df-container\">\n",
              "      <div>\n",
              "<style scoped>\n",
              "    .dataframe tbody tr th:only-of-type {\n",
              "        vertical-align: middle;\n",
              "    }\n",
              "\n",
              "    .dataframe tbody tr th {\n",
              "        vertical-align: top;\n",
              "    }\n",
              "\n",
              "    .dataframe thead th {\n",
              "        text-align: right;\n",
              "    }\n",
              "</style>\n",
              "<table border=\"1\" class=\"dataframe\">\n",
              "  <thead>\n",
              "    <tr style=\"text-align: right;\">\n",
              "      <th></th>\n",
              "      <th>Time</th>\n",
              "      <th>Year</th>\n",
              "      <th>Passengers</th>\n",
              "    </tr>\n",
              "  </thead>\n",
              "  <tbody>\n",
              "    <tr>\n",
              "      <th>0</th>\n",
              "      <td>1</td>\n",
              "      <td>1970</td>\n",
              "      <td>7.3187</td>\n",
              "    </tr>\n",
              "    <tr>\n",
              "      <th>1</th>\n",
              "      <td>2</td>\n",
              "      <td>1971</td>\n",
              "      <td>7.3266</td>\n",
              "    </tr>\n",
              "    <tr>\n",
              "      <th>2</th>\n",
              "      <td>3</td>\n",
              "      <td>1972</td>\n",
              "      <td>7.7956</td>\n",
              "    </tr>\n",
              "    <tr>\n",
              "      <th>3</th>\n",
              "      <td>4</td>\n",
              "      <td>1973</td>\n",
              "      <td>9.3846</td>\n",
              "    </tr>\n",
              "    <tr>\n",
              "      <th>4</th>\n",
              "      <td>5</td>\n",
              "      <td>1974</td>\n",
              "      <td>10.6647</td>\n",
              "    </tr>\n",
              "  </tbody>\n",
              "</table>\n",
              "</div>\n",
              "      <button class=\"colab-df-convert\" onclick=\"convertToInteractive('df-e4357a5a-7eee-4df0-b9d9-724ec7df8464')\"\n",
              "              title=\"Convert this dataframe to an interactive table.\"\n",
              "              style=\"display:none;\">\n",
              "        \n",
              "  <svg xmlns=\"http://www.w3.org/2000/svg\" height=\"24px\"viewBox=\"0 0 24 24\"\n",
              "       width=\"24px\">\n",
              "    <path d=\"M0 0h24v24H0V0z\" fill=\"none\"/>\n",
              "    <path d=\"M18.56 5.44l.94 2.06.94-2.06 2.06-.94-2.06-.94-.94-2.06-.94 2.06-2.06.94zm-11 1L8.5 8.5l.94-2.06 2.06-.94-2.06-.94L8.5 2.5l-.94 2.06-2.06.94zm10 10l.94 2.06.94-2.06 2.06-.94-2.06-.94-.94-2.06-.94 2.06-2.06.94z\"/><path d=\"M17.41 7.96l-1.37-1.37c-.4-.4-.92-.59-1.43-.59-.52 0-1.04.2-1.43.59L10.3 9.45l-7.72 7.72c-.78.78-.78 2.05 0 2.83L4 21.41c.39.39.9.59 1.41.59.51 0 1.02-.2 1.41-.59l7.78-7.78 2.81-2.81c.8-.78.8-2.07 0-2.86zM5.41 20L4 18.59l7.72-7.72 1.47 1.35L5.41 20z\"/>\n",
              "  </svg>\n",
              "      </button>\n",
              "      \n",
              "  <style>\n",
              "    .colab-df-container {\n",
              "      display:flex;\n",
              "      flex-wrap:wrap;\n",
              "      gap: 12px;\n",
              "    }\n",
              "\n",
              "    .colab-df-convert {\n",
              "      background-color: #E8F0FE;\n",
              "      border: none;\n",
              "      border-radius: 50%;\n",
              "      cursor: pointer;\n",
              "      display: none;\n",
              "      fill: #1967D2;\n",
              "      height: 32px;\n",
              "      padding: 0 0 0 0;\n",
              "      width: 32px;\n",
              "    }\n",
              "\n",
              "    .colab-df-convert:hover {\n",
              "      background-color: #E2EBFA;\n",
              "      box-shadow: 0px 1px 2px rgba(60, 64, 67, 0.3), 0px 1px 3px 1px rgba(60, 64, 67, 0.15);\n",
              "      fill: #174EA6;\n",
              "    }\n",
              "\n",
              "    [theme=dark] .colab-df-convert {\n",
              "      background-color: #3B4455;\n",
              "      fill: #D2E3FC;\n",
              "    }\n",
              "\n",
              "    [theme=dark] .colab-df-convert:hover {\n",
              "      background-color: #434B5C;\n",
              "      box-shadow: 0px 1px 3px 1px rgba(0, 0, 0, 0.15);\n",
              "      filter: drop-shadow(0px 1px 2px rgba(0, 0, 0, 0.3));\n",
              "      fill: #FFFFFF;\n",
              "    }\n",
              "  </style>\n",
              "\n",
              "      <script>\n",
              "        const buttonEl =\n",
              "          document.querySelector('#df-e4357a5a-7eee-4df0-b9d9-724ec7df8464 button.colab-df-convert');\n",
              "        buttonEl.style.display =\n",
              "          google.colab.kernel.accessAllowed ? 'block' : 'none';\n",
              "\n",
              "        async function convertToInteractive(key) {\n",
              "          const element = document.querySelector('#df-e4357a5a-7eee-4df0-b9d9-724ec7df8464');\n",
              "          const dataTable =\n",
              "            await google.colab.kernel.invokeFunction('convertToInteractive',\n",
              "                                                     [key], {});\n",
              "          if (!dataTable) return;\n",
              "\n",
              "          const docLinkHtml = 'Like what you see? Visit the ' +\n",
              "            '<a target=\"_blank\" href=https://colab.research.google.com/notebooks/data_table.ipynb>data table notebook</a>'\n",
              "            + ' to learn more about interactive tables.';\n",
              "          element.innerHTML = '';\n",
              "          dataTable['output_type'] = 'display_data';\n",
              "          await google.colab.output.renderOutput(dataTable, element);\n",
              "          const docLink = document.createElement('div');\n",
              "          docLink.innerHTML = docLinkHtml;\n",
              "          element.appendChild(docLink);\n",
              "        }\n",
              "      </script>\n",
              "    </div>\n",
              "  </div>\n",
              "  "
            ]
          },
          "metadata": {},
          "execution_count": 98
        }
      ]
    },
    {
      "cell_type": "code",
      "source": [
        "data['Time2']=data['Time']**2\n",
        "data.head()\n",
        "\n",
        "\n",
        "data = data.iloc[:, [0,3,1,2]]\n",
        "data.head()"
      ],
      "metadata": {
        "id": "QKXUrFE0SBzB",
        "colab": {
          "base_uri": "https://localhost:8080/",
          "height": 206
        },
        "outputId": "99b025e1-1f93-4021-ae1f-bdcd9c21706f"
      },
      "execution_count": null,
      "outputs": [
        {
          "output_type": "execute_result",
          "data": {
            "text/plain": [
              "   Time  Time2  Year  Passengers\n",
              "0     1      1  1970      7.3187\n",
              "1     2      4  1971      7.3266\n",
              "2     3      9  1972      7.7956\n",
              "3     4     16  1973      9.3846\n",
              "4     5     25  1974     10.6647"
            ],
            "text/html": [
              "\n",
              "  <div id=\"df-7e5abb22-c892-4327-b14e-71e7e61817f7\">\n",
              "    <div class=\"colab-df-container\">\n",
              "      <div>\n",
              "<style scoped>\n",
              "    .dataframe tbody tr th:only-of-type {\n",
              "        vertical-align: middle;\n",
              "    }\n",
              "\n",
              "    .dataframe tbody tr th {\n",
              "        vertical-align: top;\n",
              "    }\n",
              "\n",
              "    .dataframe thead th {\n",
              "        text-align: right;\n",
              "    }\n",
              "</style>\n",
              "<table border=\"1\" class=\"dataframe\">\n",
              "  <thead>\n",
              "    <tr style=\"text-align: right;\">\n",
              "      <th></th>\n",
              "      <th>Time</th>\n",
              "      <th>Time2</th>\n",
              "      <th>Year</th>\n",
              "      <th>Passengers</th>\n",
              "    </tr>\n",
              "  </thead>\n",
              "  <tbody>\n",
              "    <tr>\n",
              "      <th>0</th>\n",
              "      <td>1</td>\n",
              "      <td>1</td>\n",
              "      <td>1970</td>\n",
              "      <td>7.3187</td>\n",
              "    </tr>\n",
              "    <tr>\n",
              "      <th>1</th>\n",
              "      <td>2</td>\n",
              "      <td>4</td>\n",
              "      <td>1971</td>\n",
              "      <td>7.3266</td>\n",
              "    </tr>\n",
              "    <tr>\n",
              "      <th>2</th>\n",
              "      <td>3</td>\n",
              "      <td>9</td>\n",
              "      <td>1972</td>\n",
              "      <td>7.7956</td>\n",
              "    </tr>\n",
              "    <tr>\n",
              "      <th>3</th>\n",
              "      <td>4</td>\n",
              "      <td>16</td>\n",
              "      <td>1973</td>\n",
              "      <td>9.3846</td>\n",
              "    </tr>\n",
              "    <tr>\n",
              "      <th>4</th>\n",
              "      <td>5</td>\n",
              "      <td>25</td>\n",
              "      <td>1974</td>\n",
              "      <td>10.6647</td>\n",
              "    </tr>\n",
              "  </tbody>\n",
              "</table>\n",
              "</div>\n",
              "      <button class=\"colab-df-convert\" onclick=\"convertToInteractive('df-7e5abb22-c892-4327-b14e-71e7e61817f7')\"\n",
              "              title=\"Convert this dataframe to an interactive table.\"\n",
              "              style=\"display:none;\">\n",
              "        \n",
              "  <svg xmlns=\"http://www.w3.org/2000/svg\" height=\"24px\"viewBox=\"0 0 24 24\"\n",
              "       width=\"24px\">\n",
              "    <path d=\"M0 0h24v24H0V0z\" fill=\"none\"/>\n",
              "    <path d=\"M18.56 5.44l.94 2.06.94-2.06 2.06-.94-2.06-.94-.94-2.06-.94 2.06-2.06.94zm-11 1L8.5 8.5l.94-2.06 2.06-.94-2.06-.94L8.5 2.5l-.94 2.06-2.06.94zm10 10l.94 2.06.94-2.06 2.06-.94-2.06-.94-.94-2.06-.94 2.06-2.06.94z\"/><path d=\"M17.41 7.96l-1.37-1.37c-.4-.4-.92-.59-1.43-.59-.52 0-1.04.2-1.43.59L10.3 9.45l-7.72 7.72c-.78.78-.78 2.05 0 2.83L4 21.41c.39.39.9.59 1.41.59.51 0 1.02-.2 1.41-.59l7.78-7.78 2.81-2.81c.8-.78.8-2.07 0-2.86zM5.41 20L4 18.59l7.72-7.72 1.47 1.35L5.41 20z\"/>\n",
              "  </svg>\n",
              "      </button>\n",
              "      \n",
              "  <style>\n",
              "    .colab-df-container {\n",
              "      display:flex;\n",
              "      flex-wrap:wrap;\n",
              "      gap: 12px;\n",
              "    }\n",
              "\n",
              "    .colab-df-convert {\n",
              "      background-color: #E8F0FE;\n",
              "      border: none;\n",
              "      border-radius: 50%;\n",
              "      cursor: pointer;\n",
              "      display: none;\n",
              "      fill: #1967D2;\n",
              "      height: 32px;\n",
              "      padding: 0 0 0 0;\n",
              "      width: 32px;\n",
              "    }\n",
              "\n",
              "    .colab-df-convert:hover {\n",
              "      background-color: #E2EBFA;\n",
              "      box-shadow: 0px 1px 2px rgba(60, 64, 67, 0.3), 0px 1px 3px 1px rgba(60, 64, 67, 0.15);\n",
              "      fill: #174EA6;\n",
              "    }\n",
              "\n",
              "    [theme=dark] .colab-df-convert {\n",
              "      background-color: #3B4455;\n",
              "      fill: #D2E3FC;\n",
              "    }\n",
              "\n",
              "    [theme=dark] .colab-df-convert:hover {\n",
              "      background-color: #434B5C;\n",
              "      box-shadow: 0px 1px 3px 1px rgba(0, 0, 0, 0.15);\n",
              "      filter: drop-shadow(0px 1px 2px rgba(0, 0, 0, 0.3));\n",
              "      fill: #FFFFFF;\n",
              "    }\n",
              "  </style>\n",
              "\n",
              "      <script>\n",
              "        const buttonEl =\n",
              "          document.querySelector('#df-7e5abb22-c892-4327-b14e-71e7e61817f7 button.colab-df-convert');\n",
              "        buttonEl.style.display =\n",
              "          google.colab.kernel.accessAllowed ? 'block' : 'none';\n",
              "\n",
              "        async function convertToInteractive(key) {\n",
              "          const element = document.querySelector('#df-7e5abb22-c892-4327-b14e-71e7e61817f7');\n",
              "          const dataTable =\n",
              "            await google.colab.kernel.invokeFunction('convertToInteractive',\n",
              "                                                     [key], {});\n",
              "          if (!dataTable) return;\n",
              "\n",
              "          const docLinkHtml = 'Like what you see? Visit the ' +\n",
              "            '<a target=\"_blank\" href=https://colab.research.google.com/notebooks/data_table.ipynb>data table notebook</a>'\n",
              "            + ' to learn more about interactive tables.';\n",
              "          element.innerHTML = '';\n",
              "          dataTable['output_type'] = 'display_data';\n",
              "          await google.colab.output.renderOutput(dataTable, element);\n",
              "          const docLink = document.createElement('div');\n",
              "          docLink.innerHTML = docLinkHtml;\n",
              "          element.appendChild(docLink);\n",
              "        }\n",
              "      </script>\n",
              "    </div>\n",
              "  </div>\n",
              "  "
            ]
          },
          "metadata": {},
          "execution_count": 100
        }
      ]
    },
    {
      "cell_type": "code",
      "source": [
        "plt.plot(data['Passengers'])"
      ],
      "metadata": {
        "id": "JeIVfQI2QsJU",
        "colab": {
          "base_uri": "https://localhost:8080/",
          "height": 282
        },
        "outputId": "ae3b8c58-a270-40ea-9bd8-45f553c125c6"
      },
      "execution_count": null,
      "outputs": [
        {
          "output_type": "execute_result",
          "data": {
            "text/plain": [
              "[<matplotlib.lines.Line2D at 0x7fc5ae1b2fd0>]"
            ]
          },
          "metadata": {},
          "execution_count": 101
        },
        {
          "output_type": "display_data",
          "data": {
            "text/plain": [
              "<Figure size 432x288 with 1 Axes>"
            ],
            "image/png": "[encoded data removed]"
          },
          "metadata": {
            "needs_background": "light"
          }
        }
      ]
    },
    {
      "cell_type": "code",
      "source": [
        "data.corr()"
      ],
      "metadata": {
        "id": "W5Xf07YrVRu8",
        "colab": {
          "base_uri": "https://localhost:8080/",
          "height": 174
        },
        "outputId": "db6aecea-7dda-4930-d74d-4eff35f61c73"
      },
      "execution_count": null,
      "outputs": [
        {
          "output_type": "execute_result",
          "data": {
            "text/plain": [
              "                Time     Time2      Year  Passengers\n",
              "Time        1.000000  0.969549  1.000000    0.954495\n",
              "Time2       0.969549  1.000000  0.969549    0.994308\n",
              "Year        1.000000  0.969549  1.000000    0.954495\n",
              "Passengers  0.954495  0.994308  0.954495    1.000000"
            ],
            "text/html": [
              "\n",
              "  <div id=\"df-255341d0-e128-4286-9426-d7c2f7b05844\">\n",
              "    <div class=\"colab-df-container\">\n",
              "      <div>\n",
              "<style scoped>\n",
              "    .dataframe tbody tr th:only-of-type {\n",
              "        vertical-align: middle;\n",
              "    }\n",
              "\n",
              "    .dataframe tbody tr th {\n",
              "        vertical-align: top;\n",
              "    }\n",
              "\n",
              "    .dataframe thead th {\n",
              "        text-align: right;\n",
              "    }\n",
              "</style>\n",
              "<table border=\"1\" class=\"dataframe\">\n",
              "  <thead>\n",
              "    <tr style=\"text-align: right;\">\n",
              "      <th></th>\n",
              "      <th>Time</th>\n",
              "      <th>Time2</th>\n",
              "      <th>Year</th>\n",
              "      <th>Passengers</th>\n",
              "    </tr>\n",
              "  </thead>\n",
              "  <tbody>\n",
              "    <tr>\n",
              "      <th>Time</th>\n",
              "      <td>1.000000</td>\n",
              "      <td>0.969549</td>\n",
              "      <td>1.000000</td>\n",
              "      <td>0.954495</td>\n",
              "    </tr>\n",
              "    <tr>\n",
              "      <th>Time2</th>\n",
              "      <td>0.969549</td>\n",
              "      <td>1.000000</td>\n",
              "      <td>0.969549</td>\n",
              "      <td>0.994308</td>\n",
              "    </tr>\n",
              "    <tr>\n",
              "      <th>Year</th>\n",
              "      <td>1.000000</td>\n",
              "      <td>0.969549</td>\n",
              "      <td>1.000000</td>\n",
              "      <td>0.954495</td>\n",
              "    </tr>\n",
              "    <tr>\n",
              "      <th>Passengers</th>\n",
              "      <td>0.954495</td>\n",
              "      <td>0.994308</td>\n",
              "      <td>0.954495</td>\n",
              "      <td>1.000000</td>\n",
              "    </tr>\n",
              "  </tbody>\n",
              "</table>\n",
              "</div>\n",
              "      <button class=\"colab-df-convert\" onclick=\"convertToInteractive('df-255341d0-e128-4286-9426-d7c2f7b05844')\"\n",
              "              title=\"Convert this dataframe to an interactive table.\"\n",
              "              style=\"display:none;\">\n",
              "        \n",
              "  <svg xmlns=\"http://www.w3.org/2000/svg\" height=\"24px\"viewBox=\"0 0 24 24\"\n",
              "       width=\"24px\">\n",
              "    <path d=\"M0 0h24v24H0V0z\" fill=\"none\"/>\n",
              "    <path d=\"M18.56 5.44l.94 2.06.94-2.06 2.06-.94-2.06-.94-.94-2.06-.94 2.06-2.06.94zm-11 1L8.5 8.5l.94-2.06 2.06-.94-2.06-.94L8.5 2.5l-.94 2.06-2.06.94zm10 10l.94 2.06.94-2.06 2.06-.94-2.06-.94-.94-2.06-.94 2.06-2.06.94z\"/><path d=\"M17.41 7.96l-1.37-1.37c-.4-.4-.92-.59-1.43-.59-.52 0-1.04.2-1.43.59L10.3 9.45l-7.72 7.72c-.78.78-.78 2.05 0 2.83L4 21.41c.39.39.9.59 1.41.59.51 0 1.02-.2 1.41-.59l7.78-7.78 2.81-2.81c.8-.78.8-2.07 0-2.86zM5.41 20L4 18.59l7.72-7.72 1.47 1.35L5.41 20z\"/>\n",
              "  </svg>\n",
              "      </button>\n",
              "      \n",
              "  <style>\n",
              "    .colab-df-container {\n",
              "      display:flex;\n",
              "      flex-wrap:wrap;\n",
              "      gap: 12px;\n",
              "    }\n",
              "\n",
              "    .colab-df-convert {\n",
              "      background-color: #E8F0FE;\n",
              "      border: none;\n",
              "      border-radius: 50%;\n",
              "      cursor: pointer;\n",
              "      display: none;\n",
              "      fill: #1967D2;\n",
              "      height: 32px;\n",
              "      padding: 0 0 0 0;\n",
              "      width: 32px;\n",
              "    }\n",
              "\n",
              "    .colab-df-convert:hover {\n",
              "      background-color: #E2EBFA;\n",
              "      box-shadow: 0px 1px 2px rgba(60, 64, 67, 0.3), 0px 1px 3px 1px rgba(60, 64, 67, 0.15);\n",
              "      fill: #174EA6;\n",
              "    }\n",
              "\n",
              "    [theme=dark] .colab-df-convert {\n",
              "      background-color: #3B4455;\n",
              "      fill: #D2E3FC;\n",
              "    }\n",
              "\n",
              "    [theme=dark] .colab-df-convert:hover {\n",
              "      background-color: #434B5C;\n",
              "      box-shadow: 0px 1px 3px 1px rgba(0, 0, 0, 0.15);\n",
              "      filter: drop-shadow(0px 1px 2px rgba(0, 0, 0, 0.3));\n",
              "      fill: #FFFFFF;\n",
              "    }\n",
              "  </style>\n",
              "\n",
              "      <script>\n",
              "        const buttonEl =\n",
              "          document.querySelector('#df-255341d0-e128-4286-9426-d7c2f7b05844 button.colab-df-convert');\n",
              "        buttonEl.style.display =\n",
              "          google.colab.kernel.accessAllowed ? 'block' : 'none';\n",
              "\n",
              "        async function convertToInteractive(key) {\n",
              "          const element = document.querySelector('#df-255341d0-e128-4286-9426-d7c2f7b05844');\n",
              "          const dataTable =\n",
              "            await google.colab.kernel.invokeFunction('convertToInteractive',\n",
              "                                                     [key], {});\n",
              "          if (!dataTable) return;\n",
              "\n",
              "          const docLinkHtml = 'Like what you see? Visit the ' +\n",
              "            '<a target=\"_blank\" href=https://colab.research.google.com/notebooks/data_table.ipynb>data table notebook</a>'\n",
              "            + ' to learn more about interactive tables.';\n",
              "          element.innerHTML = '';\n",
              "          dataTable['output_type'] = 'display_data';\n",
              "          await google.colab.output.renderOutput(dataTable, element);\n",
              "          const docLink = document.createElement('div');\n",
              "          docLink.innerHTML = docLinkHtml;\n",
              "          element.appendChild(docLink);\n",
              "        }\n",
              "      </script>\n",
              "    </div>\n",
              "  </div>\n",
              "  "
            ]
          },
          "metadata": {},
          "execution_count": 102
        }
      ]
    },
    {
      "cell_type": "code",
      "source": [
        "## split dataset into two parts: Training set, Testing set\n",
        "x_train = data.iloc[:30, 1:3]\n",
        "y_train = data.iloc[:30, 3:4]\n",
        "x_test= data.iloc[30:, 1:3]\n",
        "y_test = data.iloc[30:, 3:4]\n",
        "print('length of training set: {}, length of testing set: {}'.format(len(x_train),len(x_test)) )\n",
        "\n",
        "\n",
        "# with statsmodels\n",
        "import statsmodels.api as sm\n",
        "x = sm.add_constant(x_train) # adding a constant\n",
        "\n",
        "model = sm.OLS(y_train, x_train).fit()\n",
        "\n",
        "\n",
        "print_model = model.summary()\n",
        "print(print_model)"
      ],
      "metadata": {
        "id": "LcttHRhmQEHc",
        "colab": {
          "base_uri": "https://localhost:8080/"
        },
        "outputId": "8509fba6-8f51-4175-adb5-7eee4d1aa2cc"
      },
      "execution_count": null,
      "outputs": [
        {
          "output_type": "stream",
          "name": "stdout",
          "text": [
            "length of training set: 30, length of testing set: 17\n",
            "                                 OLS Regression Results                                \n",
            "=======================================================================================\n",
            "Dep. Variable:             Passengers   R-squared (uncentered):                   0.993\n",
            "Model:                            OLS   Adj. R-squared (uncentered):              0.992\n",
            "Method:                 Least Squares   F-statistic:                              1985.\n",
            "Date:                Fri, 27 Jan 2023   Prob (F-statistic):                    6.82e-31\n",
            "Time:                        23:07:45   Log-Likelihood:                         -56.223\n",
            "No. Observations:                  30   AIC:                                      116.4\n",
            "Df Residuals:                      28   BIC:                                      119.2\n",
            "Df Model:                           2                                                  \n",
            "Covariance Type:            nonrobust                                                  \n",
            "==============================================================================\n",
            "                 coef    std err          t      P>|t|      [0.025      0.975]\n",
            "------------------------------------------------------------------------------\n",
            "Time2          0.0270      0.001     24.938      0.000       0.025       0.029\n",
            "Year           0.0044      0.000     19.164      0.000       0.004       0.005\n",
            "==============================================================================\n",
            "Omnibus:                        3.707   Durbin-Watson:                   0.729\n",
            "Prob(Omnibus):                  0.157   Jarque-Bera (JB):                2.609\n",
            "Skew:                          -0.715   Prob(JB):                        0.271\n",
            "Kurtosis:                       3.200   Cond. No.                         7.40\n",
            "==============================================================================\n",
            "\n",
            "Notes:\n",
            "[1] R² is computed without centering (uncentered) since the model does not contain a constant.\n",
            "[2] Standard Errors assume that the covariance matrix of the errors is correctly specified.\n"
          ]
        },
        {
          "output_type": "stream",
          "name": "stderr",
          "text": [
            "/usr/local/lib/python3.8/dist-packages/statsmodels/tsa/tsatools.py:142: FutureWarning: In a future version of pandas all arguments of concat except for the argument 'objs' will be keyword-only\n",
            "  x = pd.concat(x[::order], 1)\n"
          ]
        }
      ]
    },
    {
      "cell_type": "code",
      "source": [
        "# Actual value and the predicted value\n",
        "y_pred = model.predict(x_test)\n",
        "\n",
        "pred_actual = pd.DataFrame({'Actual value': y_test.Passengers, 'Predicted value': y_pred})\n",
        "pred_actual.head()"
      ],
      "metadata": {
        "id": "RU415MmgQ9md",
        "colab": {
          "base_uri": "https://localhost:8080/",
          "height": 206
        },
        "outputId": "f427987b-8c43-49ca-b6c5-910c511db2b5"
      },
      "execution_count": null,
      "outputs": [
        {
          "output_type": "execute_result",
          "data": {
            "text/plain": [
              "    Actual value  Predicted value\n",
              "30     32.577569        34.710731\n",
              "31     33.477398        36.415922\n",
              "32     39.021581        38.175107\n",
              "33     41.386432        39.988287\n",
              "34     41.596552        41.855460"
            ],
            "text/html": [
              "\n",
              "  <div id=\"df-472c3d08-bced-4d97-913b-d39d805051c9\">\n",
              "    <div class=\"colab-df-container\">\n",
              "      <div>\n",
              "<style scoped>\n",
              "    .dataframe tbody tr th:only-of-type {\n",
              "        vertical-align: middle;\n",
              "    }\n",
              "\n",
              "    .dataframe tbody tr th {\n",
              "        vertical-align: top;\n",
              "    }\n",
              "\n",
              "    .dataframe thead th {\n",
              "        text-align: right;\n",
              "    }\n",
              "</style>\n",
              "<table border=\"1\" class=\"dataframe\">\n",
              "  <thead>\n",
              "    <tr style=\"text-align: right;\">\n",
              "      <th></th>\n",
              "      <th>Actual value</th>\n",
              "      <th>Predicted value</th>\n",
              "    </tr>\n",
              "  </thead>\n",
              "  <tbody>\n",
              "    <tr>\n",
              "      <th>30</th>\n",
              "      <td>32.577569</td>\n",
              "      <td>34.710731</td>\n",
              "    </tr>\n",
              "    <tr>\n",
              "      <th>31</th>\n",
              "      <td>33.477398</td>\n",
              "      <td>36.415922</td>\n",
              "    </tr>\n",
              "    <tr>\n",
              "      <th>32</th>\n",
              "      <td>39.021581</td>\n",
              "      <td>38.175107</td>\n",
              "    </tr>\n",
              "    <tr>\n",
              "      <th>33</th>\n",
              "      <td>41.386432</td>\n",
              "      <td>39.988287</td>\n",
              "    </tr>\n",
              "    <tr>\n",
              "      <th>34</th>\n",
              "      <td>41.596552</td>\n",
              "      <td>41.855460</td>\n",
              "    </tr>\n",
              "  </tbody>\n",
              "</table>\n",
              "</div>\n",
              "      <button class=\"colab-df-convert\" onclick=\"convertToInteractive('df-472c3d08-bced-4d97-913b-d39d805051c9')\"\n",
              "              title=\"Convert this dataframe to an interactive table.\"\n",
              "              style=\"display:none;\">\n",
              "        \n",
              "  <svg xmlns=\"http://www.w3.org/2000/svg\" height=\"24px\"viewBox=\"0 0 24 24\"\n",
              "       width=\"24px\">\n",
              "    <path d=\"M0 0h24v24H0V0z\" fill=\"none\"/>\n",
              "    <path d=\"M18.56 5.44l.94 2.06.94-2.06 2.06-.94-2.06-.94-.94-2.06-.94 2.06-2.06.94zm-11 1L8.5 8.5l.94-2.06 2.06-.94-2.06-.94L8.5 2.5l-.94 2.06-2.06.94zm10 10l.94 2.06.94-2.06 2.06-.94-2.06-.94-.94-2.06-.94 2.06-2.06.94z\"/><path d=\"M17.41 7.96l-1.37-1.37c-.4-.4-.92-.59-1.43-.59-.52 0-1.04.2-1.43.59L10.3 9.45l-7.72 7.72c-.78.78-.78 2.05 0 2.83L4 21.41c.39.39.9.59 1.41.59.51 0 1.02-.2 1.41-.59l7.78-7.78 2.81-2.81c.8-.78.8-2.07 0-2.86zM5.41 20L4 18.59l7.72-7.72 1.47 1.35L5.41 20z\"/>\n",
              "  </svg>\n",
              "      </button>\n",
              "      \n",
              "  <style>\n",
              "    .colab-df-container {\n",
              "      display:flex;\n",
              "      flex-wrap:wrap;\n",
              "      gap: 12px;\n",
              "    }\n",
              "\n",
              "    .colab-df-convert {\n",
              "      background-color: #E8F0FE;\n",
              "      border: none;\n",
              "      border-radius: 50%;\n",
              "      cursor: pointer;\n",
              "      display: none;\n",
              "      fill: #1967D2;\n",
              "      height: 32px;\n",
              "      padding: 0 0 0 0;\n",
              "      width: 32px;\n",
              "    }\n",
              "\n",
              "    .colab-df-convert:hover {\n",
              "      background-color: #E2EBFA;\n",
              "      box-shadow: 0px 1px 2px rgba(60, 64, 67, 0.3), 0px 1px 3px 1px rgba(60, 64, 67, 0.15);\n",
              "      fill: #174EA6;\n",
              "    }\n",
              "\n",
              "    [theme=dark] .colab-df-convert {\n",
              "      background-color: #3B4455;\n",
              "      fill: #D2E3FC;\n",
              "    }\n",
              "\n",
              "    [theme=dark] .colab-df-convert:hover {\n",
              "      background-color: #434B5C;\n",
              "      box-shadow: 0px 1px 3px 1px rgba(0, 0, 0, 0.15);\n",
              "      filter: drop-shadow(0px 1px 2px rgba(0, 0, 0, 0.3));\n",
              "      fill: #FFFFFF;\n",
              "    }\n",
              "  </style>\n",
              "\n",
              "      <script>\n",
              "        const buttonEl =\n",
              "          document.querySelector('#df-472c3d08-bced-4d97-913b-d39d805051c9 button.colab-df-convert');\n",
              "        buttonEl.style.display =\n",
              "          google.colab.kernel.accessAllowed ? 'block' : 'none';\n",
              "\n",
              "        async function convertToInteractive(key) {\n",
              "          const element = document.querySelector('#df-472c3d08-bced-4d97-913b-d39d805051c9');\n",
              "          const dataTable =\n",
              "            await google.colab.kernel.invokeFunction('convertToInteractive',\n",
              "                                                     [key], {});\n",
              "          if (!dataTable) return;\n",
              "\n",
              "          const docLinkHtml = 'Like what you see? Visit the ' +\n",
              "            '<a target=\"_blank\" href=https://colab.research.google.com/notebooks/data_table.ipynb>data table notebook</a>'\n",
              "            + ' to learn more about interactive tables.';\n",
              "          element.innerHTML = '';\n",
              "          dataTable['output_type'] = 'display_data';\n",
              "          await google.colab.output.renderOutput(dataTable, element);\n",
              "          const docLink = document.createElement('div');\n",
              "          docLink.innerHTML = docLinkHtml;\n",
              "          element.appendChild(docLink);\n",
              "        }\n",
              "      </script>\n",
              "    </div>\n",
              "  </div>\n",
              "  "
            ]
          },
          "metadata": {},
          "execution_count": 106
        }
      ]
    },
    {
      "cell_type": "code",
      "source": [
        "#Model Evaluation\n",
        "meanAbErr = metrics.mean_absolute_error(y_test, y_pred)\n",
        "meanSqErr = metrics.mean_squared_error(y_test, y_pred)\n",
        "rootMeanSqErr = np.sqrt(metrics.mean_squared_error(y_test, y_pred))\n",
        "print('Mean Absolute Error:', meanAbErr)\n",
        "print('Mean Square Error:', meanSqErr)\n",
        "print('Root Mean Square Error:', rootMeanSqErr)"
      ],
      "metadata": {
        "id": "CtJB5C8zRvom",
        "colab": {
          "base_uri": "https://localhost:8080/"
        },
        "outputId": "7d5cb147-05ee-4834-9b6a-1cebd8576857"
      },
      "execution_count": null,
      "outputs": [
        {
          "output_type": "stream",
          "name": "stdout",
          "text": [
            "Mean Absolute Error: 3.227824344738746\n",
            "Mean Square Error: 16.274852312630426\n",
            "Root Mean Square Error: 4.03421024645846\n"
          ]
        }
      ]
    },
    {
      "cell_type": "code",
      "source": [
        "# Plot\n",
        "\n",
        "plt.figure(figsize=(10,4))\n",
        "plt.plot(y_train, label='training')\n",
        "plt.plot(y_test, label='actual')\n",
        "plt.plot(y_pred, label='predicted')\n",
        "plt.title('Forecast vs Actuals')\n",
        "plt.legend(loc='upper left', fontsize=8)\n",
        "plt.show()"
      ],
      "metadata": {
        "id": "anF7jju3Rz8F",
        "colab": {
          "base_uri": "https://localhost:8080/",
          "height": 281
        },
        "outputId": "9b9c9fa9-7285-4e32-fac2-48a1adf4e3dd"
      },
      "execution_count": null,
      "outputs": [
        {
          "output_type": "display_data",
          "data": {
            "text/plain": [
              "<Figure size 720x288 with 1 Axes>"
            ],
            "image/png": "[encoded data removed]"
          },
          "metadata": {
            "needs_background": "light"
          }
        }
      ]
    },
    {
      "cell_type": "markdown",
      "source": [
        "## ARIMA model for time series data (Regression task)"
      ],
      "metadata": {
        "id": "ezX8EHu5sdeL"
      }
    },
    {
      "cell_type": "markdown",
      "source": [
        "ARIMA model explains a given time series based on its own past values, that is, its own lags and the lagged forecast errors, so that equation can be used to forecast future values."
      ],
      "metadata": {
        "id": "5aZrT30Y8Yyd"
      }
    },
    {
      "cell_type": "code",
      "source": [
        "data_to_load = files.upload()"
      ],
      "metadata": {
        "id": "Mhge6SvMZihV",
        "colab": {
          "base_uri": "https://localhost:8080/",
          "height": 73
        },
        "outputId": "27460cf0-a540-4c7d-db1e-9882037246ef"
      },
      "execution_count": null,
      "outputs": [
        {
          "output_type": "display_data",
          "data": {
            "text/plain": [
              "<IPython.core.display.HTML object>"
            ],
            "text/html": [
              "\n",
              "     <input type=\"file\" id=\"files-e80fb625-17cc-464c-be1b-7dbcd51a0d7e\" name=\"files[]\" multiple disabled\n",
              "        style=\"border:none\" />\n",
              "     <output id=\"result-e80fb625-17cc-464c-be1b-7dbcd51a0d7e\">\n",
              "      Upload widget is only available when the cell has been executed in the\n",
              "      current browser session. Please rerun this cell to enable.\n",
              "      </output>\n",
              "      <script>// Copyright 2017 Google LLC\n",
              "//\n",
              "// Licensed under the Apache License, Version 2.0 (the \"License\");\n",
              "// you may not use this file except in compliance with the License.\n",
              "// You may obtain a copy of the License at\n",
              "//\n",
              "//      http://www.apache.org/licenses/LICENSE-2.0\n",
              "//\n",
              "// Unless required by applicable law or agreed to in writing, software\n",
              "// distributed under the License is distributed on an \"AS IS\" BASIS,\n",
              "// WITHOUT WARRANTIES OR CONDITIONS OF ANY KIND, either express or implied.\n",
              "// See the License for the specific language governing permissions and\n",
              "// limitations under the License.\n",
              "\n",
              "/**\n",
              " * @fileoverview Helpers for google.colab Python module.\n",
              " */\n",
              "(function(scope) {\n",
              "function span(text, styleAttributes = {}) {\n",
              "  const element = document.createElement('span');\n",
              "  element.textContent = text;\n",
              "  for (const key of Object.keys(styleAttributes)) {\n",
              "    element.style[key] = styleAttributes[key];\n",
              "  }\n",
              "  return element;\n",
              "}\n",
              "\n",
              "// Max number of bytes which will be uploaded at a time.\n",
              "const MAX_PAYLOAD_SIZE = 100 * 1024;\n",
              "\n",
              "function _uploadFiles(inputId, outputId) {\n",
              "  const steps = uploadFilesStep(inputId, outputId);\n",
              "  const outputElement = document.getElementById(outputId);\n",
              "  // Cache steps on the outputElement to make it available for the next call\n",
              "  // to uploadFilesContinue from Python.\n",
              "  outputElement.steps = steps;\n",
              "\n",
              "  return _uploadFilesContinue(outputId);\n",
              "}\n",
              "\n",
              "// This is roughly an async generator (not supported in the browser yet),\n",
              "// where there are multiple asynchronous steps and the Python side is going\n",
              "// to poll for completion of each step.\n",
              "// This uses a Promise to block the python side on completion of each step,\n",
              "// then passes the result of the previous step as the input to the next step.\n",
              "function _uploadFilesContinue(outputId) {\n",
              "  const outputElement = document.getElementById(outputId);\n",
              "  const steps = outputElement.steps;\n",
              "\n",
              "  const next = steps.next(outputElement.lastPromiseValue);\n",
              "  return Promise.resolve(next.value.promise).then((value) => {\n",
              "    // Cache the last promise value to make it available to the next\n",
              "    // step of the generator.\n",
              "    outputElement.lastPromiseValue = value;\n",
              "    return next.value.response;\n",
              "  });\n",
              "}\n",
              "\n",
              "/**\n",
              " * Generator function which is called between each async step of the upload\n",
              " * process.\n",
              " * @param {string} inputId Element ID of the input file picker element.\n",
              " * @param {string} outputId Element ID of the output display.\n",
              " * @return {!Iterable<!Object>} Iterable of next steps.\n",
              " */\n",
              "function* uploadFilesStep(inputId, outputId) {\n",
              "  const inputElement = document.getElementById(inputId);\n",
              "  inputElement.disabled = false;\n",
              "\n",
              "  const outputElement = document.getElementById(outputId);\n",
              "  outputElement.innerHTML = '';\n",
              "\n",
              "  const pickedPromise = new Promise((resolve) => {\n",
              "    inputElement.addEventListener('change', (e) => {\n",
              "      resolve(e.target.files);\n",
              "    });\n",
              "  });\n",
              "\n",
              "  const cancel = document.createElement('button');\n",
              "  inputElement.parentElement.appendChild(cancel);\n",
              "  cancel.textContent = 'Cancel upload';\n",
              "  const cancelPromise = new Promise((resolve) => {\n",
              "    cancel.onclick = () => {\n",
              "      resolve(null);\n",
              "    };\n",
              "  });\n",
              "\n",
              "  // Wait for the user to pick the files.\n",
              "  const files = yield {\n",
              "    promise: Promise.race([pickedPromise, cancelPromise]),\n",
              "    response: {\n",
              "      action: 'starting',\n",
              "    }\n",
              "  };\n",
              "\n",
              "  cancel.remove();\n",
              "\n",
              "  // Disable the input element since further picks are not allowed.\n",
              "  inputElement.disabled = true;\n",
              "\n",
              "  if (!files) {\n",
              "    return {\n",
              "      response: {\n",
              "        action: 'complete',\n",
              "      }\n",
              "    };\n",
              "  }\n",
              "\n",
              "  for (const file of files) {\n",
              "    const li = document.createElement('li');\n",
              "    li.append(span(file.name, {fontWeight: 'bold'}));\n",
              "    li.append(span(\n",
              "        `(${file.type || 'n/a'}) - ${file.size} bytes, ` +\n",
              "        `last modified: ${\n",
              "            file.lastModifiedDate ? file.lastModifiedDate.toLocaleDateString() :\n",
              "                                    'n/a'} - `));\n",
              "    const percent = span('0% done');\n",
              "    li.appendChild(percent);\n",
              "\n",
              "    outputElement.appendChild(li);\n",
              "\n",
              "    const fileDataPromise = new Promise((resolve) => {\n",
              "      const reader = new FileReader();\n",
              "      reader.onload = (e) => {\n",
              "        resolve(e.target.result);\n",
              "      };\n",
              "      reader.readAsArrayBuffer(file);\n",
              "    });\n",
              "    // Wait for the data to be ready.\n",
              "    let fileData = yield {\n",
              "      promise: fileDataPromise,\n",
              "      response: {\n",
              "        action: 'continue',\n",
              "      }\n",
              "    };\n",
              "\n",
              "    // Use a chunked sending to avoid message size limits. See b/62115660.\n",
              "    let position = 0;\n",
              "    do {\n",
              "      const length = Math.min(fileData.byteLength - position, MAX_PAYLOAD_SIZE);\n",
              "      const chunk = new Uint8Array(fileData, position, length);\n",
              "      position += length;\n",
              "\n",
              "      const base64 = btoa(String.fromCharCode.apply(null, chunk));\n",
              "      yield {\n",
              "        response: {\n",
              "          action: 'append',\n",
              "          file: file.name,\n",
              "          data: base64,\n",
              "        },\n",
              "      };\n",
              "\n",
              "      let percentDone = fileData.byteLength === 0 ?\n",
              "          100 :\n",
              "          Math.round((position / fileData.byteLength) * 100);\n",
              "      percent.textContent = `${percentDone}% done`;\n",
              "\n",
              "    } while (position < fileData.byteLength);\n",
              "  }\n",
              "\n",
              "  // All done.\n",
              "  yield {\n",
              "    response: {\n",
              "      action: 'complete',\n",
              "    }\n",
              "  };\n",
              "}\n",
              "\n",
              "scope.google = scope.google || {};\n",
              "scope.google.colab = scope.google.colab || {};\n",
              "scope.google.colab._files = {\n",
              "  _uploadFiles,\n",
              "  _uploadFilesContinue,\n",
              "};\n",
              "})(self);\n",
              "</script> "
            ]
          },
          "metadata": {}
        },
        {
          "output_type": "stream",
          "name": "stdout",
          "text": [
            "Saving AirPassengers.csv to AirPassengers.csv\n"
          ]
        }
      ]
    },
    {
      "cell_type": "code",
      "source": [
        "data = pd.read_csv('AirPassengers.csv')\n",
        "data"
      ],
      "metadata": {
        "id": "lyd5oxbjZomo",
        "colab": {
          "base_uri": "https://localhost:8080/",
          "height": 423
        },
        "outputId": "7c7e797a-af28-44d5-8df0-7a6880fb76b6"
      },
      "execution_count": null,
      "outputs": [
        {
          "output_type": "execute_result",
          "data": {
            "text/plain": [
              "      Month  Passengers\n",
              "0    Jan-49         112\n",
              "1    Feb-49         118\n",
              "2    Mar-49         132\n",
              "3    Apr-49         129\n",
              "4    May-49         121\n",
              "..      ...         ...\n",
              "139  Aug-60         606\n",
              "140  Sep-60         508\n",
              "141  Oct-60         461\n",
              "142  Nov-60         390\n",
              "143  Dec-60         432\n",
              "\n",
              "[144 rows x 2 columns]"
            ],
            "text/html": [
              "\n",
              "  <div id=\"df-d9fb89ca-73b1-4e3a-b67e-2396e466a9ef\">\n",
              "    <div class=\"colab-df-container\">\n",
              "      <div>\n",
              "<style scoped>\n",
              "    .dataframe tbody tr th:only-of-type {\n",
              "        vertical-align: middle;\n",
              "    }\n",
              "\n",
              "    .dataframe tbody tr th {\n",
              "        vertical-align: top;\n",
              "    }\n",
              "\n",
              "    .dataframe thead th {\n",
              "        text-align: right;\n",
              "    }\n",
              "</style>\n",
              "<table border=\"1\" class=\"dataframe\">\n",
              "  <thead>\n",
              "    <tr style=\"text-align: right;\">\n",
              "      <th></th>\n",
              "      <th>Month</th>\n",
              "      <th>Passengers</th>\n",
              "    </tr>\n",
              "  </thead>\n",
              "  <tbody>\n",
              "    <tr>\n",
              "      <th>0</th>\n",
              "      <td>Jan-49</td>\n",
              "      <td>112</td>\n",
              "    </tr>\n",
              "    <tr>\n",
              "      <th>1</th>\n",
              "      <td>Feb-49</td>\n",
              "      <td>118</td>\n",
              "    </tr>\n",
              "    <tr>\n",
              "      <th>2</th>\n",
              "      <td>Mar-49</td>\n",
              "      <td>132</td>\n",
              "    </tr>\n",
              "    <tr>\n",
              "      <th>3</th>\n",
              "      <td>Apr-49</td>\n",
              "      <td>129</td>\n",
              "    </tr>\n",
              "    <tr>\n",
              "      <th>4</th>\n",
              "      <td>May-49</td>\n",
              "      <td>121</td>\n",
              "    </tr>\n",
              "    <tr>\n",
              "      <th>...</th>\n",
              "      <td>...</td>\n",
              "      <td>...</td>\n",
              "    </tr>\n",
              "    <tr>\n",
              "      <th>139</th>\n",
              "      <td>Aug-60</td>\n",
              "      <td>606</td>\n",
              "    </tr>\n",
              "    <tr>\n",
              "      <th>140</th>\n",
              "      <td>Sep-60</td>\n",
              "      <td>508</td>\n",
              "    </tr>\n",
              "    <tr>\n",
              "      <th>141</th>\n",
              "      <td>Oct-60</td>\n",
              "      <td>461</td>\n",
              "    </tr>\n",
              "    <tr>\n",
              "      <th>142</th>\n",
              "      <td>Nov-60</td>\n",
              "      <td>390</td>\n",
              "    </tr>\n",
              "    <tr>\n",
              "      <th>143</th>\n",
              "      <td>Dec-60</td>\n",
              "      <td>432</td>\n",
              "    </tr>\n",
              "  </tbody>\n",
              "</table>\n",
              "<p>144 rows × 2 columns</p>\n",
              "</div>\n",
              "      <button class=\"colab-df-convert\" onclick=\"convertToInteractive('df-d9fb89ca-73b1-4e3a-b67e-2396e466a9ef')\"\n",
              "              title=\"Convert this dataframe to an interactive table.\"\n",
              "              style=\"display:none;\">\n",
              "        \n",
              "  <svg xmlns=\"http://www.w3.org/2000/svg\" height=\"24px\"viewBox=\"0 0 24 24\"\n",
              "       width=\"24px\">\n",
              "    <path d=\"M0 0h24v24H0V0z\" fill=\"none\"/>\n",
              "    <path d=\"M18.56 5.44l.94 2.06.94-2.06 2.06-.94-2.06-.94-.94-2.06-.94 2.06-2.06.94zm-11 1L8.5 8.5l.94-2.06 2.06-.94-2.06-.94L8.5 2.5l-.94 2.06-2.06.94zm10 10l.94 2.06.94-2.06 2.06-.94-2.06-.94-.94-2.06-.94 2.06-2.06.94z\"/><path d=\"M17.41 7.96l-1.37-1.37c-.4-.4-.92-.59-1.43-.59-.52 0-1.04.2-1.43.59L10.3 9.45l-7.72 7.72c-.78.78-.78 2.05 0 2.83L4 21.41c.39.39.9.59 1.41.59.51 0 1.02-.2 1.41-.59l7.78-7.78 2.81-2.81c.8-.78.8-2.07 0-2.86zM5.41 20L4 18.59l7.72-7.72 1.47 1.35L5.41 20z\"/>\n",
              "  </svg>\n",
              "      </button>\n",
              "      \n",
              "  <style>\n",
              "    .colab-df-container {\n",
              "      display:flex;\n",
              "      flex-wrap:wrap;\n",
              "      gap: 12px;\n",
              "    }\n",
              "\n",
              "    .colab-df-convert {\n",
              "      background-color: #E8F0FE;\n",
              "      border: none;\n",
              "      border-radius: 50%;\n",
              "      cursor: pointer;\n",
              "      display: none;\n",
              "      fill: #1967D2;\n",
              "      height: 32px;\n",
              "      padding: 0 0 0 0;\n",
              "      width: 32px;\n",
              "    }\n",
              "\n",
              "    .colab-df-convert:hover {\n",
              "      background-color: #E2EBFA;\n",
              "      box-shadow: 0px 1px 2px rgba(60, 64, 67, 0.3), 0px 1px 3px 1px rgba(60, 64, 67, 0.15);\n",
              "      fill: #174EA6;\n",
              "    }\n",
              "\n",
              "    [theme=dark] .colab-df-convert {\n",
              "      background-color: #3B4455;\n",
              "      fill: #D2E3FC;\n",
              "    }\n",
              "\n",
              "    [theme=dark] .colab-df-convert:hover {\n",
              "      background-color: #434B5C;\n",
              "      box-shadow: 0px 1px 3px 1px rgba(0, 0, 0, 0.15);\n",
              "      filter: drop-shadow(0px 1px 2px rgba(0, 0, 0, 0.3));\n",
              "      fill: #FFFFFF;\n",
              "    }\n",
              "  </style>\n",
              "\n",
              "      <script>\n",
              "        const buttonEl =\n",
              "          document.querySelector('#df-d9fb89ca-73b1-4e3a-b67e-2396e466a9ef button.colab-df-convert');\n",
              "        buttonEl.style.display =\n",
              "          google.colab.kernel.accessAllowed ? 'block' : 'none';\n",
              "\n",
              "        async function convertToInteractive(key) {\n",
              "          const element = document.querySelector('#df-d9fb89ca-73b1-4e3a-b67e-2396e466a9ef');\n",
              "          const dataTable =\n",
              "            await google.colab.kernel.invokeFunction('convertToInteractive',\n",
              "                                                     [key], {});\n",
              "          if (!dataTable) return;\n",
              "\n",
              "          const docLinkHtml = 'Like what you see? Visit the ' +\n",
              "            '<a target=\"_blank\" href=https://colab.research.google.com/notebooks/data_table.ipynb>data table notebook</a>'\n",
              "            + ' to learn more about interactive tables.';\n",
              "          element.innerHTML = '';\n",
              "          dataTable['output_type'] = 'display_data';\n",
              "          await google.colab.output.renderOutput(dataTable, element);\n",
              "          const docLink = document.createElement('div');\n",
              "          docLink.innerHTML = docLinkHtml;\n",
              "          element.appendChild(docLink);\n",
              "        }\n",
              "      </script>\n",
              "    </div>\n",
              "  </div>\n",
              "  "
            ]
          },
          "metadata": {},
          "execution_count": 17
        }
      ]
    },
    {
      "cell_type": "code",
      "source": [
        "## split dataset into two parts: Training set, Testing set\n",
        "TS = data['Passengers']\n",
        "print('length of dataset: {}'.format(len(TS)))\n",
        "\n",
        "train, test = TS[:len(TS)-12], TS[len(TS)-12:]\n",
        "print('length of training set: {}, length of testing set: {}'.format(len(train),len(test)) )\n",
        "\n",
        "plt.plot(train)\n",
        "plt.plot(test)\n",
        "plt.show()"
      ],
      "metadata": {
        "id": "wh616HBQgFK5",
        "colab": {
          "base_uri": "https://localhost:8080/",
          "height": 300
        },
        "outputId": "50092e99-061e-42be-b9c1-d7938f3589c9"
      },
      "execution_count": null,
      "outputs": [
        {
          "output_type": "stream",
          "name": "stdout",
          "text": [
            "length of dataset: 144\n",
            "length of training set: 132, length of testing set: 12\n"
          ]
        },
        {
          "output_type": "display_data",
          "data": {
            "text/plain": [
              "<Figure size 432x288 with 1 Axes>"
            ],
            "image/png": "[encoded data removed]"
          },
          "metadata": {
            "needs_background": "light"
          }
        }
      ]
    },
    {
      "cell_type": "markdown",
      "source": [
        "### Select ARIMA orders manually"
      ],
      "metadata": {
        "id": "5DUGNSn2Ikk6"
      }
    },
    {
      "cell_type": "code",
      "source": [
        "from statsmodels.tsa.stattools import adfuller\n",
        "\n",
        "result = adfuller(train)\n",
        "result\n",
        "\n",
        "\n",
        "print('ADF Statistic: %f' % result[0])\n",
        "print('p-value: %f' % result[1])"
      ],
      "metadata": {
        "id": "Rw3t6z9WZfJt",
        "colab": {
          "base_uri": "https://localhost:8080/"
        },
        "outputId": "9f6bbe40-9b81-47d0-c830-9abec4df4441"
      },
      "execution_count": null,
      "outputs": [
        {
          "output_type": "stream",
          "name": "stdout",
          "text": [
            "ADF Statistic: 0.888027\n",
            "p-value: 0.992932\n"
          ]
        }
      ]
    },
    {
      "cell_type": "markdown",
      "source": [
        "if P Value > 0.05 we go ahead with finding the order of differencing"
      ],
      "metadata": {
        "id": "pimy220QZ3-X"
      }
    },
    {
      "cell_type": "code",
      "source": [
        "from statsmodels.graphics.tsaplots import plot_acf, plot_pacf\n",
        "\n",
        "# Original Series\n",
        "fig, axes = plt.subplots(3, 2, figsize=(10, 10))\n",
        "\n",
        "axes[0, 0].plot(train)\n",
        "axes[0, 0].set_title('Original Series')\n",
        "plot_acf(train, ax=axes[0, 1])\n",
        "\n",
        "# 1st Differencing\n",
        "axes[1, 0].plot(train.diff())\n",
        "axes[1, 0].set_title('1st Order Differencing')\n",
        "plot_acf(train.diff().dropna(), ax=axes[1, 1])\n",
        "\n",
        "# 2nd Differencing\n",
        "axes[2, 0].plot(train.diff().diff())\n",
        "axes[2, 0].set_title('2nd Order Differencing')\n",
        "plot_acf(train.diff().diff().dropna(), ax=axes[2, 1])\n",
        "\n",
        "plt.show()"
      ],
      "metadata": {
        "id": "Y0KzXkUcZ-nN",
        "colab": {
          "base_uri": "https://localhost:8080/",
          "height": 607
        },
        "outputId": "74cb7f6d-bb95-4dea-a19f-49778cda3f25"
      },
      "execution_count": null,
      "outputs": [
        {
          "output_type": "display_data",
          "data": {
            "text/plain": [
              "<Figure size 720x720 with 6 Axes>"
            ],
            "image/png": "[encoded data removed]"
          },
          "metadata": {
            "needs_background": "light"
          }
        }
      ]
    },
    {
      "cell_type": "code",
      "source": [
        "result = adfuller(train.diff().dropna())\n",
        "print('ADF Statistic: %f' % result[0])\n",
        "print('p-value: %f' % result[1])\n",
        "\n",
        "\n",
        "result = adfuller(train.diff().diff().dropna())\n",
        "print('ADF Statistic: %f' % result[0])\n",
        "print('p-value: %f' % result[1])"
      ],
      "metadata": {
        "id": "gVdpH9ITbmrJ",
        "colab": {
          "base_uri": "https://localhost:8080/"
        },
        "outputId": "d3f268d2-67f2-411e-99cf-548f795219cc"
      },
      "execution_count": null,
      "outputs": [
        {
          "output_type": "stream",
          "name": "stdout",
          "text": [
            "ADF Statistic: -2.402920\n",
            "p-value: 0.140914\n",
            "ADF Statistic: -14.252871\n",
            "p-value: 0.000000\n"
          ]
        }
      ]
    },
    {
      "cell_type": "code",
      "source": [
        "# PACF plot of 2nd differenced series\n",
        "\n",
        "fig, axes = plt.subplots(1, 2, figsize = (9,3))\n",
        "axes[0].plot(train.diff().diff()); axes[0].set_title('2nd Differencing')\n",
        "plot_pacf(train.diff().diff().dropna(), ax=axes[1])\n",
        "plt.show()"
      ],
      "metadata": {
        "id": "ub18J7EfcIRh",
        "colab": {
          "base_uri": "https://localhost:8080/",
          "height": 262
        },
        "outputId": "63d54b39-bc68-40e2-b5c7-e5848a31f98f"
      },
      "execution_count": null,
      "outputs": [
        {
          "output_type": "stream",
          "name": "stderr",
          "text": [
            "/usr/local/lib/python3.8/dist-packages/statsmodels/regression/linear_model.py:1434: RuntimeWarning: invalid value encountered in sqrt\n",
            "  return rho, np.sqrt(sigmasq)\n"
          ]
        },
        {
          "output_type": "display_data",
          "data": {
            "text/plain": [
              "<Figure size 648x216 with 2 Axes>"
            ],
            "image/png": "[encoded data removed]"
          },
          "metadata": {
            "needs_background": "light"
          }
        }
      ]
    },
    {
      "cell_type": "code",
      "source": [
        "fig, axes = plt.subplots(1, 2, figsize = (9,3))\n",
        "axes[0].plot(train.diff().diff()); axes[0].set_title('2nd Differencing')\n",
        "plot_acf(train.diff().diff().dropna(), ax=axes[1])\n",
        "\n",
        "plt.show()"
      ],
      "metadata": {
        "id": "W6PQAtS2ekNd",
        "colab": {
          "base_uri": "https://localhost:8080/",
          "height": 227
        },
        "outputId": "f20a03ee-848d-422d-bac7-ef21aeb71b18"
      },
      "execution_count": null,
      "outputs": [
        {
          "output_type": "display_data",
          "data": {
            "text/plain": [
              "<Figure size 648x216 with 2 Axes>"
            ],
            "image/png": "[encoded data removed]"
          },
          "metadata": {
            "needs_background": "light"
          }
        }
      ]
    },
    {
      "cell_type": "code",
      "source": [
        "# train the ARIMA model\n",
        "from statsmodels.tsa.arima_model import ARIMA\n",
        "\n",
        "# 1,2,2 ARIMA Model\n",
        "model = ARIMA(train, order=(1,2,2))\n",
        "model = model.fit(disp=0)\n",
        "print(model.summary())"
      ],
      "metadata": {
        "id": "U5oHybWX-sPH",
        "colab": {
          "base_uri": "https://localhost:8080/"
        },
        "outputId": "98ecf17a-3a1e-4e03-f848-1c2f064852a7"
      },
      "execution_count": null,
      "outputs": [
        {
          "output_type": "stream",
          "name": "stderr",
          "text": [
            "/usr/local/lib/python3.8/dist-packages/statsmodels/tsa/arima_model.py:472: FutureWarning: \n",
            "statsmodels.tsa.arima_model.ARMA and statsmodels.tsa.arima_model.ARIMA have\n",
            "been deprecated in favor of statsmodels.tsa.arima.model.ARIMA (note the .\n",
            "between arima and model) and\n",
            "statsmodels.tsa.SARIMAX. These will be removed after the 0.12 release.\n",
            "\n",
            "statsmodels.tsa.arima.model.ARIMA makes use of the statespace framework and\n",
            "is both well tested and maintained.\n",
            "\n",
            "To silence this warning and continue using ARMA and ARIMA until they are\n",
            "removed, use:\n",
            "\n",
            "import warnings\n",
            "warnings.filterwarnings('ignore', 'statsmodels.tsa.arima_model.ARMA',\n",
            "                        FutureWarning)\n",
            "warnings.filterwarnings('ignore', 'statsmodels.tsa.arima_model.ARIMA',\n",
            "                        FutureWarning)\n",
            "\n",
            "  warnings.warn(ARIMA_DEPRECATION_WARN, FutureWarning)\n"
          ]
        },
        {
          "output_type": "stream",
          "name": "stdout",
          "text": [
            "                             ARIMA Model Results                              \n",
            "==============================================================================\n",
            "Dep. Variable:          D2.Passengers   No. Observations:                  130\n",
            "Model:                 ARIMA(1, 2, 2)   Log Likelihood                -623.166\n",
            "Method:                       css-mle   S.D. of innovations             28.619\n",
            "Date:                Sat, 28 Jan 2023   AIC                           1256.331\n",
            "Time:                        02:05:28   BIC                           1270.669\n",
            "Sample:                             2   HQIC                          1262.157\n",
            "                                                                              \n",
            "=======================================================================================\n",
            "                          coef    std err          z      P>|z|      [0.025      0.975]\n",
            "---------------------------------------------------------------------------------------\n",
            "const                   0.0025      0.082      0.030      0.976      -0.159       0.164\n",
            "ar.L1.D2.Passengers    -0.5411      0.098     -5.503      0.000      -0.734      -0.348\n",
            "ma.L1.D2.Passengers    -0.0729      0.052     -1.394      0.163      -0.176       0.030\n",
            "ma.L2.D2.Passengers    -0.9271      0.052    -17.887      0.000      -1.029      -0.825\n",
            "                                    Roots                                    \n",
            "=============================================================================\n",
            "                  Real          Imaginary           Modulus         Frequency\n",
            "-----------------------------------------------------------------------------\n",
            "AR.1           -1.8480           +0.0000j            1.8480            0.5000\n",
            "MA.1            1.0000           +0.0000j            1.0000            0.0000\n",
            "MA.2           -1.0787           +0.0000j            1.0787            0.5000\n",
            "-----------------------------------------------------------------------------\n"
          ]
        }
      ]
    },
    {
      "cell_type": "code",
      "source": [
        "# Plot residuals\n",
        "residuals = pd.DataFrame(model.resid)\n",
        "residuals.plot(title=\"Residuals\")\n",
        "plt.show()"
      ],
      "metadata": {
        "id": "srO2vtT0Q15S",
        "colab": {
          "base_uri": "https://localhost:8080/",
          "height": 281
        },
        "outputId": "0f4b1988-67c1-4812-cfeb-447c2a5e3473"
      },
      "execution_count": null,
      "outputs": [
        {
          "output_type": "display_data",
          "data": {
            "text/plain": [
              "<Figure size 432x288 with 1 Axes>"
            ],
            "image/png": "[encoded data removed]"
          },
          "metadata": {
            "needs_background": "light"
          }
        }
      ]
    },
    {
      "cell_type": "code",
      "source": [
        "# Actual vs Fitted plot (training set)\n",
        "model.plot_predict(dynamic=False)\n",
        "plt.show()"
      ],
      "metadata": {
        "id": "UbrTNT72fr5Q",
        "colab": {
          "base_uri": "https://localhost:8080/",
          "height": 269
        },
        "outputId": "1e05cc59-1b55-43fb-a9f1-a90f5a52f177"
      },
      "execution_count": null,
      "outputs": [
        {
          "output_type": "display_data",
          "data": {
            "text/plain": [
              "<Figure size 432x288 with 1 Axes>"
            ],
            "image/png": "[encoded data removed]"
          },
          "metadata": {
            "needs_background": "light"
          }
        }
      ]
    },
    {
      "cell_type": "code",
      "source": [
        "## make predictions\n",
        "forecasts = model.forecast(12, alpha=0.05)  # 95% conf\n",
        "forecasts\n",
        "\n",
        "forecast_values = forecasts[0]\n",
        "lower_band = forecasts[2][:, 0]\n",
        "upper_band = forecasts[2][:, 1]\n",
        "\n",
        "\n",
        "# Make as pandas series\n",
        "forecast_values = pd.Series(forecast_values, index=test.index)\n",
        "upper_band = pd.Series(upper_band, index=test.index)\n",
        "lower_band = pd.Series(lower_band, index=test.index)\n",
        "\n",
        "# Plot\n",
        "plt.figure(figsize=(10,4))\n",
        "plt.plot(train, label='training')\n",
        "plt.plot(test, label='actual')\n",
        "plt.plot(forecast_values, label='forecast')\n",
        "plt.fill_between(lower_band.index, lower_band, upper_band, color='gray', alpha=.15)\n",
        "plt.title('Forecast vs Actuals')\n",
        "plt.legend(loc='upper left', fontsize=8)\n",
        "plt.show()\n",
        "\n",
        "\n"
      ],
      "metadata": {
        "id": "npy74kjz-qBy",
        "colab": {
          "base_uri": "https://localhost:8080/",
          "height": 281
        },
        "outputId": "1bb6a6a4-0023-477c-9a63-4ed16b5b5a76"
      },
      "execution_count": null,
      "outputs": [
        {
          "output_type": "display_data",
          "data": {
            "text/plain": [
              "<Figure size 720x288 with 1 Axes>"
            ],
            "image/png": "[encoded data removed]"
          },
          "metadata": {
            "needs_background": "light"
          }
        }
      ]
    },
    {
      "cell_type": "code",
      "source": [
        "#Model Evaluation\n",
        "meanAbErr = metrics.mean_absolute_error(test, forecast_values)\n",
        "meanSqErr = metrics.mean_squared_error(test, forecast_values)\n",
        "rootMeanSqErr = np.sqrt(metrics.mean_squared_error(test, forecast_values))\n",
        "print('Mean Absolute Error:', meanAbErr)\n",
        "print('Mean Square Error:', meanSqErr)\n",
        "print('Root Mean Square Error:', rootMeanSqErr)"
      ],
      "metadata": {
        "id": "kTrRkpYjRmT2",
        "colab": {
          "base_uri": "https://localhost:8080/"
        },
        "outputId": "eba3a8d8-5a76-4ca0-f313-cc06139edad5"
      },
      "execution_count": null,
      "outputs": [
        {
          "output_type": "stream",
          "name": "stdout",
          "text": [
            "Mean Absolute Error: 61.0718535422989\n",
            "Mean Square Error: 6841.270827966121\n",
            "Root Mean Square Error: 82.71197511827486\n"
          ]
        }
      ]
    },
    {
      "cell_type": "markdown",
      "source": [
        "### Auto-ARIMA"
      ],
      "metadata": {
        "id": "okFHTd6RGphu"
      }
    },
    {
      "cell_type": "code",
      "source": [
        "!pip install pmdarima\n",
        "from pmdarima.arima import auto_arima"
      ],
      "metadata": {
        "id": "Hqdj8cccAY6W"
      },
      "execution_count": null,
      "outputs": []
    },
    {
      "cell_type": "code",
      "source": [
        "model = auto_arima(train, start_p=1, start_q=1,\n",
        "                      test='adf',\n",
        "                      max_p=5, max_q=5,\n",
        "                      m=1,\n",
        "                      d=1,\n",
        "                      seasonal=False,\n",
        "                      start_P=0,\n",
        "                      D=None,\n",
        "                      trace=True,\n",
        "                      error_action='ignore',\n",
        "                      suppress_warnings=True,\n",
        "                      stepwise=True)\n",
        "\n",
        "model.summary()"
      ],
      "metadata": {
        "id": "sSlPqdUxGpvt",
        "colab": {
          "base_uri": "https://localhost:8080/",
          "height": 833
        },
        "outputId": "c76ebf9e-852c-4ba1-f61c-8a2a6d199384"
      },
      "execution_count": null,
      "outputs": [
        {
          "output_type": "stream",
          "name": "stdout",
          "text": [
            "Performing stepwise search to minimize aic\n",
            " ARIMA(1,1,1)(0,0,0)[0] intercept   : AIC=1258.440, Time=0.25 sec\n",
            " ARIMA(0,1,0)(0,0,0)[0] intercept   : AIC=1277.589, Time=0.03 sec\n",
            " ARIMA(1,1,0)(0,0,0)[0] intercept   : AIC=1268.313, Time=0.10 sec\n",
            " ARIMA(0,1,1)(0,0,0)[0] intercept   : AIC=1264.738, Time=0.28 sec\n",
            " ARIMA(0,1,0)(0,0,0)[0]             : AIC=1276.259, Time=0.03 sec\n",
            " ARIMA(2,1,1)(0,0,0)[0] intercept   : AIC=inf, Time=0.89 sec\n",
            " ARIMA(1,1,2)(0,0,0)[0] intercept   : AIC=inf, Time=1.05 sec\n",
            " ARIMA(0,1,2)(0,0,0)[0] intercept   : AIC=1262.608, Time=0.27 sec\n",
            " ARIMA(2,1,0)(0,0,0)[0] intercept   : AIC=1263.896, Time=0.16 sec\n",
            " ARIMA(2,1,2)(0,0,0)[0] intercept   : AIC=1218.683, Time=0.71 sec\n",
            " ARIMA(3,1,2)(0,0,0)[0] intercept   : AIC=inf, Time=1.51 sec\n",
            " ARIMA(2,1,3)(0,0,0)[0] intercept   : AIC=inf, Time=1.81 sec\n",
            " ARIMA(1,1,3)(0,0,0)[0] intercept   : AIC=inf, Time=1.59 sec\n",
            " ARIMA(3,1,1)(0,0,0)[0] intercept   : AIC=inf, Time=0.48 sec\n",
            " ARIMA(3,1,3)(0,0,0)[0] intercept   : AIC=inf, Time=1.35 sec\n",
            " ARIMA(2,1,2)(0,0,0)[0]             : AIC=1225.563, Time=0.69 sec\n",
            "\n",
            "Best model:  ARIMA(2,1,2)(0,0,0)[0] intercept\n",
            "Total fit time: 11.260 seconds\n"
          ]
        },
        {
          "output_type": "execute_result",
          "data": {
            "text/plain": [
              "<class 'statsmodels.iolib.summary.Summary'>\n",
              "\"\"\"\n",
              "                               SARIMAX Results                                \n",
              "==============================================================================\n",
              "Dep. Variable:                      y   No. Observations:                  132\n",
              "Model:               SARIMAX(2, 1, 2)   Log Likelihood                -603.341\n",
              "Date:                Sat, 28 Jan 2023   AIC                           1218.683\n",
              "Time:                        02:06:24   BIC                           1235.934\n",
              "Sample:                             0   HQIC                          1225.692\n",
              "                                - 132                                         \n",
              "Covariance Type:                  opg                                         \n",
              "==============================================================================\n",
              "                 coef    std err          z      P>|z|      [0.025      0.975]\n",
              "------------------------------------------------------------------------------\n",
              "intercept      0.7157      0.212      3.379      0.001       0.301       1.131\n",
              "ar.L1          1.6431      0.028     57.904      0.000       1.587       1.699\n",
              "ar.L2         -0.9129      0.027    -33.338      0.000      -0.967      -0.859\n",
              "ma.L1         -1.8478      0.036    -51.463      0.000      -1.918      -1.777\n",
              "ma.L2          0.9466      0.038     24.988      0.000       0.872       1.021\n",
              "sigma2       564.8457     67.205      8.405      0.000     433.126     696.565\n",
              "===================================================================================\n",
              "Ljung-Box (L1) (Q):                   0.85   Jarque-Bera (JB):                 1.87\n",
              "Prob(Q):                              0.36   Prob(JB):                         0.39\n",
              "Heteroskedasticity (H):               6.40   Skew:                             0.26\n",
              "Prob(H) (two-sided):                  0.00   Kurtosis:                         3.26\n",
              "===================================================================================\n",
              "\n",
              "Warnings:\n",
              "[1] Covariance matrix calculated using the outer product of gradients (complex-step).\n",
              "\"\"\""
            ],
            "text/html": [
              "<table class=\"simpletable\">\n",
              "<caption>SARIMAX Results</caption>\n",
              "<tr>\n",
              "  <th>Dep. Variable:</th>           <td>y</td>        <th>  No. Observations:  </th>    <td>132</td>  \n",
              "</tr>\n",
              "<tr>\n",
              "  <th>Model:</th>           <td>SARIMAX(2, 1, 2)</td> <th>  Log Likelihood     </th> <td>-603.341</td>\n",
              "</tr>\n",
              "<tr>\n",
              "  <th>Date:</th>            <td>Sat, 28 Jan 2023</td> <th>  AIC                </th> <td>1218.683</td>\n",
              "</tr>\n",
              "<tr>\n",
              "  <th>Time:</th>                <td>02:06:24</td>     <th>  BIC                </th> <td>1235.934</td>\n",
              "</tr>\n",
              "<tr>\n",
              "  <th>Sample:</th>                  <td>0</td>        <th>  HQIC               </th> <td>1225.692</td>\n",
              "</tr>\n",
              "<tr>\n",
              "  <th></th>                      <td> - 132</td>      <th>                     </th>     <td> </td>   \n",
              "</tr>\n",
              "<tr>\n",
              "  <th>Covariance Type:</th>        <td>opg</td>       <th>                     </th>     <td> </td>   \n",
              "</tr>\n",
              "</table>\n",
              "<table class=\"simpletable\">\n",
              "<tr>\n",
              "      <td></td>         <th>coef</th>     <th>std err</th>      <th>z</th>      <th>P>|z|</th>  <th>[0.025</th>    <th>0.975]</th>  \n",
              "</tr>\n",
              "<tr>\n",
              "  <th>intercept</th> <td>    0.7157</td> <td>    0.212</td> <td>    3.379</td> <td> 0.001</td> <td>    0.301</td> <td>    1.131</td>\n",
              "</tr>\n",
              "<tr>\n",
              "  <th>ar.L1</th>     <td>    1.6431</td> <td>    0.028</td> <td>   57.904</td> <td> 0.000</td> <td>    1.587</td> <td>    1.699</td>\n",
              "</tr>\n",
              "<tr>\n",
              "  <th>ar.L2</th>     <td>   -0.9129</td> <td>    0.027</td> <td>  -33.338</td> <td> 0.000</td> <td>   -0.967</td> <td>   -0.859</td>\n",
              "</tr>\n",
              "<tr>\n",
              "  <th>ma.L1</th>     <td>   -1.8478</td> <td>    0.036</td> <td>  -51.463</td> <td> 0.000</td> <td>   -1.918</td> <td>   -1.777</td>\n",
              "</tr>\n",
              "<tr>\n",
              "  <th>ma.L2</th>     <td>    0.9466</td> <td>    0.038</td> <td>   24.988</td> <td> 0.000</td> <td>    0.872</td> <td>    1.021</td>\n",
              "</tr>\n",
              "<tr>\n",
              "  <th>sigma2</th>    <td>  564.8457</td> <td>   67.205</td> <td>    8.405</td> <td> 0.000</td> <td>  433.126</td> <td>  696.565</td>\n",
              "</tr>\n",
              "</table>\n",
              "<table class=\"simpletable\">\n",
              "<tr>\n",
              "  <th>Ljung-Box (L1) (Q):</th>     <td>0.85</td> <th>  Jarque-Bera (JB):  </th> <td>1.87</td>\n",
              "</tr>\n",
              "<tr>\n",
              "  <th>Prob(Q):</th>                <td>0.36</td> <th>  Prob(JB):          </th> <td>0.39</td>\n",
              "</tr>\n",
              "<tr>\n",
              "  <th>Heteroskedasticity (H):</th> <td>6.40</td> <th>  Skew:              </th> <td>0.26</td>\n",
              "</tr>\n",
              "<tr>\n",
              "  <th>Prob(H) (two-sided):</th>    <td>0.00</td> <th>  Kurtosis:          </th> <td>3.26</td>\n",
              "</tr>\n",
              "</table><br/><br/>Warnings:<br/>[1] Covariance matrix calculated using the outer product of gradients (complex-step)."
            ]
          },
          "metadata": {},
          "execution_count": 33
        }
      ]
    },
    {
      "cell_type": "code",
      "source": [
        "# Forecast\n",
        "forecasts = model.predict(n_periods=12, return_conf_int=True)\n",
        "forecasts"
      ],
      "metadata": {
        "id": "rbA5OdrjGZgY",
        "colab": {
          "base_uri": "https://localhost:8080/"
        },
        "outputId": "72dc6782-c3df-4de1-d291-2717f6c7b6c4"
      },
      "execution_count": null,
      "outputs": [
        {
          "output_type": "execute_result",
          "data": {
            "text/plain": [
              "(132    415.820714\n",
              " 133    442.382138\n",
              " 134    476.861375\n",
              " 135    509.980139\n",
              " 136    533.635312\n",
              " 137    542.983279\n",
              " 138    537.463145\n",
              " 139    520.575117\n",
              " 140    498.582276\n",
              " 141    478.579827\n",
              " 142    466.507939\n",
              " 143    465.649348\n",
              " dtype: float64, array([[369.23761024, 462.4038168 ],\n",
              "        [382.863368  , 501.90090802],\n",
              "        [413.07317806, 540.6495724 ],\n",
              "        [445.63105703, 574.32922186],\n",
              "        [469.24117841, 598.02944628],\n",
              "        [478.1983754 , 607.76818334],\n",
              "        [472.49561682, 602.43067312],\n",
              "        [455.53511048, 585.61512375],\n",
              "        [432.02939062, 565.13516212],\n",
              "        [407.4956377 , 549.66401579],\n",
              "        [388.24170082, 544.77417758],\n",
              "        [379.66147383, 551.63722129]]))"
            ]
          },
          "metadata": {},
          "execution_count": 34
        }
      ]
    },
    {
      "cell_type": "code",
      "source": [
        "\n",
        "forecast_values = forecasts[0]\n",
        "lower_band = forecasts[1][:, 0]\n",
        "upper_band = forecasts[1][:, 1]\n",
        "\n",
        "\n",
        "# Make as pandas series\n",
        "forecast_values = pd.Series(forecast_values, index=test.index)\n",
        "upper_band = pd.Series(upper_band, index=test.index)\n",
        "lower_band = pd.Series(lower_band, index=test.index)\n",
        "\n",
        "# Plot\n",
        "plt.figure(figsize=(10,4))\n",
        "plt.plot(train, label='training')\n",
        "plt.plot(test, label='actual')\n",
        "plt.plot(forecast_values, label='forecast')\n",
        "plt.fill_between(lower_band.index, lower_band, upper_band, color='gray', alpha=.15)\n",
        "plt.title('Forecast vs Actuals')\n",
        "plt.legend(loc='upper left', fontsize=8)\n",
        "plt.show()"
      ],
      "metadata": {
        "id": "3DpFGzU0ICon",
        "colab": {
          "base_uri": "https://localhost:8080/",
          "height": 281
        },
        "outputId": "cf5a0e6c-6246-4a0d-8c36-336fb543c1f2"
      },
      "execution_count": null,
      "outputs": [
        {
          "output_type": "display_data",
          "data": {
            "text/plain": [
              "<Figure size 720x288 with 1 Axes>"
            ],
            "image/png": "[encoded data removed]"
          },
          "metadata": {
            "needs_background": "light"
          }
        }
      ]
    },
    {
      "cell_type": "code",
      "source": [
        "model.plot_diagnostics(figsize=(10,6))\n",
        "plt.show()"
      ],
      "metadata": {
        "id": "5QmRGf-lIVCn",
        "colab": {
          "base_uri": "https://localhost:8080/",
          "height": 404
        },
        "outputId": "60ef70eb-d995-493e-ccdd-8d4a14d8e7c9"
      },
      "execution_count": null,
      "outputs": [
        {
          "output_type": "display_data",
          "data": {
            "text/plain": [
              "<Figure size 720x432 with 4 Axes>"
            ],
            "image/png": "[encoded data removed]"
          },
          "metadata": {
            "needs_background": "light"
          }
        }
      ]
    },
    {
      "cell_type": "code",
      "source": [
        "#Model Evaluation\n",
        "meanAbErr = metrics.mean_absolute_error(test, forecast_values)\n",
        "meanSqErr = metrics.mean_squared_error(test, forecast_values)\n",
        "rootMeanSqErr = np.sqrt(metrics.mean_squared_error(test, forecast_values))\n",
        "print('Mean Absolute Error:', meanAbErr)\n",
        "print('Mean Square Error:', meanSqErr)\n",
        "print('Root Mean Square Error:', rootMeanSqErr)"
      ],
      "metadata": {
        "id": "ZdYGPBYbJY66",
        "colab": {
          "base_uri": "https://localhost:8080/"
        },
        "outputId": "e6432883-7f94-4c32-9fc3-19bfd3808223"
      },
      "execution_count": null,
      "outputs": [
        {
          "output_type": "stream",
          "name": "stdout",
          "text": [
            "Mean Absolute Error: 44.67817549415878\n",
            "Mean Square Error: 2839.8774797689966\n",
            "Root Mean Square Error: 53.29050083991515\n"
          ]
        }
      ]
    },
    {
      "cell_type": "markdown",
      "source": [
        "## Logistic Regression (LR) and Naive Bayes (NB) models (Classification task)"
      ],
      "metadata": {
        "id": "P8GDNNrUsjTo"
      }
    },
    {
      "cell_type": "markdown",
      "source": [
        "![image.png](data:image/png;base64,iVBORw0KGgoAAAANSUhEUgAAArwAAAHCCAIAAACCGI04AAAgAElEQVR4nOzdeVxU5f4H8O+ZAYZdRFE2F2T3khtmCXZzuS5gJmkpWESmV8o01DR/ltmqXbNUbJXSRFPE1MgFVKzMFJegMg0URkFBQFG2YZvtnN8fgzAzgo4w+3zeL/9gnjlznmcWmQ/Pec73MBzHEQAAAMD98Aw9AAAAADANCA0AAACgEYQGAAAA0AhCAwAAAGgEoQEAAAA0gtAAAAAAGkFoAAAAAI0gNAAAAIBGEBoAAABAIwgNAAAAoBGEBgAAANAIQgMAAABoBKEBAAAANILQAAAAABpBaAAAAACNIDQAAACARhAaAAAAQCMIDQAAAKARhAYAAADQCEIDAAAAaAShAQAAADSC0AAAAAAaQWgAAAAAjSA0AAAAgEYQGgAAAEAjCA0AAACgEYQGAAAA0AhCAwAAAGgEoQEAAAA0gtAAAAAAGkFoAAAAAI0gNAAAAIBGEBoAAABAIwgNAAAAoBGEBgAAANAIQgMAAABoBKEBAAAANILQAAAAABpBaAAAAACNIDQAAACARhAaAAAAQCMIDQAAAKARhAYAAADQCEIDAAAAaAShAQAAADSC0AAAAAAaQWgAAAAAjSA0AAAAgEYQGgAAAEAjCA0AAACgEYQGAAAA0AhCAwAAAGgEoQEAAAA0gtAAAAAAGkFoAADTlhHPMAzDMPEZ5tsjgJGwMvQAAAA6JWIjl05MJEVFmG+PAEYCMw0AYOqE+RcorL9/5/eTGK7h7IG2egQwMQgNAGDqCnKzwqZN9DPrHgGMAkIDAOiKMDFc9dj/nYbwRKEWu8lIS6KQAD89LjXoSI/Nz73lqWfEd/CFqOyFGQ4wGIQGANCNjPg4SuYK1odRUlrzl6pfwsn0OUTa/SNdmH+B5vTPD2fSojiOS59DSZE6jg0d6LHlxchasCaDSJgYnhbFcdzJhAd8IbSSGGQ5H/sxoz7Oqev8rjRQvDfOj2GGLv35llLjrZ+XDr2rsT2ysr0vMcxLe8tkD34vaBlCAwDoRsTGkwl+5DdxmlJqUHzfLm/rq/LOX+3tafeP8oLcLEraRcncxggi8u8fRnQhX5szGdrosfnFCAghupCfkRiXu3zjg6+i1NkcQ/HeOD/G7+McHX7t5mw7/Hdty63avw9vyyGqLq9u1F2XoAs4ewIAdKr5i1JIEX5EVJBL65e0+XUZsZHjNnZg/xlpSRS2PvlB/2RvfnA8E5mk2hTJKDWErS+4ezKgEz1GRM2hpAWRIelcwoM+VDkxaJIeXIsLNN53rynJQu5BB6Qhtr66vIGIyrYdzX5z5GhnHlFT/u6vPirTUX+gW5hpAADd8u8fRlm5BUREwsQPqM1pho4T5l9QOdxRkJtFFBKgYR8RGzklBevDaE66cktbhw861aN//zAKayc23YOO1zEU743zY+L2ljVP9Q8dNcqPYRjGc9bmi7VERGxZTvLSUYoZn1Fv7M2vvXNQgGEYhvGMW3e2jCVi8zePZ0bFxY1iGL+4vcXN+2brKy+X+S56PYH2bz9azBIRW3Qi9Y9xry+acad7tuxs8tLxin2NWrotp0yi2qm159SNLZveNRLQK4QGANAtv4CQ5p+EB3Ontft92bHDE8KDu7KUv7Ez0pKI5jQXULiz7lKrKy/v2eOdJ9LeEoeMNQuyKGvXwQcajd5XPnYbNv+ASJ636aGMWR8eLSPJ9bSVk7bYv1Uq5uRFe/rtnzp/dz5r5THlK47jOK7ip9h/Fr2VIWSJ5+TiTscy3d+q4YTJU3qp7NLjsYhYweaNPwlZYoVZqUeGTB8/yIoun7xyU8ZeTVs+a1n5jDyRnBOlTTy7dNL6E7WKTl/4a/hPJXKu8dKmZ4iI2h6Jfl8bi4fQAAA65t8/jC7kCyljTW5U+9MMqn/0363tNYMFuVnKBRMURw4UwUSYGLcgJF0xg0AL4rQVG+7ZYzjD3HW8o1VG/Af9C9Ln3Jl30dSDHGjQCp9Hhvs58rwHjg2kk1dKZTfO/Hio7Ng7YzwFDL/v1M0X6HKliK3Nz1wX58kwjNuYj3LocqWo+cvbd+wj/s7KO6u4ev6yh6+r35hZc8cdOXRCWC08cejIuAkjhni5exAR0Y2cHzc3jp08OsiRR44DnowdUbbtaHZt6ZkfD5U9Hz9/tBePrJxcXBWbtjUS/b42Fg+hAQB0zC8ghLJy18SnRXVg8d+9CfMvUMt3sDAxPDKpZbFBxpoFWc0TAH4Tp4U96J/3HeiRaGJy80GOth6YGJ4WdTLBz79/88LQjHjN5z/0nhvuMm7TJfmd/CZcHFpxdOW4NdcWnRFxouw1I+/3YHt3Fwcrv7Dp4/5I3fvVxuV5L8aP8XPs4mavjZFgYZ5+ITQAgK759w+jJNJ+ZCDhwV20viCdIhmGYRj/BSHpKhMSLRMCitiije/de/bo59f2PIowMZxh4ih5YwRR8+kkkQyTFvVAJ1wq5wbX4oL7/uv4c1TnFvL4EDqSuintYh1JynK2LV36o2IVo42rs31d0bnz9zptkhVVlyt+4vUdMX3IkWXL1tKkZ//TS/Hd01BR09AzdPKLdls/3fxzmYTq/t637YRH7H+GOruHPD6EMg9mXKylOuGpM4X3HgnoDUIDAOjBnHTtRwYiv4STJxP8Wg9sdLIPv4ST99tFh3r0SzipdHjFL+FkBwer1ShwbMlQJ8V6wo9zRPfc0jbghcQza923TQ12YgSeiy8Ejg926jn8lbVjz88K5ju9dumhcSMvLxka1PYZm6yo8jL1eqhPVyJbv/HRL3qQR+x/hjo3f/WUlVfX8/pEfbBpy7CsMZ4Cxinq4LDPjr010plsA6a9tye2ZFZwF8YpeOpHR9odifZeEdAEw3G6OtEGAICIhInhawJO6iIz3FNGPBNJ6YqvZmFiuP+uaW2cPakLwsRw/9zlnQ0w7avs5W/4oxVgqTDTAAA6oThkL0wMvzMvr2cRUXPuFJUSHtylx0tFFORm6XT/SAxgQJhpAABdECaG+y/Iars6kr60lm6ak667v/xbNT/nOwz63AF0AqEBAAAANILDEwAAAKARhAYAAADQCEIDAAAYwK6/K+okckOPAh4MQgMAAOhVrVj+XGre9B25c9NwJoiJwUJIAADQn+wSUUxKnvB2o+Lm1mlBsUN6GnZIoDmEBgAA0AeOo3UnSpYduiKRt37v9HS0KVz6iJ01pr1NA671AQAAOldRL31h18X0S5XKjQM9HHfOCEZiMCEIDQAAoFu/XK5+LjWvtFai3PjKcM+PJ/raWiExmBKEBgAA0BUZy7179OqqX66ySkfCXe2tNk0NjPpXd8ONCzoIoQEAAHTiWrX42Z15J4pqlBtH9O2yPTq4t4vAUKOCzkBoAAAA7fvhn1uz91yqbGi9YDafx7wxqveKMX2seIwBBwadgdAAAADa1CRjXzt4+YtTpcqNXs6CbdODRvm6GGpUoBUIDQAAoDUXKxqm78j9u6xeuXFiULdvnwl0c7A21KhAWxAaAABAOzZnl8//saBByra0CKx4H07wWRDuzeCIhFlAaAAAgM6qFctf2pufcu6mcqN/d7sd0cFDvZ0MNSrQOoQGAADolOwSUXRK3uU7laEVnh3c44uoAGcB31CjAl1AaAAAgA7iOPrkt+I3DhdKlSpDO9rwP5vsHxeKK0qYIYQGAADoiIp66fOpFw/lq1SGHuTpuDMmONDN3lCjAp1CaAAAgAf2k7DqudSL5aLWytAMQ/OGe62J7CdAZWjzhdAAAAAPQMZyb2cW/e/YNeXK0N3srTc9HTC5PypDmzmEBgAA0NS1anFMSm7W1Vrlxsd8umyPDu7VBZWhzR9CAwAAaGTvhVuz9lyqblSpDP3mqN4rxvThozK0ZUBoAACA+2iSsYsOXP7ytHpl6O3RQY/3Q2VoC4LQAAAA95J7s2H69twLN1QqQ08K7vbtM4Hd7FEZ2rIgNAAAQLu++b0sYZ9QrTL06oh+r4Z5oTK0BUJoAACANtSK5XP2XEr9u0K50b+73c6Y/kO8HA01KjAshAYAAFB3tlgUnZJbWNmk3Bg7pOcXUf6ONqgMbblQgkML1q5dm56ebuhRmA+RSCSTye6/HWimurqaZdn7bweaqaqqMvQQdIvjaM3x4hFf/amcGBxt+MnTgrZOC9JuYpDL5bW1tfffDowGZhoAAKDZjTpJ3K5Lh1UrQw/xckyJ6R/Q3c5QowLjgdAAAABERJkFVc/vUq8M/WqY1+oIVIaGZggNAACWTsZybx0p+uhX9crQ3z4TOCm4m+HGBUYHoQEAwKIVVTXFpOSdvqaytuDxfi7bo4O8nFEZGlQgNAAAWK7d5yv+uzdfrTL0W6P7LB/dG5Wh4W4IDQAAlqhRyi48INx4pky50buLYHt08L99uhhqVGDkEBoAACzOhRv1MTvy1CpDT+7ffdPTAagMDfeA0AAAYFmSzpYt3K9eGXpNZL95w1EZGu4DoQEAwFJUN8rm7M3//rxKZehAN/udMcGDPFEZGu4Pp94CAFiE09dqh3yao5YY4kJ7Zs8fgsSgB7Nnzx47duy4ceOioqKWLFly4sSJlruWLVv27bfftvfAwsLCqKgoDXtJT09fvny5hnvuAMw0AACYOZajNceL3zpSKJW31mFwEvC/iPJ/bnBPAw7MZLB1JC0iTkzWfYnf8cIVy5YtGz58eHV19ZkzZ9atW1dUVPTcc88R0auvvioQ6OTsVq3v2cxDQ2ZmZmpq6jfffGPogQAAGEa5SBK36+KRApVLZoR6OaXEBPujMrQmpEVUd7j558Zssgsj24c6ticrKys7Ozs7O7uoqKiQkJBXXnll9OjRnp6emzZtCgwMfOaZZ3Jzc1evXl1RUWFraztkyJDXXnvNzs6OiFiWTUlJOXjwoFgsnj59+tNPP01EUql006ZNx48fl0qlI0eOnDNnzq1btz777DO5XD5p0iQ+n5+WltayZyLav3//nj17bt++3a9fv5dffjkoKKgjT6Fjz9z43b59e9GiRTU1Nd27dzf0WAAADONIQVXcXZWhE8K9/zfBB5WhNSU+r3ozp8OhQZmfn5+fn9+ZM2eeeuqplsaePXuuWLHC09NTKpV++umnu3fvjo2NJSKxWCyVSletWlVeXv7ee+8NGDAgICDg66+/vnnz5jfffMNx3FtvvXXgwIGnnnpq3rx5WVlZH3zwgVp3P//8886dO99++21PT8/s7OzKykrqELMNDd26dUtOTj59+rRupxnYOmo69S+v390dS6nBkez/rcO+wMjJykhyiVgR8buTTSDJSklaSIyArPuSTUDrZpyEJPkkLSROSgyPiE/WPiQIUbmLEZBNAMlFJPmHuCbidye7MJJcIvkt4mRELPGcyLovcY3U9AdxMiIB2Q0l+XWSXifGiqx6N38UxbnUdNqmoZbh7IlvS6yMSEZExFgRY0dcI5H8zqgY4tkSR8Q1EXHEccRjiOOI44iIrD2IZ0fSa8S1bE/EsyKOiDhiWFJcRZPHI54TySXEyJt3QiyRUl1ijiGGR6RoZ4gYIu7OlncwPOLZkU0ASa+RvFL1Lqb1h+ZdETEMyaXE3Hksd2eHDI94fJLLSdFh8xacYujNj1U0METcnQEzTGuPyt0REQmI70Qc2YhFVCNrfggRMXzi9yC7MBKfJ9kNktcS07IHPvF7ECdufiIMQzwHYuyJWGLFRBLipK1Pn8cjjpo/EowdEUckIVZGnOIp3Nknz5ZI0PzecWxzL4wTsTV33h2GGCvi2Uo56+W/2K457az0CpKbPfvtxPKJfvlUd6e5uXcbYuyIJMTJiJUTQ8RYke0QYuxIWkTycuLEzU+B+Hc24BEJyKpH6yeck1BTDslvEltPbNOdl5wlhpo/SzzFG2dLPHsiIsaa4fcmzouMnLRU5SYr1taOXV1dq6urlVucnJwyMzPPnDlz48aN+vp67s77bmdn9/zzzxNR7969hw0b9vvvv/v7+6enp2/atMne3p6IJk+efPjwYeX8oSYjI+OZZ54JCAggopEjR3Z4zGYbGvRE9AOxDTyejMeISZxHXBM5jDP0mMAQ5LdJtK/5Z2kpSfKIlTbflBQSK27906T+sPrvIGkpyW+R/UiVuySFrRuw10m+h1Qub31LZQNqpIbf7vwsJnkesTVkN+xOI8dxLCNvbN2ckxJJSY1c5ZR9Ur4IgbSM7tbyBFs2ZFlia1Ra1HHN33P32IhjSV5PjX+2dZfq91xLgmnZmUoLS3KWiKiNq4LL23isWhd3d0eNxDYSEckbiLVX2kxGbClJd7exQ8VdyjuU1xHVtfHUiJrfX44lkhGpfi0pPwV5I1Gjyr0cS6T8VyNHnLSwkmL2uZ4pVTn6MKp3w7YnSr2cZG28JqyEqHU2gjgiTkINp9U3aw6Cig1YIhlJCklSSKyIbEOpdjexIpWdqP2g+FBx9cTe+bBJSqzY3kQT7xqQMbH2VPk/y9PaEoHKysqhQ4cqt3z++eeFhYWvvvqqj4/P/v37z507d/ejXF1da2tra2pqxGLxokWLFI1yudzT0/MefVVUVHh4eHR+zBYXGmQy2f030hgjU/z/51iWlbMsIylmBdrcv2XiOE4ul99/O2PCiIUqX+pqf4uIL3NWwUREnIQRl7Tx+MY8sh5Ebd7VvMM2vvruNR7pTY79o+VRHMvKcQK+9sgf8O3Qs+8vOb902LNG3Hr0wYrHLQ+7tezRCj7THKW0rDGXmB4kq3nQx3Ecy0iF2v21bGWl7e81wUMqoUEQqpW9Xr58ubCwMCwsTLnxr7/+euWVV/z8/O7xwBs3boSGhjo7O1tbW2/YsKFbN5WFmXw+n23r89m9e/cbN250ftgWFxoaGxvvv5HGrKUSIpLLWblcLpVKiGRSK23u3zKxLCsWixmT+pLjS8U8qaS9ezlWIuM1EhHDVlq1s5m8oYLf/h4enIzjixm5hIg4jiRSKUN3Zuih06SdfKc4Xb0XDTLekmNemy+ofIv0cpJ8O+FquFc929YUg5ZUynlNmn6AlZ4+xxHLstr9tezk5KTFvRERWfelLs+SpJBI0smzJ2QyWVNTU01NzdmzZ7du3frCCy+4ubkpb+Dh4XHq1Ck/P78rV6788MMP/fr1U7RLpdL8/HwPD48//vjj/PnzCxcu5PF4Y8eOXb9+/dy5c7t27VpYWFhSUjJ27Fg3N7crV65UVFQQkfLOx44d+9133/Xv379Xr145OTk8Hu/RRx/twFOwuNCg5c+TzJaI+Hy+tbW1rcCWePa2Wv+8Wh6RSGRnZ6f9Pxd0qqkrMbbt3mvdhRwVHwwnoi5tHBPlOVEX/7bv6hiePQl6UuMNImpobBAIBDyTCmHGrL6hwVbQ/nttOBcqBNH7PP+5pTJ5HuUv+iaivJudnEiXY7buS/YexD5wFyzHiiU2Dsb/a5PnqJXFjx9++CEROTg4+Pv7L1y4UG2agYheeumlVatWxcbGBgcHDxw4UCRqPdyzdu3aa9eueXp6vvvuu66urkT08ssvb926dfHixdXV1Z6enopTKgYNGhQSEvLCCy84OzunpKS0PHzcuHEikei9996rrKzs16/f3LlzO/YUGI5r9/CjGVAshNThWsims9T4Z+bRo+7u7g89NIAcJ5GVu676shgmGRqIqG5/6xymwI+kxc0JgOdETk8S707xHEk+NWaphAOegBzGk5WHyl38rsSJiL0zbat2VFWxW66h9dg8z7p1kQHDI/vRZONLNVuIFTc0Ntja2nU2NCivENQDhq+y7MCY1Dc0ONjbq7dauZKsg8vRteKrP10W/dyzUdb6LttacR+Pujl3SFXH33ieNZGtyjKFtjdzIsfxxO9GTeepMeuBeuDIup4eduyqhe9j0A+zDQ03b9586aWX5HJ5U1OTg4PD2LFjX375ZR31tfXrJb37Bo0cO0tH+7c0phoaiIitI1ZE/G7E2BARycqIsWl7MlNxFxFxErLyaOMuxaNk5SSrIBsf4jkSJyH5beI5EStq3UBaSLJSsgkmvisRUdN54tmTjW/r3uQ36m+dtHMO4Fl3I8aGpPkkF5FdGLEiYngkEZKVJ8lKiedIVt7ESYhrIlkpWXuR9DpZeZL4PPEcyX40EZH4HLF1xOtKshISBJBMRFZuJKsgnj1J84mtJ4cJxIqIEZD0eutd7E2Si8jGn2SlZN2HZFVk5UbSy8RzJMaR2AZiZCQtJmt3El8ma29iXFqfQuNpkpWQTW+SXCN+d2KsW0ereKyiFysnEueTlTdx8tYeBQNIVkFWXUl6law8SV5HPHvi6oitI2tfklWQdQ+S3lQfp5U3yUrI2pMkV8i6F7ENzWmPrSObIOIkxHOqqSru4uKq8tIJBra++yQncS5ZeRNb1XqX4onYDiLGofUdlFe3Pn1BAMlut46T70KchIhReQqSAuI7kVXf1sfyHUlWWs36zN5btucflfWVQW62O6f3HOjh3PxeENf6eVO8xVY9SXKFrLxJKmwe5909WvsQEclvEycheRXJSsi6F7Gy1g0YW/VPeMunVFLYfIrEnXG2fqgUjyIiTiJnetTX1zs7Oz/ofzUwFLMNDfq0du3aoKCgyMhIQw/ETJhwaDBK1dXVzs7OPB5OyteOqqqqrl27GnoUzU5dq41Jybta1aTcOHOo+6dP+jnY8A01Ks3J5XKEBtOC38sAAKaH5Wj1sWsrMotkSifHOgv4Xz4VMGNQDwMODMwbQgMAgIkpF0liUy8eFapUhh7q7ZQSE+zXDZWhQYcQGgAATMnh/Mrnd128WddanothaOEI7w8n9LPh4xwZ0C2EBgAA0yCVc28eLvz4t2LlpWhuDtbJ04IiAl0NNy6wIAgNAAAm4EplU/SO3N9LVE6AHO3r8l10sIeTjaFGBZYGoQEAwNjtPHczfm9+rbi1doUVj3nnP32XjerNwxEJ0COEBgAA49UgZV/dV7Dp93Llxt4ugh0xweF9uhhqVGCxcOo2AICROl9eP/TTHLXE8NS/uv+VMBSJweTMnj37+PHjLTdPnjw5c+bMB93J/v37ly9fTkTXr1+fNGlSS3taWtrbb7+tlXHeG2YaAACM0ZenSxcduNwka73IlK0V75OJvnOH3+sKyKAL9ZL6ktoSqUzq1cWrq52xlPYyCIQGAADjUtUom73n0t4Lt5Qbg3vY74zpP8DDwVCjslglNSW/Ff2m+Pn8jfNDPIcEugVqt4vbt29v2LDhn3/+sbW1nTFjhqK+cFpa2s6dO2tqarp06TJx4sTY2Fjlh7zxxhtNTU2KyYbVq1cTUWNj4+eff37s2DEbG5tXX331kUce+f7773///fePPvpI8ZD169cLBIJOXlEBoQEAwIicvFozIyXvWrXK9U5nPey+4Ul/e2scUDaAS7cuKd88f+N8h0PDRx99tHbtWsXPMplMcelqlmWXL1/++OOPr1ixoqysbOHChYGBgb6+voMHDx42bFi3bt2qqqqWLVs2cODAAQMGtOxq1apVL7300v79+xU38/Pz8/Pzw8PDN2zY8NNPPyUmJu7YsWPMmDGbN2+uqKhwc3OTSCTHjh1bt25dx0beAqEBAMAosBx9+Mu1d46qV4beOCUgeiAqQxvMzbqbyjelcml7W95XfHz8ww8/rPg5Jydn9+7dRHTp0qW6urro6Ggi8vb2fuyxx7Kzs319fe3t7Xfv3v3XX3/V1NTU1tZevXpVOTTcbeDAgZMnTyaiiIiI5OTkpqYmV1fX0NDQo0ePxsTEnDx50svLy8fHp8ODV0BoAAAwvDKR5LmdeT9frlZufNjbaeeM/v1cbQ01KiCiHo49lHODDb/jVTG6dOni7u6u+NnFxUXxw82bN2/fvv3ss88qbkokkoiICJZlX3/99ZCQkPfff9/Nze29996TyzW9WLy9vT0RyWQyIho3bty3334bExNz5MiRCRMmdHjkLRAaAAAMLONSZdyuixX1KpWhX3us16rxPtaoDG1ogd0DlUNDSM8Q7e6/W7duPXr02LJli3LjrVu3SkpKvvrqK4FA0Oaj+Hw+y7Jt3qVs+PDh69evP3HixIULFxSnXXQSQgMAgMFI5dyyQ1fWnihRqwy9dXrQhABUhjYK3l28nwx+sqSmRMpKvZy1f/ZEUFCQlZXVli1bnnrqKYZhLl68aG1tHRISYmtr++uvvw4dOvTUqVM5OTkDBw5UflTXrl3lcvm5c+f69etnZdXuV7m1tfWoUaM++eSTsLAwBwctrKJFaAAAY1T7rK+hh9A2PlGtVne4gmjF3a3varkXY6Z4ps7bLxt4HO1zsHHQ+hkTLaysrFauXLlx48bZs2eLxWJfX985c+ZYW1svWbLk888//+KLL4YPH+7v76/2KIFAMGvWrLfffpvjuE8++eQe+x8/fvy+ffu0cmyCiBhOOd9Ch6xduzYoKEhxkgx0nkgksrOzu0d2hgdSXV3t7OzM45nAwnujDQqgH8acG0zXuXPn1qxZs23bNobRwqEuE/g9AgAAAB1z4MCB8ePHayUxEA5PAIDBYYIBQEdqa2uzsrL++9//amuHCA0AYDCICwA65ezsfPDgQS3uEIcnAAAAQCOYaQAAA3igOQajWh9XVVXVteuDnXR3oqjm2Z3qlaFnP+yR+KSfhVeGlsvl9fX1zs7Ohh4IaAqhAQD0TfPEYFRxoQPkLLfql2vv/XRVuTJ0F1urpCkB0wa4GXBgAB2D0AAA+mM5cYGIrteKY1Mv/qJaGfqRXs4pMcE+qAwNpgmhAQD0RMPEYAZxgYgOXrw98/tLapWhl/y71wfjUBkaTBhCAwDonEXFBbGMXXaocP1JlcrQPR1ttk4PGuev5QrEAHqG0AAAuqVJYjCPuEBEBbcaZ+zMyy4RKTeO9e+6dVqQu1PHr44IYCQQGgBAVywqLhDRd3/eeCWtoFbcegljaz7z3ti+rz/em4cjEmAWEBoAQCcsKjHUSeTzfixIzrmh3OjjarsjOvjR3jifEMwHQgMAaN99E4PZxAUi+qu0Ljol71JFg3LjM2v1agIAACAASURBVA+5JU0JcLHD79h74fP5KNJgWvCBBgBtsqgJBo6jz05dX5J+RSxjWxrtrXnrJvnNGeZhwIEB6AhCAwBojUVNMNxukM7anf9j7i3lxpCeDikzgkN6OhhqVAA6ZdEVTAFAiywqMfxWWDM4MUctMcwZ5nFm3hAkBpLlfOzH+H2cIzPwOIr3xvkxzNClPyu/Tbd+Xjr0rsb2yMr2vsQwL+0ta/Op3Pte84TQAABaYDmJQc5x7/10ddTX54prWq8l4WJn9f2z/TdOCbDwa0loQ/HeuHYSR+3PSz3vfEOX7Y1jNMwlOdsO/13bupO/D2/LIaour27U3pgtCA5PAEBn3TsxmE1cIKLrteLpKVdOFtcrNz7a2zklJrhvV1SG1opeU5KFXFt3yAr+2FNGjyhueExJ5trcSglbX13eQERl245mvzlytDOPqCl/91cflWl3wJYFoRgAOsVyEsP+vNsD1+coJwYeQ/83svdvLw1CYrgfSVnOtqWjPBmGYZjxS5PPlrFExNblH/447iFGwXPe3uuS5pmGuL1lJCk7+3mc4hF+Sz9eOcp66JLLtHGqp7Xfxzmysr1xjF/c3mIiYsvOJi8dr9jFqDcyy1rWpLL1lZfLfBe9nkD7tx8tZomILTqR+se41xfNaNlE+bFLt+WUSRStOclLRzEMw1h7Tt3YsumdRoYZ9cbe/FqySAgNANBxFpIYxDJ2wX7h5K0Xbje0XkvC3cnm0IsDPpzgY4XKTffDXj+wfNJH5bFHRJxclD3h7Atz1x+7RbXH3h8586D7u5dEcq50z/Nl/1wplyg95krGWyszY3+q4ThOuHrxm5mle+KJ4veUSoWLQ1snydmractnvXB2QrZIzol+nm9VWsqq9u3xWESsYPPGn4QsscKs1CNDpo8fZEWXT165KWOvpi2ftax8Rp5IzonSJp5dOmn9iVqSXE9bOemFv4b/VCLnGi9teoaISNG4xf6tUjEnL9rTb//U+bvz1TqyDAgNANBBFpIYCm41hn35Z+LJ68rT4eP8u/6VEDoW15LQiOzGmSOby8InRwQ5Es9xcETsuNJth/8szj66rWxE7KzIAMe2vol47gPHDinblpy0+1h+Xfvfzzdyftzc+Pz8p0MdeeQYNOW9uNZAUXH1/GUPX1e/MbPmjjty6ISwWnji0JFxE0YM8XL3aH3s2Mmjgxx55DjgydgRZduOZteWnvnxUNnz8fNHe/HIysnFVbHpmR8PlR17Z4yngOH3nbr5Al2uFFlkaDDVNQ2ZmZlbtmypqqoKDAxcvHixl5eX2gaNjY1ffPFFdnY2y7L+/v7z58/v2bOnQYYKYIHMJjFs++PG3LSCOolSZWge88F4nyX/7sVgfqFT2PrqyjJydXFq72vIJXTxjktDMvYlzw/8/MXs/a94dqQXe3cXByu/sOnjVqXu/eqfDXkvfrbGz/GWm32Hhjxu06WMFwNaE47MAldHmORMQ1FRUWJiYkJCQmpqqr+//6pVq+7e5ptvvqmvr09OTk5JSfHy8lqzZo3+xwlgxu4xzWAeiaFOIo/bdfH5XReVE4OPq236s76vP47E8ECsej4y7kWPfZ9++ksZy9b9mbHtiGfs+NCAkGHj6OTBU9dZqs0/lX2tjQc6B4x+Zk7cJI9jl642/11fWS1SPWGiZ+jkF+0yf/z5Yh3Llp1NXpHcckIFK6ouV/zE6zti+pAjy5atpUnP/qeX4muvoaKmoWfo5Bfttn66+ecyCdX9vW/bCY/Y/wx1dg95fAhlHsy4WEt1wlNnComIyC3k8SF0JHVT2sU6xfqMpT9aYGIgEw0Nx48fDw0NHTZsmJOTU1xcnFAoLCtTf/uKior69u1rY2PD4/EGDx5cXl5ukKECmCWzTwx/XK8bsiFn6x8q15KYPsDtr4ShoZ4d+yvV4lxeMtRasYrx4xzW64kP9q8edirOk893Gnpo2J7v3hrdnRfwdOKmYRlT+/KZoPgfr6o/nr24ebwnw/C7jNk/dtO8cR62PR8Z96LH97MC7VTOtOT1ifrgqyX0cbATn+856+eufp53vtZYUeVl6vVQn65Etn7jo1/0II/Y/wx1br67rLy6ntcn6oNNW4ZljfEUME5RB4d9duytkc5kGzDtvT2xJbOCuzBOwVM/OkJERLYBLySeWeu+bWqwEyPwXHwhcHywk85fQmPEcPc9a8X4rFy50s3Nbc6cOYqb0dHRixYtGjZsmPI2J06cWL169eTJk8eNG/fll18+9thjkZGRRMSy2j8MtW7duqCgoIiICK3v2TLV19fb2try+XxDD8RMiEQiBwcHHk9rfyHUxfq3d5fjtgJt9WIoHEefnrr+f4eK1CpDr3/Cd9bD7kRUW1tryZdL0OIHSZks5+OgoQdfyt6/ONRRF/sHbTHJNQ1isVggELTcFAgEjY3qZToCAwP79etXU1Pz+uuvOzg4DBw4UNEuEolI26RSaVNTky72bJlYlq2vr2cw/6slcrm8vr7+/ttphpk7pL27uC/+MPX/BZWNsrkHrx0qUDmbLtjN9tuovkHdbRXPjmVZU3+andGlSxft75S9fnxP5mWP4UP8MYtj7EwyNAgEApmsdXZKLBbb2qqfJP3+++9PnDhx/Pjxcrl8y5Ytr7322rZt26ytrXXxibexsbGzs9PJ/yWLJBKJ7OzsrKxM8sNphKqrq52cnLTyB6J5H5X49Ur1szsLrteKlRtfesRz3SRfW6vWV6+qqgr/2bWkeG/cqKlbLxMRjXx9y/75I51N8oi5RTHJd8jb2/vateZFM/X19ZWVld7e3sobcByXn5/v4+NDRHw+f/Lkybdv366qqjLAWAHMhRknBjnLvXO0aMw3fysnBhc7q93P9f/yKX/lxABa1WtKspBT+GV1XKgHXmjjZ5Lv0YgRI7Kzs7Ozs0Ui0datW318fBSnXB4+fHjlypVExDDMgAEDdu3a1dTUxLLsoUOHevfu3aNHD0MPHMBUmXFiKKkRj/763LtHr8rZ1gVeYX2c/3o1dGqImwEHBmCETHIG2NfXd968eWvXrlXUaVi+fLmivbS09Pz584qfly5d+uWXX8bFxTEMExQU1OZpmQCgCTNODD/m3pq1O1+5zqOiMvS7Y/uiziPA3Uzy7Aljs3bt2qCgIMXZGdB5WNOgXdXV1c7Ozp1Z09BeaDDpxCCWsUvSr3x2SqXOo7uTzXfTg8b43avOY1VVVdeuKAQJFgq/lwHgXu57zWtTdKmiITol76/SOuXGCQGuW6cHuTlYG2pUAMYPoQEA2mWWcwzJOTfm/ahaGZrPrBrv89pjqPMIcB8IDQBgKURi+dy0gu/+VKnz2M/VdueM/g97W2Z9P4AHg9AAAG0zs2mGnOuimJS8glsqheCiB/bYOCXAWYDyowAaQWgAgDaYU2LgOFp/smTZoUK1ytCfTvZ/cai7AQcGYHIQGgDAnFXUS2d+f+ngxdvKjQM8HFJn9A/q4AWSASwXQgMAqDObaYZfLlfHpl5Uqww9d7jnJxN9UefRqFT2UrkKmmuxyV/5zFwhNACARkwrMchY7r2frq765Zpynceudlabng586l/dDTgwAJOG0AAAKsygMMO1avFzqXm/FdYoN4b36bIjJri3i6C9RwHAfSE0AEArMzgwkfbPrdl71CtDLxvV+53/oDI0QGchNACAmWiSsYsPXv78VKlyo6ezzXfTg0f5uhhqVADmBKEBAJqZ9DTDxYqG6B1558pUKkNHBrpumYbK0ABag9AAAPdiEonh2+zy+fuE9UqVoW34zIcT+i0c4Y3K0ABahNAAAEQmu/6xVix/+Yf8HX/dVG7062aXEhM8FJWhAbQNoQEATPXARHaJKCYlT3hbpTL0jEE9vnwKlaEBdAKhAQBMD8fRuhMlyw5dkchbyzA42PA/fdJvJipDA+gMQgMAtM1opxkq6qVxuy5mXKpUbhzk6ZgSE4zK0AA6hdAAYOnaPDZhtInh58vVz+3MKxNJWloYhl4Z7rUmsh8qQwPoGkIDAJgGGcu9c7Tow1+uKRWGpm721t9MDYhCZWgAvUBoALBopjLNcK1aPCMl7+RVlcrQj/l0+W46KkObMLXrVN3djitXGRuEBgDLZSqnWf7wz61Zuy9VNcpaWvg85o1RvVeM6YPK0CbNtbigvdxASAxGCaEBAFQY1TRDk4x97eDlL1QrQ3s5C7ZND0JlaPPQXm5AYjBOWDcEYKGMf5oh72bDsM/+UEsMTwR3+yshFInBnNydD0w4MQgTw5nwRKGhh6EzCA0A0Mp4phk2/V4+9NOc8+X1LS0CK966J3z3PR/SHdeSMDvKKcFkE0NGPMMw/guyDD0OnUJoALBExjzNUCuWx6Tkzd5zqUHKtjT6d7c7+fKgBbiWhPlSZAVTTQwZ8QyTFsVxBevDDD0U3cKaBgBoZgzTDL+XiKJ35F6pbFJufG5wzy+i/J1QGdrcmWpiIKKIjRxHRGS+xyWaITQAWBzjnGbgOPrkt+I3DhdKlSpDO9rwP5vsHxfa04ADA4AWCA0AQGToaYaKeunzqRcP5atUhh7s6ZgSExyIytAARgOhAQAM7KiwKjb1YrlqZej5YV4fRfQToDI0gDFBaACwLEZVAlLGcisyi1YfU68MvfnpwCf7dzPIkADgHhAaAMAwrlY1xaTknbpWq9z4b58u26ODvbugMjSAMUJoALAgxjPNsOdCxew9+dWqlaGXj+791ug+fFSGBjBWCA0AoFdNMnbh/stfnVGvDL09OujxfqjzCGDUsMgIwFIYwzRD7s2Ghz/9Qy0xTArudm5BKBIDmDJhYjhzpyBk1gJ/hmEYJj7D0KPSPj3NNMjl8rS0tGPHjlVUVOzcuZNl2VWrVg0fPnzMmDH6GQAAGNzXZ8sW7Bcq13kUWPE+iug3P8wLdR7BxPklnOQSDD0IPdDTTMP27dv37t07evTo27dvExGPx+vXr9+BAwf00zsAGHaaoaZJNn1H7py9+cqJIaC73am5g18NR2IAMBl6Cg2HDx9esmTJU0891dIyZMiQwsJC/fQOAAZ0prh28IacXX9XKDc+P6Rnzquhgz0dDTUqAOgAPR2eqKys9PT0VG6RSqUymay97e8rMzNzy5YtVVVVgYGBixcv9vLyunubW7dubd68+ffff6+trX3jjTcef/zxDncHAB3AcbTmePHyI+qVob+I8o8dgsrQAKZHTzMNvXv3zs3NVW45duxYv379Ora3oqKixMTEhISE1NRUf3//VatW3b2NSCRKSEhwcXFZt25damrqoEGDOtYXgBmoi/W/u1HXxyZu1EkmbP57acYV5cQwxMvxj1dDkRgATJSeQkNsbOyGDRt++OEHIjp69OiqVav27dsXHR3dsb0dP348NDR02LBhTk5OcXFxQqGwrKxMbZs9e/Y89NBDc+bM8fb2dnFx6dKlS2efAwBoLLOgalBizpGCqpYWhqGEcK+slwf7d7cz4MBAdzLilU4ZaL5hlicQWDQ9HZ4YMWIEj8fbvn07j8f76KOPfHx8VqxYERbWweuOFxcXtxyPcHBw6Nq1a3FxsYeHh/I2p0+fdnV1jYuLq6io8PPzW7hwoY+PDxFxHNfGHjuN4zgd7dky4fXUAx29wlI5tyKzaM3xYuXK0N0drDc/HfhEkKvu+tUnM3gKHca0vWxVmBjun7uc46Limci0xP4fLMhdznEbM+KZyMj4KG5jhL6HCbqiv+JOYWFhYWFhii8DHq9TMxxisVggaK0yKxAIGhsb1ba5efPm8OHDly5dam1tnZyc/OabbyYnJ1tbW9fU1HSm6zZJJJLGxkZd7NkycRxXX19v6FGYD94roXc3sp/n6OITe7VaMnvf1ezSBuXGEb0dkyb19nDim83/EbN5Ih3g4tJmOQ2/hJMcEQkTLxBl7aICbqMfEfn3DyO6kC+kCD/1B2TEM5FJ9+gnbH3ByYS7HgUGp++KkIoJq07uRCAQKC+iFIvFtra2d282cOBAxVGJmTNn/vDDD0VFRf7+/u184jvFxsbG3t5eF3u2TCKRyM7OzsoK5Uq1o7atRl18XL8/XzFnb4FaZegVY/q8Oaq3OVWGrqqqwn/29hTkZlHY+mQNvu0jNnLcxgfbeee/O0BZxybM9PR7+caNG5s3b7506ZLaX5Dff/99B/bm7e195coVxc/19fWVlZXe3t5q23h6ehYVFbWsf+Q4ztnZuQN9AZgfrS+BbJCyC/cLk86qLC3q1UWwPTr4MR8sJ7IcwvwLFDZtYktkKMjNIpoToKUJA0s+KmQ89BQa/ve//1VWVkZGRmoloY8YMWLXrl3Z2dmBgYHfffedj4+PYonD4cOHs7Oz33zzTSKKiIhITk5+6KGHvLy8Nm/eHBIS0rMnFmwDaN+FG/UxO/Iu3FD5e2By/+6bng7oZm9tqFGBAQgP7sqikOUtGSEjLYloTlSbCxpweMJE6Sk05OfnL1u2bMSIEVrZm6+v77x589auXauo07B8+XJFe2lp6fnz5xU/T5w4sb6+fvny5Y2NjaGhoStWrNBK1wCmpc1CkFqUdLZs4V2VoddE9ps3HHUeLU9BbhaFTWs5vTcjLYnC1i9pexFkBw5PgDHQU2hwd3cXi8Va3GFEREREhPpncebMmTNnzmy5OW3atGnTpmmxUwBoUd0o++/e/N3nVeo8BrnZp8QED0KdR4skzL9AlJVbQORHJEwMj0wKW1+A2QIzo6c6Dc8++2xqampnSkACgFZoZUHD6Wu1gzfkqCWGF0Ldf58/BInBYhXkZoWtX0+RjOJqjyHpnIUeYBAmhjPhicI7xSrCE4Wd2Zs2dpIRr7WKGXqaaQgICKioqHjyySflcrly++HDh/UzAADQCpajj3699taRIplSHQZnAf+LqIBnB/cw4MDA0DLSkigkPWEjl2DJhx2EieH+u6YVcCf9iMhvY/qcpA/6T+xUdIrQwk4iNnJcRjwTnt/5hSJ6Cg2rVq1yc3OLiopydnbGaTMA+qH1BQ3lIsnzuy5mKtV5JKKh3k47ooNR59HSKc6caKNeua77VXxLG8ekhjAxTmUswvwLFBKl+ciaa2SpFsN60J20I2JjQX54XOLETr5Sejo8UVhYOGvWrMjIyBEjRoQr0U/vAKDQmWMTRwqqBiXmZKpWhl44wvvES4OQGEBxeqV+ZcQzDOO/4EH6FSaG67CytfDgLpqmPCVQkJsV1t+/uaR2R48waLwTxSZKZbzVNvabOI0WrOnks9dTaOjbt29VVdX9twMA4yOVc0szrkzY/PeNOklLo5uD9f64kLVP+Aqs9PRrBIxZRloSUdaCuM4dv3+A/uIZJi2K4wrWd/ByBDogPLgrK0S5KoUw/wJlLfBPi+I4Ln1OVse+sDXdSUZ8WhRXsD4sKS1DmBieFsWlzwlRK5HhN3Fa2IX8zr1DevrfHhcXt2PHjtra2kZV+ukdADqssLJpxFd/fvRrsXJlnVG+Ln8lDJ0Y1M1w4wLjErGR4zhOf0sfIzZyur6khTAxnLmjdXbizpW4VLU5eyE8uCsrbH3B/cfZsk//BVmUFKmyT413ErFxYwT5TZwWlhQZR8kbIxQNd8nKLbjPju5NT6HhrbfeKisrmzp16pOq9NM7AHRM6t8VgxKzzxaLWlqseMz74/oenT3Q09nGgAMD0K2MeMUJIJxiMiMp7U4qaE5Hatr8Si/IzWqpj5mRltRc5+pOQlA6dtCyz4L1YTQnXWWfbe+k3QMtiloZnVt6eU96Wgi5bt06/XQEAFrRIGUT9gm/+V2lMnRvF8H26OARfVEZGsyaMDE8MmlOeienMhSnk/gREWXERyaFrS+IIMqIj6R0josQJob7r8lIuP8kRNs7YSIvhIVRiPKQEwsSAtKYtKj0OUkfHBQmTDwYf3DixrsnfsL6d26xqp5CQ0hIyP03AgDjcOFG/fTtubk3VS5WGfWv7pumBrra40JiYEraqFcdySg1tFGvOmPNgqyw9ckRzY/3V7p1T34Tp4Xtarmmp6LWVXNfd3oR5l8I67/krm3b1eZOKGIjx1FGPJPWumFB7oJIRpFzMuZERvozu9YXnFTft/DgriylMt8dor///7dv305LS7t69SoR9enTJyoqqls3HBAFMDpfnSlduP9yk6y1MrStFe/jib6vDPc04KgAOka1XnWb5zSqUXxRL/BnFhAR0Zx0jtNwxsFv4jRqmT/wSzjJJTzgYJuvMK7aoNFOlJ5muxW6hQd3kUbp5170tKbhwoULL7zwwpkzZ1xcXFxcXE6fPv3CCy/k5eXpp3cA0ER1o+zp73Jf/qFAOTEEudmffmUwEgNYDMX1vQvuuVyhHX4JyesvRN7jnE6/gJCsXQeFbZxpoXPCxLhd0zS5avm96Sk0JCUlTZgwISkpadGiRYsWLUpKSho3btyXX36pn94B4L6yrtYO2pCz54JKZegXh7rnvBo60AOVocFyCRPjNT+R1C/hJBeV1n49hYgl62mBv6LMdoeXTAgTwxkmMomSIjWs/pARzzBxlKyNc1v0dHiioKAgIaF1joVhmMjIyPnz5+undwC4B5aj/x279namemXor6YExAxEZWiwNP79wyip+bpbd45nPNBxhoiNHNfunR05atHpfdxzRA9GTzMNjo6Ot27dUm65ceOGg4ODfnoHgPaUiyTjNv395uFC5cQw1Nvpj1dDkRjAiDVXUfBfkKVYgNButYQH5pdwMn3OnWoJcZSs63oQpkVPMw2jR4/+9NNPZTJZUFAQEeXm5n7xxRdjxozRT+8A0KZD+ZXPp16sqJe2tDAMLRrh/eGEftZ8XCMGjFnH/mK/a6Vh29pdSwh6Cg2zZ89mWfa9995jWZaI+Hz+k08+OWvWLP30DgBqpHLujcOFn/ymUufRzcE6eVpQRKCr4cYFAEZNT6HB2tr6lVdeiYuLKykpIaJevXrh2ASAoVypbIrekft7iUi5cbSvy3fRwR5OqPMIAO3S05qGkydPrl+/3t7ePigoKCgoyM7O7rPPPjt9+rR+egeAFinnbg5OzFZODFY8ZuV4n8zZA5EYAODe9BQadu7c2bNnTx6vuTsej9ezZ8/U1FT99A4ACrN2X5qRklcrlre09HYR/Bo/6I1RvXlYwwAA96On0FBUVDRkyBDllsGDB1++fFk/vQOAwubscuWbU0K6n0sYGtbH2VDjAQDTor81DXV1dcottbW1Tk5O+ukdANTYWvHWPuH78qOo8wgAD0BPoWH48OGbNm3q1atXjx49iOjmzZubNm3CVawAdKf2Wd/27gruYZ86o/9D7liMDAAPRk+hIT4+funSpbGxse7u7kRUXl7u5eU1Z84c/fQOAC1mPey+4Ul/e2s9HZoEAHOip9Dg7Oz8+eefnzlzRigUElHfvn0fffRRa2tr/fQOYGnam2bYOaP/9AFueh4MAJgNPYWG7du3T506dfjw4cOHD1e0FBUV/fPPPxMnTtTPAAAsR2mtpL0LTCExAEBn6GmKcsuWLQ0NDcotUql040aU6QTQsvRLlYMSsw09CgAwT3qaabhbcXExn883VO8A5kci55YdurLuREl717Nz3o6TnAGgU3QeGmbPnq344bXXXmtJCVKptLS0dOrUqbruHcBCCG83xqTkZatWhlaGxAAAnafz0DB+/HgiSkpKGjlypL29vaLRxsbGx8dnwIABuu4dwBLs+Ovmyz/kK9d5BADQBZ2HhmeeeYaIevbsOXz4cJwuAaBddRL5q/uE36rWeezb1ZaKDTUiADBnelrTEBISIhK1MXHq6oqL8AJ00F+ldTEpeRcrVJYYP/2Q29dTAmi2oQYFAOZMT6Fh+vTpbbZnZmbqZwAA5oTj6PNT15ekX2mSsS2Ndta8dU/4xT/iQUS1hhsbAJgxPYWGr776SvmmRCJ58803582bp5/eAczJ7Qbp7D35af/cUtyMcyxNrvP8V0+HnTOCQ3qiMjQA6JCeQoOvr3p9uujo6KNHj44ePVo/AwAwD78V1jyXmnetWqy4ecrzzJxb//rvMI/1k/xQGRpMjlwur6+vd3bGdVZNhsF+y/Tp0+fcuXOG6h3A5MhZ7v2fro7++lxLYiCi36Wu70YNSJoSgMQAAHpggOJOHMdVV1dnZmZ2795d/70DmKLrteLndl48dqVaufHR3s5Twod6DfA21KgAwNLoKTSMHTtWrcXOzu7//u//9NM7gEk7kHd75u5Lt+qlLS08hpb8u9f743z4otvEMAYcGwBYFD2Fhvfff1/5pqOjY9++fR0d27uqzv1lZmZu2bKlqqoqMDBw8eLFXl5e7W359ddf79q1C6dpgCkSy9j/O1SYeFKlMrS7k03ytKBx/l2JiHNwMtjgAMDy6Ck0PProo1rcW1FRUWJi4ooVK4KDg7dt27Zq1arPP/+8zS137979999/a7FrAL0puNUYk5KXc12lwMk4/67J04LcnWwUNxlrG0MMDQAslJ5Cwz///HP8+PHS0lIi8vb2fvzxx4OCgjq8t+PHj4eGhg4bNoyI4uLipkyZUlZW5uHhobZZZmbmqVOnlixZMmvWrM4MHkD/vvvzxty0ApFSZWhrPvP+OJ8l/+7FUzkcgWMTAKA/+ggNGzZs2L9/v6ura69evYjo559/3r17d1RU1CuvvNKxHRYXF7ccj3BwcOjatWtxcbFaaDhz5swPP/ywZs2aNitRAhitOol83o8FyTk3lBt9XG13RAc/2htnpgGAIek8NKSnpx88eHDhwoUTJkzg8XhExLJsenr6hg0b/Pz8FJezelBisVggELTcFAgEjY2Nyhtcu3bt66+/Xr16tYODg1poqKqq6tDzuM94GhoadLFny8RxnEwmM/QoDOPvG42z910TVoqVG6OCXNZN8OoikGv+Gbv7qvP4fGoLx3F4MbVI669n165dtbg3UKPz0HDgwIEpU6ZERka2tPB4vCeeeKK4uHj//v0dCw0CgUD5S0UsFtva2ipvUFZWVlJSEhsbS0QcxxFRfavTmQAAIABJREFUZGTkO++8M2zYMF18ngQCgb29PT6p2lJXV2dra2tlZYDzgQ2I4+jTrOuvZ1wRK1WGtrfmrZ/k999h6ofe7uvuMtL4fGpLdXW1i4uLoUdhJuRyeUNDg5MT1vOaDJ3/Xr569WqbSwoefvjhgwcPdmyf3t7eV65cUfxcX19fWVnp7a1yqvojjzxy6NAhxc/l5eWxsbHp6ekd6wv0j1M+VcAy3G6Qvrj70r7c28qNIT0dds4I/hcqQxsZC/x86hReT9OijypybX4mOI5jOnp++YgRI7Kzs7Ozs0Ui0datW318fBRLHA4fPrxy5cpOjRVA744X1gxKzFFLDPGPeJydNwSJAQCMis5nGnx8fH7//fehQ4eqtZ89e9bHx6dj+/T19Z03b97atWsVdRqWL1+uaC8tLT1//nynhgugR3KW++Dna+//fFXOtgZrFzurr6cEPP2QmwEHBgDQJp2HhkmTJn3yySfe3t4TJ05sWQi5f//+H3/8ccmSJR3ebUREREREhFrjzJkzZ86cqdbo7u6Oyk5ghK7Xip/defHXuypDp8QE9+1q296jAAAMSOehYfz48VeuXNmwYcPWrVsVp1wWFxdXV1dPmTLl7trSABZiX+7tF3dfut2gUhl66cje743ta8VD6QUAMFL6WKD+8ssvjxkz5tixY9evXyeisWPHPv7444GBgXroGsDYiGXs6xlXPs26rlYZetv0oP/44QQHADBqejqrLSAgICAgQD99ARit/FuN0Tty/yytU24cH+C6dVpQD0drQ40KAEBDlnUqPIABbf3jxitpBXUSlcrQK8f7LH6sFy5UCQAmAaEBQOfqJPK5aQXb/lCvDL0zpv+wXihrAwAmA6EBQLf+uF4XnZJbcEul0vn0AW5JUwOdBXeXewYAMF4IDQC6wnG0Iev60rsqQ2940n/Ww+4GHBgAQMcgNADoxK166czdlw7kqdR5fMjdIXVG/+Ae9oYaFQBAZyA0AGjfsSvVz+28eL1W5WKVLz/qufYJX1srfdRuBwDQBYQGAG2Ss9x7P11d+cs1tcrQm6YGTgnpbsCBAQB0HkIDgNYU14if3Zn3W2GNcmNYH+eUmP69XQSGGhUAgLYgNABox4+5t2btzlerDP1/I3u/i8rQAGAuEBoAOqtJxr6efuWzUyqVoT2cbLZNDxqDytAAYEYQGgA65WJFQ0xK3l+qlaEjAl2TpwW5OaAyNACYFYQGgI7bklM+/0ehWmXoDyf0WzTCG5WhAcD8IDQAdEStWD43LX/7nzeVG3272e2MCR7qbeDK0LXP+hp2AABgrhAaAB5Ydoloxs48tcrQMQN7fDUlAJWhAcCMITQAPACOo/UnS5YdKlSrDP3pZP8XhxpvZWjHbQWGHgIAmAOEBgBNVdRLX9h1Mf1SpXLjQA/HnTOCg9xQGRoAzB9CA4BGfrlc/VxqXmmtRLnxleGeH080rsrQWNAAALqD0ABwHzKWe/fo1VW/XFUqDE2u9labpgZG/QuVoQHAgiA0ANzLtWrxszvzThSpVIYe0bfL9uhgI6wM3eY0A/t5jv5HAgBmCaEBoF1p/9yatedSZYOspYXH0Buj+rz9nz6oDA0AFgihAaANTTJ28cHLn58qVW70dLb5bnrwKF8XQ43q3rCaAQB0DaEBQN3FioboHXnnylQqQ0cGum4xwcrQztsvV1dXG3oUAGAmEBoAVGzOLp//Y0GDtLUMg8CK9+EEnwXhRl0ZGtMMAKAHCA0AzWrF8pf25qecU6kM7d/dbke04StDd4zz9suGHgIAmBWEBgAiouwSUXRK3uXbKpWhnx3c44soVIYGAGiG0ACWjuNo7YmSZYeuSOWtdRgcbfifTvZ7IdR4K0Mra/PYBKYZAEDrEBrAolXUS+N2XcxQrQw9yNMxJQaVoQEA1CE0gOX6SVgVm3qxTNRaGZphaN5wr48i+xlVZegOwDQDAOgCQgNYIhnLvZ1Z9L9j15QrQ3ezt970dMDk/iZWGRrnTQCA3iA0gMW5Vi2OScnNulqr3PiYT5ft0cG9uhhdZWgAAOOB0ACWZe+FW7P2XKpubK0Mzecxb47qvWJMH765VIbGsQkA0BGEBrAUTTJ20YHLX55WqQzt5Sz4LjpoZD8jrQwNAGBUEBrAIuTdbJi+I/d8eb1y4xPB3b59OrC7qVWGVoYFDQCgTwgNYP42/V7+6j71ytCrI/q9GuZlzJWhOwbHJgBAd0w1NGRmZm7ZsqWqqiowMHDx4sVeXl5qG/z66687d+4sKSmxtbUNDw+fO3eujY2NQYYKBlQrls/Zcyn17wrlRv/udjtj+g/xcjTUqLQF0wwAoGcmeTJ6UVFRYmJiQkJCamqqv7//qlWr7t6mpqYmOjr622+/Xb169fnz53fs2KH/cYJhnS0WDUrMVksMsUN6/vFqqBkkBgAA/TPJmYbjx4+HhoYOGzaMiOLi4qZMmVJWVubh4aG8zZNPPqn4oXv37o899tiVK1cMMFAwEI6jj38rfvNwoVpl6M+j/J8f0tOAA9MilI4GAP0zydBQXFzccjzCwcGha9euxcXFaqFB2aVLlwICAvQ1OjCwm3XS53ddPJyvUhl6sKfjzhn9A7rbGWpUAABmwCRDg1gsFghai/AIBILGxsb2Nj58+HBhYeHSpUsVN2tqarQ+HolE0tjYqIs9WyaWZevq6pgOrVE8ViSK33ftRr20pYUhih/q9u5oTwFfUlMjucdjTQgzd8jdjdwXf7T5IeQ4TiQS6X5QloLjOPxn1xaO47T+enbp0kWLewM1JhkaBAKBTNZanEcsFtva2ra55fHjx7/++uvVq1e7uDSfiO/k5KT18VhbW9va2upiz5apvr7e1taWz3+wC1LLWO7to1c/+rVYvTL0VP9Jwd20PESDqov1b7O9vU9gbW2tg4MDj2eSC5iMUG1tLf6zawvLsg0NDY6OWGNkMkwyNHh7e7esUaivr6+srPT29r57swMHDmzfvn3NmjU+Pj4tjbr41ckwDMMw+KWsRQ/6ehZVNcWk5J2+plIZ+vF+Ltujg7yczaoydHtnTNx7NQOPx8PnU1s4jsOLqS0cx5Fufi2DjpjkWzVixIjs7Ozs7GyRSLR161YfHx/FEofDhw+vXLlSsc22bdt27979v//9z93dvbGxsbGxUfHpBPOz+3zF4A05yomBz2Pe+U/fn2YPMLPEAABgWCY50+Dr6ztv3ry1a9cq6jQsX75c0V5aWnr+/HnFzydOnLh+/frs2bNbHpWamurq6mqA4YLONErZhQeEG8+UKTd6dxFsjw7+t48ZHtfs2DQDAIC2MPj7u/PWrl0bFBQUGRlp6IGYCZFIZGdnZ2V1n0T7z4366B15F26oVIZ+sn+3zU8HdrM34crQ7elwYqiurnZ2dsYMsLZUVVV17drV0KMwE3K5vL6+3tnZ2dADAU2Z5EwDwNdnyxbsF6pVhv4oot98c6wMjcqPAGAkEBrAxFQ3yuJ/yN+lWucx0M0+JSZ4sKcZrsG+d2LAgQkA0CeEBjAlp6/VztiZV1jZpNwYF9rzs8n+jjYPdoqmSUBiAACjgtAApoHlaM3x4reOqFSGdhLwv4jyf26wmVSGVnbfQxJIDACgfwgNYALKRZK4XRePFFQpN4Z6OaXEBPubXWVoTVYwIDEAgEEgNICxO1JQFbfrYrmotQI0w1BCuPf/JvgIrMznjADNVzsiMQCAoSA0gPGSyrm3jhSuOa5SGbq7g/W3Twc+YS6VoR/ozAjEBQAwLIQGMFKFlU0zdqpXhh7Zz+U7c6kM/aAnUiIxAIDBITSAMfr+/K2Xf7xc09R6WTIrHrNiTJ83RvXm80y+DkMH6i4gMQCAMUBoAOPSIGVfTb+25c9byo29XQTfTQ9+zPQrQyMuAIBJQ2gAI3LhRn30jrx/VCtDR/2r+zdTA0y9MjTiAgCYAYQGMBYbz5QtPCBsVKoMbWvF+//27j28qSrvF/jauTa3tuklbWnaUgptKchF2iJU+o6CgvAw3M6x5aIeXhQUxlHEeb3wjAf1Pb6IVAUeRCqMgsNNcRg8jA5ykIsCrUBhXoGW0gs0lLbpJW2TNNedff7YsJukTdlCS9Lw/eijydqX9dsrK9m/7r2y8sHUQcvG9e+ZoTF2AQCCBpIG8L9Wi/O5v5Xv/dVjZuj0aPmuuUNH9eeZofHNCAAIMkgaAtp98ktFAkK2ErLVq1RHSAlp73aD4IJ0AQD6CyQNges+yRjuZ0gXAKB/QdIA4AdIFwCgP0LSAHDvIFcAgH4NSQPAvYB0AQCCQPD83k/wwWkmaOClBIDggCsNAS2YTjZ7/rtx8TeX2200VyISUKsmDXzjkUSviaGNRqNMJhOJ0DkBAAILPpehz3U4XH/89srW0/XuhYnh0p1zh+Yk9fuZoQEA7h9IGqBv/Vpvztt5qVTf4V44a1jU1v+Rppah+wEA9Cf41IY+tKnoxisHKq1Oj5mhC6alLB03wI9RAQDAnUHSAH2i1eJc9M3lv13w+LHK9Gj5nnkZI+IU/ooKAADuBpIG6H0nr7XP3XWpptXmXvjvmbEbZgyRi/GFHQCA/gpJA/QmF0NWH63534euOl0MVxgqFX46O3XuSI0fAwMAgLuHpAF6TZ3RvmB36Y+Vre6FWVrV7nkZgyJC/BUVAAD0FiQN0Du+v9zyzFdljWYHV0JRZMWEhPcmJ4uFVA8bAgBAf4GkAe6Wg2be+GfVhz9fZzrvSJBohXh7XvqU1Aj/xQUAAL0MSQPclcpmS/6u0jPXje6FEwer/5qXHquS+CsqAADoC0ga4M7t+pf++b+Ve80M/fZjA1//nffM0AAAEASQNMCd6HC4Xtx/5S9nPGaGTlKH7MwfOj4p1F9RAQBAn0LSAL/Zv+pM+TtLyxo9ZoaeMzx6y5zUcMwMDQAQvPARD7/NxlM3Xv2H98zQH01PeX4sZoYGAAhySBqAr5YO56JvLv/9osfM0Bka+Z75GcNjMDM0AEDwQ9IAvPx8tW3+7lKvmaGfzYpb9/vBmBkaAOA+gaQBbsPFkPeOXHv7/13zmhm6cE5a3ohoPwYGAAD3WNAmDS6Xq7Cw8ODBg06nMycnZ/ny5VKp1N9B9T832u0L9pQe8ZwZOjtBtXtuRjJmhgYAuM8EbdLwj3/849SpU+vWrZPJZO+99962bdsWL17sr2BKbpSY7eYHBzxotpvFQrHepFfL1Bql9w842Wl7q6VVIVGYHWaxQKyWqblFZrvZbDeHy8IlQgkhRG/WiwXiOmOdxWEZEz/GfSfHrx5XSpTJ6mQH7bA5bXqzPkIRcb31eowyxsW4ZGIZIcTqsKplaoPFoApR1bXXaRSaBnODXCw3WA0WuyVCFtFgaohVxR6vtr9z2N7S0TnmkSJkzgOONU9EtVgumvXSquaqWGVsrbFWKpTKxDKrwyoXy5s6mqKV0Y2mxih5VIu1hVsUKY+sN9VHyCPq2+vVMnW7vV0qlIqFYovDMjputN6sb7O3NbQ3hIhC2sxtMqlMFaKyOW1ikdjmsMWqYvUmfUpkioN2aBSa4tpisUDsoB1O2pkQnqA36SMVkXqjXi1TmxwmuVguEoisDqtIIDJYDFGqKIPZECWPUkgVcrG8ylBlc9geiH2gwdSglqt1Bl2MMqa6tVoqkg5QDTDbzVKhtN5Ur1Fp6trqQmWhEoEkRhnza8OvUpFUKpRaHBZtqLbB1BCtir7RdiNWGVtnqpOL5XKJ3GK3xKpi64314fJwnUGnUWpohlZKlJHySLZl9GY92zIahcbsMHOvBUVR7sHIJXKZWFbVUmV1WMfEjzFYDBRFGW1Gbtvq1mqlRBkiCrE4LOnR6Wa72ck4K5srY5Qx9aZ67tVnO5jZbq5oqUgQJOiMOrlYHqeKc9AOQojBYpCIJZVNlbGqWI1Sw/U3vUlvsBgi5BEtHS1qmZpQhFtksBgctEMhUfjqimww3KLbYnfIxsl1foXEe3yM2W6+3nZdJVWJBCKvFbzeFz1g42QPpNt3EyGEC6bbrQCAEEIx7nP/BpEVK1bk5OTMnj2bEFJcXLxu3bqdO3f2UV0ffvhhenr61KlTuy4quVFSpi8jFCGEUMRjwiOZWDYzYyb39Gzt2fKmcvYxwzAURWmUmgkDJ0iEkiJdUXVLNbsoISyh3lRvd9oJIRRFEUIYwmiUmkkpk3648kNTRxNbC/uysiuw67D/Y+Ngg2Fr4Wp0X+RwUbvPq/55WeneOcJCXC+MM4yItTGEIQyhKIphGELd3C0XzG0XuR8juxoXDPvUarVKxBKhUOgRGLtbtwPpfrddVuC4r9lDMOyq7FOfDegWjHuDc4u4rahbbzGPpqaI18vUw2vB7sTXtp3BdFkkEUnkYnmbta2joyNEFkLd2iPp0hXZ2sNCwjocHQ7a4RUMRVHRimgH7Wi1troH021XZINJi057cMCDxDeDxfDT1Z/MdjMhRCwUxypjdW06dlGyOvmhxIe4Nf9Z/k+DxeC+Lfe+OF59vLa9li3socbrbdeLdEVsqqSQKEJEIc0dzeyi+NB4vVnvfghioXhiykS1TF1lqCqpLWG3UsvUj6Y8yuUlBoNBrUYa0TtomjabzaGhmNyl3wjaIWw6nS4+Pp59rNVqGxsbrVbrvQ/jcuNliqIoQnX9mLY4LEW6IvapwWLgMgZy6yyiN+mrW6qrDFVcxkAI0bXp7E47oTpPQhSh9CY9IaTZ3MzVQlGU+ymTIhRhCLsVG4z7ieHmGhRFGEIRqt4oevtQ1PeeGcMDsbb/ekI/ItZGiNt5kbr1j1sw3Gmpm0VuuDOlezBdG4qiuDqIexVda+w8jptHeeu06nGIt1ZlPFIK99P2zfMuYbwakNutdzA+4uSWUlQ3Ebpv5fVa3HzM3MqliOcihrhv21kj5R2M3Wlvs7Z1Of5uuiJ7+G3WNq+Mgbh1xVZrq1cw3XZFdvnlxsteZ3ovv9b/ymYMhBC7085lDISQakN1laGKfXy+7rzXftzfF1zG0HONxbpi9txPCDHbzU0dnV//qW2v9ToEB+346epPhJBztee4rQwWw6/1v/ZwOAD3j6C90jBjxoy333571KhRhJCmpqa5c+d+/fXX4eHhr776aq/XpdPp5HJ5ZGRk10XVsuquhZwQV0icLY4QYhAbWkWt3a4Q4grpdpEXjU2jl+p5h+yTzpV2nn7EQTov9lLElSEsShWc7Txf9TGXy0UJvM9t5NYf7vcmhtvWdS+DuUu+2rNPRdmjVLTK19Jrsmsu4vK1NNwZrnaoCSF10jqroJtcv9v3RYQjIswZ1nXlnt+D3Yq1xdZLPWY75d6qhBCn0ykSBe2N3XuMYRiapnu3PdeuXduLewMvQdv1pVKp0+lkH9tsNkJISEgIIeSpp57q9bq+/vrrxMTEsWPHdl10UHfw5lX67j6xI6QRWdFZhJDajtoLLRe6rhCviJcJZRXtFR6lbncZOJO1kw9eP8grXIZ0G5KdFu6vTDrT4PGFCHWIbV56RaJKSEj2bXb4Wxf5Dslhd4hEIqrrz1dwe+Oz257X8bWUi4Twi5xnjT0v+k11/aYmJYQQYrPZpBIp31p47p9b2cdus6KzIqQ+f+P0ZMNJo+PWj5x1qXFw6OCU0BRCyPnm8w2Whq7hdfu+GB05WiPzHidECPF+X/A4wNy43ON1x91LNCGa0VGj2ccmk0mpVN5mF8CPy+WyWq1yudzfgQBfQZs0aLXampqazMxMQkhNTU1kZCSbNIwcObLX6zp8+LBWq+12z1dEVxxOh9dfpdzTiSkT2YFXQ+mhllKLnbZ3rkEYiqImDp6oECuYcoZbJKAENEN3vbo+csTIS+RSZxWeF5k97r6zN9oJQ7kFdc0g3nRSfaPdoz9kJ1gWZ7fJJWpC1MTzb+vOnfi4HtD9Iq+ouAENt4JhV7BYLdyYBq9t3f/bw8FyR8odtdeaXofPNbhHLT5etc5g+B2j99CKbhuhSzCEu2lCPBdR3pX6CoYrYcc0CCiB11F4tFWX1+K2wXTbFdlgJEJJztCcHgYnChuE3AV/hjBCSuhibl54kAglk1Mns6Md40xxhysOdz189n1hK+2cNUQilPzb0H/rtsa20Db3GxnuBJSAq5eTGpU6Jn6MudLM3vVjTRg4QRumZR9jTEMvwpiGfke4atUqf8fQJywWy/79+zMzMx0Ox6ZNmx588MGsrKw+quvUqVNRUVFDhgzpuihDk3G19Sp7q1gkECmlSva+slwiz9RmxofeHHUhFAiTwpPYT3CJUCKTyCLlkdkJ2RqFRiKUxKniaIaWCCXxofHjk8YrJUoXcdEummZoiqLCZeG/S/6dTCyLVcXWGesctIOiKJFQFCIKcTEubgQfRVECgYAilFAgpChKSAkFAgEhhFDUwXLF+hPqNmvnSVoiZP5XZtu8UUaRwPMj9dawO6rrjS3uD/SufC3yUe6knUKhkBJ0cz/k5oi/O9otO87j1kmQd5B8VvC9iB1eIKAEnedagYCiKAH3D9WZ33ArMIThmlogEHA33dmrL9zwSYqixEKxQqrgxiKw/xUKhNGK6PSo9NSo1HZbu8VuEYvE7CZs76IoyuVyEXKzCqlIGquKHRU3KlIeabKbaIYWEIFQKBQKhEqJMloRnZ2YrQ3V0gwtEorkErlCrNCGabmu6GJcNEMTQsRCcbgsPCEs4aHEh9jvhviiUWoUUgVhiEwsS49Kz9RmMoQRCoQapSZLmxUacvMUopAoQkNCTXaT0+UUCoSh0tABoQPGxI9h3xfaMC33vuihxrjQOJlIRjN0eEh4RkxGenQ6IYTdKkubFSoNpRlaLBTLJXKVVJUWlfZA7AOEEG2YlttqVNwoLmMghFitVpmsp6MD/hiGcTgc+D58PxK0YxpcLtemTZsOHTpE0/S4ceOWL1/ed+/zHr49EeCaOxyL9pbvv+QxM/TwGMWueUP9ODO00WiUyWS4bdxbWltbQ0NDb+aIcNdwpaEX4UpDvxO0n8sCgWDZsmXLli3zdyCB66fqtvm7S3VtHjNDL86O+2g6ZoYGAIBuBG3SAD2gXcz/OVLzzuFrtNvM0OEyUeHs1P/5AGaGBgCA7iFpuO/UttsW7C47WuXxdbWHEkN35g/FzNAAANADJA33lwOlzQv3Xm4yO7gSAUX+lJvw7uPJYmH/mHUAAAD8BUnD/cLmdL32fdX6k7XuI19jVZLtT6Y/NgSjugAA4PaQNNwXrjRZ8nddKqk1uRc+PkS9PS89Rsnrt4UAAACQNAS/L0salv79islOcyViIfWfjyf/KTeBwh0JAADgDUlDMDPZ6WV/v7K9xGMi3uSIkF1zh45NwBejAQDgt0HSELTO3TDl77xU3mRxL3xyRHTh7NSwELzuAADwm+HkEYQYhmw4Wfsf31fZnJ2TQMvFgo+nD34uO86PgQEAQL+GpCHYNHc4Fn59+f+WNrsXDo9R7JmfkaHBT8kBAMCdQ9IQVI5Vtc7fXVbb7jEz9PNjB3w0PSVEhJmhAQDgriBpCBK0i3n3x2v/+WON18zQW+akzhmOmaEBAKAXBO2vXN5XrrfZ5u8uPV7d5l44LjF019yhSWrMDA0AAL0DVxr6vW8vNf/73svNHR4zQ7/2u8R3HhsoEmAeBgAA6DVIGvoxm9P1H99XbegyM/SXeemTBmNmaAAA6GVIGvqry40dc3eVnrvhMTP0lNSI7Xnp0Qqxv6ICAIAghqThrrS1tRUUFJw9e1Yul8+ZMyc/P//e1LvtbMMf9nvPDP3e5OQVE/rfzNCnT59+8803uadisfi7774jhJSXl3/00UdXr16NiYlZunRpdna2/2LsHw4dOrRnz54tW7ZwJb7a8NChQ1988YXBYEhLS3v11Vfj4+P9FHLgcjqdGzZsEIlEL774Ilf44osvlpWVcU8XLVqUn5/vcrkKCwsPHjzodDpzcnKWL18ulUr9EXLg+uKLL44eParX6yMjI2fPnj1r1iy2vNt+iPYMdAzchXfffXfVqlUtLS1lZWVz5swpKirq6xrbrc4Fu0vJa0fd/x30ftEvuva+rrqP/PLLLwsWLDDeYjKZGIax2+35+fk7d+40Go2HDh2aPn26wWDwd6SBq6mp6emnn54xY8aiRYu4Ql9tWF1dPW3atOLi4vb29o0bNy5dutR/gQeoEydOzJs3b9q0aevXr3cv/8Mf/nDgwAGur9rtdoZhvv3226effvratWt6vf7ll1/evHmzn6IOXJs3bz5//rzBYCguLp46dWpJSQnjux+iPQMcvrt/5xwOx8mTJxcsWKBWq9PS0h5//PGjR4/2aY1na41jNpz96zmP35LIH6k591JmllbVp1X3KYqilLcoFApCyKVLl6xWa15enlKpnDRpUkJCQlFRkb/DDFyRkZHbtm17/fXX3Qt9teHx48fHjBmTnZ2tUqmeeeaZioqKuro6PwUeoMaPH79jx47p06d3XSSVSrm+KhaLCSFHjx6dMWNGYmJidHR0fn5+X38I9EeLFy8eOXJkeHh4dnZ2ampqVVUV8d0P0Z4BDknDnauvr3c4HNylXa1Wq9Pp+qguhiEf/3w9Z9P5K26/JSEXC7bMSds1d2ioVNhH9d4bDQ0NeXl5ixYtWr9+vclkIoTodLoBAwYIBDf7Z5+2bbDy1YY6nY7rtAqFQq1Wo23527hx4/z581955RUui3VvT61W29jYaLVa/RdgQLNardeuXUtOTia++yHaM8BhTMOds9lshBDufptUKrVYLD1ucYeazI6Fey8f8JwZ+oFYxZ55GUP7/8zQqampn3zyiUqlamxs/Oyzzz788MO33nrLZrO538jsu7YNYr7aEG17x1566SWFQsEwzC+//PLOO++sX79+8ODB7u3JPrBarSEhmB+lGxs2bEhNTR09ejTh1z/RngEIScOdYzu00+lkr1LabLa+6NlHKluf2uM9M/TScQMKpgXJzNBhYWFhYWGEEI1G89xzz73yyisMw0ilUqfTya1js9mUSqVgOSuvAAAI5klEQVT/YuyXfLVh13J8IvM0ePBg9sHMmTNPnTpVVFQ0ePBg9/Zk/5BAe3Zr06ZNlZWVBQUFFEUR3/0Q7RngguGs4y+xsbEikaimpoZ9WlNTo9Vqe3H/Thfz1qGrj239b/eMQS0T/e2pYRtnDAmOjMGLxWJRqVQURWm12uvXrzO3JqDo9ba9H/hqQ61Wy3Vas9nc0tKCtr0DFoslNDSUeLZnTU1NZGQkTnJeaJr+4IMPysvLCwoK2EFLxHc/RHsGuCA88dwzYrH4oYce2rFjR2tra0VFxeHDh3Nzc3tr5zWttkc/+9e7h6+5/5ZETlLY+ZcyZw2L6q1aAsGePXuOHTvW2NhYWVm5devWRx99lBAybNgwsVj81Vdfmc3mH3/8UafTjR071t+R9jO+2vDhhx8+c+bMmTNnjEbj9u3bk5OT8ZVLPurr6wsLC69cuWIwGPbt21ddXT1u3DhCSG5u7rfffnv9+vXm5uavvvqqFz8EggNN02+++WZ7e/uqVasEAoHFYmHHKPjqh2jPAIffnrgrBoOhoKCgpKRELpfPnDlzwYIFvbLbv19sevabcq+Zod94JHHVpCCcGfrgwYN79+6tq6tTKpUTJkxYtGgR+4dFaWnpunXr2DkGlixZMn78eH9HGrj0ev3zzz9P07TValUoFI899tgLL7xAfLfh999//+WXX7Lfj1+xYkVCQoJfww84R44c2bBhg81mYxgmJCTk5Zdfzs3NbW9vLygouHTpksViGThw4OLFi0eMGEEIcblcmzZtOnToEE3T48aNW758uUwm8/cRBBCTycRNzMDSarWff/458dEP0Z4BDklDYLE6XX/6rmrjKY+ZoeNUkr/mD300Jdx/cQEAAGAgZCApa+yYu6v0vOfM0E+kRWx7EjNDAwCA/+FKQ6DocLgGvV/cYLJzJRIh9V9TBi1/WNvvZoYGAICghIGQgUIuFnwwdRD3dHCk7MQLo1+ZgIwBAAACBa40BJanvyr7sqRh3ijNplmp/X2eRwAACDJIGgKLyU4fKG3OH6nxdyAAAADekDQAAAAALxjTAAAAALwgaQAAAABekDQAAAAAL0gaAAAAgBckDQAAAMALkgYAAADgBUkDAAAA8IKkAQAAAHhB0gAAAAC8IGkAAAAAXpA0AAAAAC9IGgAAAIAXJA0AAADAC5IGAAAA4AVJAwAAAPCCpAEAAAB4QdIAAAAAvCBpAAAAAF6QNAAAAAAvSBoAAACAFyQNAAAAwAuSBoB+ZurUqSdOnPB3FABwPxL5OwAA8Ga1Wvft23fs2LHa2lpCSExMzLBhw6ZMmTJ06FB/hwYA9zUkDQCBpb29fcWKFRaLJS8vLy0tzW6319TUHDlyZM2aNZ9//rm/owOA+xqSBoDAsnHjRoPBsGXLlvDwcLZk+PDhU6dOLSsr81rTYrH8/ve/X7t27ciRI9mSmTNnvvTSS4888gghpLq6urCw8MKFC1KpdNiwYQsXLhw4cGBjY+Mnn3xy9uxZQkhmZuayZcsiIyMJIc3NzZs3bz537pzNZtNqtbNnz540aRIhxGg0bt68+eTJkzRNp6amLl26NDk5+Z41BQAEGoxpAAggVqv1+PHjeXl5XMbASU9P57+fhoaG5cuXh4aGrlmzZuXKlWFhYZcuXXK5XH/+85+NRuPq1atXr17d2tr61ltvMQxDCFm9erXZbP7ggw8+/vjjyZMnV1RUEEJcLtfrr79usVgKCgo+/fTTlJSUN954w2Kx9OLxAkD/gisNAAHkxo0bTqdzyJAhd7mfffv2qdXq1157TSAQEEJGjx7tcrlOnz599erVXbt2qdVqQsjKlSvnz59/9uzZzMzMysrKJ598cuDAgYSQQYMGsTs5ffp0Q0PDunXrRCIRIWTJkiU//PDDhQsXsrKy7jI8AOinkDQABBz2JE0IKS8vX7ZsGfs4Li5u+/btPPdQUVExfPhwNmNgCQSCq1evxsbGshkDISQyMjImJubatWuZmZlTpkzZunVrcXFxRkbGqFGj2LTgypUrbW1tTzzxhPueGxsb7/LoAKD/QtIAEEDi4uIEAkFZWdnw4cMJIUlJSZ9++ikh5Lvvvjt9+nS3m7D3F7qiKOq21XHbLl68+OGHHz59+nRpaenevXunTZv2xz/+kWGYAQMGbNu27Q4PBgCCDsY0AAQQmUyWk5Ozd+/e5uZmQohUKk1JSUlJSYmIiOi6slQqFQqFra2t7FOapl0uF/s4KSnp4sWL3FNCiMvlGjhwYH19vcFgYEuam5v1en1SUhK7bUZGxjPPPLN69eolS5YcO3aMEDJo0KC6urqamhr3St33CQD3G+GqVav8HQMAdBo+fPjhw4f3799PCGEYprm5+eLFi0ePHu3o6Jg1axYhZMeOHbm5uYmJiRRFnT17tqSkJCIioqys7P33329qapowYUJycnJcXNyePXtu3LgRERHR1NS0d+/elpaW3Nzcn3/+ubi4OCEhobGxcf369SqV6tlnn6UoauHChXK5XCaTNTY2HjhwIDo6euLEifHx8adOnTp48GBERARN02VlZVu2bImKioqJifF3IwGAf1C+rm0CgL+YzeZvvvnmxIkTtbW1LpcrLi5u7NixkydPZq8KTJ06deXKlTk5OYSQmpqatWvXVlRUxMfHL1y4cM2aNdxXLisrKwsLC8vLyymKGjZs2LPPPpuUlKTX6zdu3FhSUkJufeUyKiqKEPLZZ58VFRXV19fL5fKsrKzFixezX98wGo1/+ctfTp061dbWFhUVNWrUqIULF3Z72QMA7gdIGgAAAIAXjGkAAAAAXpA0AAAAAC9IGgAAAIAXJA0AAADAC5IGAAAA4AVJAwAAAPCCpAEAAAB4QdIAAAAAvCBpAAAAAF6QNAAAAAAvSBoAAACAFyQNAAAAwAuSBgAAAOAFSQMAAADwgqQBAAAAeEHSAAAAALwgaQAAAABekDQAAAAAL0gaAAAAgBckDQAAAMALkgYAAADgBUkDAAAA8IKkAQAAAHhB0gAAAAC8IGkAAAAAXpA0AAAAAC9IGgAAAICX/w9jAow12vxVFAAAAABJRU5ErkJggg==)\n"
      ],
      "metadata": {
        "id": "rV8pzhnug6Rl"
      }
    },
    {
      "cell_type": "code",
      "source": [
        "\n",
        "## Load the dataset and create a dataframe\n",
        "data_to_load = files.upload()\n",
        "df = pd.read_csv('diabetes.csv')\n",
        "df.head(10)\n",
        "\n",
        "\n",
        "## Replace the zeros with \"NaN\"\n",
        "import numpy as np\n",
        "df[[\"BMI\"]]=df[[\"BMI\"]].replace(0,np.NaN)\n",
        "df[[\"Insulin\"]]=df[[\"Insulin\"]].replace(0,np.NaN)\n",
        "\n",
        "## Replace the \"NaN\" values with the mean\n",
        "df['BMI'].fillna(df['BMI'].mean(), inplace=True)\n",
        "df['Insulin'].fillna(df['Insulin'].mean(), inplace=True)\n",
        "\n",
        "\n",
        "## Normalize the numeric features\n",
        "from sklearn.preprocessing import StandardScaler\n",
        "SC = StandardScaler()\n",
        "X_to_be_SC = df.drop(['Outcome','Social smoker','Social drinker'], axis=1)\n",
        "X_CS = SC.fit_transform(X_to_be_SC)\n",
        "X_CS\n",
        "X_to_be_SC.columns\n",
        "X_SC = pd.DataFrame(X_CS, columns=X_to_be_SC.columns)\n",
        "X_SC.head()\n",
        "\n",
        "\n",
        "## Specify the feature and target datasets [X and y]\n",
        "X = pd.concat([X_SC, df[['Social smoker','Social drinker']] ], axis=1 )\n",
        "y = df[['Outcome']]\n",
        "\n",
        "\n",
        "## Split the dataset into training, validation, and test sets  (50,30,20 ratios)\n",
        "random_state=32  # This is to make sure that each time we run the code, the same data points are asssigned to the sub-sets.\n",
        "from sklearn.model_selection import train_test_split\n",
        "X_train, X_test, y_train, y_test = train_test_split(X, y, test_size=0.2, random_state=random_state, stratify=y)\n",
        "X_train, X_valid, y_train, y_valid = train_test_split(X_train, y_train, test_size=0.3/0.8, random_state=random_state, stratify=y_train)\n",
        "# The reason that we set a value for \"stratify\" parameter is to have the same proportion of outcomes in training, validation, and test sets.\n",
        "\n",
        "print(\"The size of Training set is: %s (%.f percent of total) \" %(len(X_train),len(X_train)/len(df)*100))\n",
        "print(\"The size of Validation set is: %s (%.f percent of total) \" %(len(X_valid),len(X_valid)/len(df)*100))\n",
        "print(\"The size of Test set is: %s (%.f percent of total) \" %(len(X_test),len(X_test)/len(df)*100))\n"
      ],
      "metadata": {
        "id": "0uXkKB9plG-K",
        "colab": {
          "base_uri": "https://localhost:8080/",
          "height": 363
        },
        "outputId": "75b5a1d9-6d60-476c-9a08-e4668290c1e2"
      },
      "execution_count": null,
      "outputs": [
        {
          "output_type": "execute_result",
          "data": {
            "text/plain": [
              "   Pregnancies  Glucose  Pressure     Insulin   BMI    DPF  Age  \\\n",
              "0            0       86        68  155.362007  35.8  0.238   25   \n",
              "1            0      161        50  155.362007  21.9  0.254   65   \n",
              "2            0      121        66  165.000000  34.3  0.203   33   \n",
              "3            0      117        80   53.000000  45.2  0.089   24   \n",
              "4            0      162        76  100.000000  53.2  0.759   25   \n",
              "5            0      124        70  155.362007  27.4  0.254   36   \n",
              "6            0       93        60   92.000000  28.7  0.532   22   \n",
              "7            0       91        80  155.362007  32.4  0.601   27   \n",
              "8            0      152        82  272.000000  41.5  0.270   27   \n",
              "9            0      109        88  155.362007  32.5  0.855   38   \n",
              "\n",
              "   Social smoker  Social drinker  Outcome  \n",
              "0              1               0        0  \n",
              "1              0               1        0  \n",
              "2              0               0        1  \n",
              "3              1               1        0  \n",
              "4              1               1        1  \n",
              "5              0               0        1  \n",
              "6              1               1        0  \n",
              "7              0               1        0  \n",
              "8              0               1        0  \n",
              "9              0               0        1  "
            ],
            "text/html": [
              "\n",
              "  <div id=\"df-e92ce33e-c737-4347-82a2-85f49da18830\">\n",
              "    <div class=\"colab-df-container\">\n",
              "      <div>\n",
              "<style scoped>\n",
              "    .dataframe tbody tr th:only-of-type {\n",
              "        vertical-align: middle;\n",
              "    }\n",
              "\n",
              "    .dataframe tbody tr th {\n",
              "        vertical-align: top;\n",
              "    }\n",
              "\n",
              "    .dataframe thead th {\n",
              "        text-align: right;\n",
              "    }\n",
              "</style>\n",
              "<table border=\"1\" class=\"dataframe\">\n",
              "  <thead>\n",
              "    <tr style=\"text-align: right;\">\n",
              "      <th></th>\n",
              "      <th>Pregnancies</th>\n",
              "      <th>Glucose</th>\n",
              "      <th>Pressure</th>\n",
              "      <th>Insulin</th>\n",
              "      <th>BMI</th>\n",
              "      <th>DPF</th>\n",
              "      <th>Age</th>\n",
              "      <th>Social smoker</th>\n",
              "      <th>Social drinker</th>\n",
              "      <th>Outcome</th>\n",
              "    </tr>\n",
              "  </thead>\n",
              "  <tbody>\n",
              "    <tr>\n",
              "      <th>0</th>\n",
              "      <td>0</td>\n",
              "      <td>86</td>\n",
              "      <td>68</td>\n",
              "      <td>155.362007</td>\n",
              "      <td>35.8</td>\n",
              "      <td>0.238</td>\n",
              "      <td>25</td>\n",
              "      <td>1</td>\n",
              "      <td>0</td>\n",
              "      <td>0</td>\n",
              "    </tr>\n",
              "    <tr>\n",
              "      <th>1</th>\n",
              "      <td>0</td>\n",
              "      <td>161</td>\n",
              "      <td>50</td>\n",
              "      <td>155.362007</td>\n",
              "      <td>21.9</td>\n",
              "      <td>0.254</td>\n",
              "      <td>65</td>\n",
              "      <td>0</td>\n",
              "      <td>1</td>\n",
              "      <td>0</td>\n",
              "    </tr>\n",
              "    <tr>\n",
              "      <th>2</th>\n",
              "      <td>0</td>\n",
              "      <td>121</td>\n",
              "      <td>66</td>\n",
              "      <td>165.000000</td>\n",
              "      <td>34.3</td>\n",
              "      <td>0.203</td>\n",
              "      <td>33</td>\n",
              "      <td>0</td>\n",
              "      <td>0</td>\n",
              "      <td>1</td>\n",
              "    </tr>\n",
              "    <tr>\n",
              "      <th>3</th>\n",
              "      <td>0</td>\n",
              "      <td>117</td>\n",
              "      <td>80</td>\n",
              "      <td>53.000000</td>\n",
              "      <td>45.2</td>\n",
              "      <td>0.089</td>\n",
              "      <td>24</td>\n",
              "      <td>1</td>\n",
              "      <td>1</td>\n",
              "      <td>0</td>\n",
              "    </tr>\n",
              "    <tr>\n",
              "      <th>4</th>\n",
              "      <td>0</td>\n",
              "      <td>162</td>\n",
              "      <td>76</td>\n",
              "      <td>100.000000</td>\n",
              "      <td>53.2</td>\n",
              "      <td>0.759</td>\n",
              "      <td>25</td>\n",
              "      <td>1</td>\n",
              "      <td>1</td>\n",
              "      <td>1</td>\n",
              "    </tr>\n",
              "    <tr>\n",
              "      <th>5</th>\n",
              "      <td>0</td>\n",
              "      <td>124</td>\n",
              "      <td>70</td>\n",
              "      <td>155.362007</td>\n",
              "      <td>27.4</td>\n",
              "      <td>0.254</td>\n",
              "      <td>36</td>\n",
              "      <td>0</td>\n",
              "      <td>0</td>\n",
              "      <td>1</td>\n",
              "    </tr>\n",
              "    <tr>\n",
              "      <th>6</th>\n",
              "      <td>0</td>\n",
              "      <td>93</td>\n",
              "      <td>60</td>\n",
              "      <td>92.000000</td>\n",
              "      <td>28.7</td>\n",
              "      <td>0.532</td>\n",
              "      <td>22</td>\n",
              "      <td>1</td>\n",
              "      <td>1</td>\n",
              "      <td>0</td>\n",
              "    </tr>\n",
              "    <tr>\n",
              "      <th>7</th>\n",
              "      <td>0</td>\n",
              "      <td>91</td>\n",
              "      <td>80</td>\n",
              "      <td>155.362007</td>\n",
              "      <td>32.4</td>\n",
              "      <td>0.601</td>\n",
              "      <td>27</td>\n",
              "      <td>0</td>\n",
              "      <td>1</td>\n",
              "      <td>0</td>\n",
              "    </tr>\n",
              "    <tr>\n",
              "      <th>8</th>\n",
              "      <td>0</td>\n",
              "      <td>152</td>\n",
              "      <td>82</td>\n",
              "      <td>272.000000</td>\n",
              "      <td>41.5</td>\n",
              "      <td>0.270</td>\n",
              "      <td>27</td>\n",
              "      <td>0</td>\n",
              "      <td>1</td>\n",
              "      <td>0</td>\n",
              "    </tr>\n",
              "    <tr>\n",
              "      <th>9</th>\n",
              "      <td>0</td>\n",
              "      <td>109</td>\n",
              "      <td>88</td>\n",
              "      <td>155.362007</td>\n",
              "      <td>32.5</td>\n",
              "      <td>0.855</td>\n",
              "      <td>38</td>\n",
              "      <td>0</td>\n",
              "      <td>0</td>\n",
              "      <td>1</td>\n",
              "    </tr>\n",
              "  </tbody>\n",
              "</table>\n",
              "</div>\n",
              "      <button class=\"colab-df-convert\" onclick=\"convertToInteractive('df-e92ce33e-c737-4347-82a2-85f49da18830')\"\n",
              "              title=\"Convert this dataframe to an interactive table.\"\n",
              "              style=\"display:none;\">\n",
              "        \n",
              "  <svg xmlns=\"http://www.w3.org/2000/svg\" height=\"24px\"viewBox=\"0 0 24 24\"\n",
              "       width=\"24px\">\n",
              "    <path d=\"M0 0h24v24H0V0z\" fill=\"none\"/>\n",
              "    <path d=\"M18.56 5.44l.94 2.06.94-2.06 2.06-.94-2.06-.94-.94-2.06-.94 2.06-2.06.94zm-11 1L8.5 8.5l.94-2.06 2.06-.94-2.06-.94L8.5 2.5l-.94 2.06-2.06.94zm10 10l.94 2.06.94-2.06 2.06-.94-2.06-.94-.94-2.06-.94 2.06-2.06.94z\"/><path d=\"M17.41 7.96l-1.37-1.37c-.4-.4-.92-.59-1.43-.59-.52 0-1.04.2-1.43.59L10.3 9.45l-7.72 7.72c-.78.78-.78 2.05 0 2.83L4 21.41c.39.39.9.59 1.41.59.51 0 1.02-.2 1.41-.59l7.78-7.78 2.81-2.81c.8-.78.8-2.07 0-2.86zM5.41 20L4 18.59l7.72-7.72 1.47 1.35L5.41 20z\"/>\n",
              "  </svg>\n",
              "      </button>\n",
              "      \n",
              "  <style>\n",
              "    .colab-df-container {\n",
              "      display:flex;\n",
              "      flex-wrap:wrap;\n",
              "      gap: 12px;\n",
              "    }\n",
              "\n",
              "    .colab-df-convert {\n",
              "      background-color: #E8F0FE;\n",
              "      border: none;\n",
              "      border-radius: 50%;\n",
              "      cursor: pointer;\n",
              "      display: none;\n",
              "      fill: #1967D2;\n",
              "      height: 32px;\n",
              "      padding: 0 0 0 0;\n",
              "      width: 32px;\n",
              "    }\n",
              "\n",
              "    .colab-df-convert:hover {\n",
              "      background-color: #E2EBFA;\n",
              "      box-shadow: 0px 1px 2px rgba(60, 64, 67, 0.3), 0px 1px 3px 1px rgba(60, 64, 67, 0.15);\n",
              "      fill: #174EA6;\n",
              "    }\n",
              "\n",
              "    [theme=dark] .colab-df-convert {\n",
              "      background-color: #3B4455;\n",
              "      fill: #D2E3FC;\n",
              "    }\n",
              "\n",
              "    [theme=dark] .colab-df-convert:hover {\n",
              "      background-color: #434B5C;\n",
              "      box-shadow: 0px 1px 3px 1px rgba(0, 0, 0, 0.15);\n",
              "      filter: drop-shadow(0px 1px 2px rgba(0, 0, 0, 0.3));\n",
              "      fill: #FFFFFF;\n",
              "    }\n",
              "  </style>\n",
              "\n",
              "      <script>\n",
              "        const buttonEl =\n",
              "          document.querySelector('#df-e92ce33e-c737-4347-82a2-85f49da18830 button.colab-df-convert');\n",
              "        buttonEl.style.display =\n",
              "          google.colab.kernel.accessAllowed ? 'block' : 'none';\n",
              "\n",
              "        async function convertToInteractive(key) {\n",
              "          const element = document.querySelector('#df-e92ce33e-c737-4347-82a2-85f49da18830');\n",
              "          const dataTable =\n",
              "            await google.colab.kernel.invokeFunction('convertToInteractive',\n",
              "                                                     [key], {});\n",
              "          if (!dataTable) return;\n",
              "\n",
              "          const docLinkHtml = 'Like what you see? Visit the ' +\n",
              "            '<a target=\"_blank\" href=https://colab.research.google.com/notebooks/data_table.ipynb>data table notebook</a>'\n",
              "            + ' to learn more about interactive tables.';\n",
              "          element.innerHTML = '';\n",
              "          dataTable['output_type'] = 'display_data';\n",
              "          await google.colab.output.renderOutput(dataTable, element);\n",
              "          const docLink = document.createElement('div');\n",
              "          docLink.innerHTML = docLinkHtml;\n",
              "          element.appendChild(docLink);\n",
              "        }\n",
              "      </script>\n",
              "    </div>\n",
              "  </div>\n",
              "  "
            ]
          },
          "metadata": {},
          "execution_count": 149
        }
      ]
    },
    {
      "cell_type": "code",
      "source": [
        "from sklearn.linear_model import LogisticRegression\n",
        "from sklearn.naive_bayes import GaussianNB"
      ],
      "metadata": {
        "id": "UuYOeinlsx9r"
      },
      "execution_count": null,
      "outputs": []
    },
    {
      "cell_type": "code",
      "source": [
        "\n",
        "## Hyper-parameter tuning\n",
        "c_set = np.logspace(-2, 2, 10)\n",
        "\n",
        "Valid_Acc_list = []\n",
        "for c in c_set:\n",
        "    LR = LogisticRegression(C = c, random_state=0)\n",
        "    LR.fit(X_train, np.ravel(y_train))\n",
        "    Valid_Acc_list.append(LR.score(X_valid, y_valid))\n",
        "\n",
        "best_param = c_set[np.argmax(Valid_Acc_list)]\n",
        "best_valid_acc = max(Valid_Acc_list)\n",
        "\n",
        "print(round(best_param, 5) , round(best_valid_acc, 5))"
      ],
      "metadata": {
        "id": "cymxpwt2K1xp",
        "colab": {
          "base_uri": "https://localhost:8080/"
        },
        "outputId": "d0cab1ef-e747-4dc0-8d1c-a061ace44a9c"
      },
      "execution_count": null,
      "outputs": [
        {
          "output_type": "stream",
          "name": "stdout",
          "text": [
            "0.07743 0.76667\n"
          ]
        }
      ]
    },
    {
      "cell_type": "code",
      "source": [
        "## initialize the validated model\n",
        "LR = LogisticRegression(C = best_param, random_state=0)\n",
        "gnb = GaussianNB()\n",
        "\n",
        "\n",
        "## Re-train the validated model on the training set\n",
        "LR.fit(X_train, np.ravel(y_train))\n",
        "gnb.fit(X_train, np.ravel(y_train))\n",
        "\n",
        "## Evaluate the model on test set\n",
        "y_pred_LR = LR.predict(X_test)\n",
        "y_pred_gnb = gnb.predict(X_test)\n",
        "\n",
        "\n",
        "LR.predict_proba(X_test)\n",
        "\n",
        "accuracy_LR = LR.score(X_test,y_test)\n",
        "accuracy_gnb = gnb.score(X_test,y_test)\n",
        "\n",
        "from sklearn.metrics import confusion_matrix, classification_report\n",
        "print(confusion_matrix(y_test, y_pred_LR))\n",
        "print(classification_report(y_test, y_pred_LR))\n",
        "print(confusion_matrix(y_test, y_pred_gnb))\n",
        "print(classification_report(y_test, y_pred_gnb))\n"
      ],
      "metadata": {
        "id": "9njXIrgwlyzJ",
        "colab": {
          "base_uri": "https://localhost:8080/"
        },
        "outputId": "e089cccc-1b0c-4f5f-abaf-4a8c6dc16844"
      },
      "execution_count": null,
      "outputs": [
        {
          "output_type": "stream",
          "name": "stdout",
          "text": [
            "[[65  2]\n",
            " [14 19]]\n",
            "              precision    recall  f1-score   support\n",
            "\n",
            "           0       0.82      0.97      0.89        67\n",
            "           1       0.90      0.58      0.70        33\n",
            "\n",
            "    accuracy                           0.84       100\n",
            "   macro avg       0.86      0.77      0.80       100\n",
            "weighted avg       0.85      0.84      0.83       100\n",
            "\n",
            "[[61  6]\n",
            " [13 20]]\n",
            "              precision    recall  f1-score   support\n",
            "\n",
            "           0       0.82      0.91      0.87        67\n",
            "           1       0.77      0.61      0.68        33\n",
            "\n",
            "    accuracy                           0.81       100\n",
            "   macro avg       0.80      0.76      0.77       100\n",
            "weighted avg       0.81      0.81      0.80       100\n",
            "\n"
          ]
        }
      ]
    }
  ]
}